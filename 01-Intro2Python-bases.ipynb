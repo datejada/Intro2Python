{
 "cells": [
  {
   "cell_type": "markdown",
   "metadata": {},
   "source": [
    "# Introduccion a Python"
   ]
  },
  {
   "cell_type": "markdown",
   "metadata": {},
   "source": [
    "Este es el inicio del curso de **Python**"
   ]
  },
  {
   "cell_type": "markdown",
   "metadata": {},
   "source": [
    "## Operadores, tipos de variables y cómo asignarlas"
   ]
  },
  {
   "cell_type": "markdown",
   "metadata": {},
   "source": [
    "### Operadores aritméticos\n",
    "|Operator |Description            |Syntax|\n",
    "|:-------:|:---------------------:|:----:|\n",
    "|+        |Addition               |a + b |\n",
    "|-        |Subtraction            |a – b |\n",
    "|*        |Multiplication         |a * b |\n",
    "|/        |Division (float)       |a / b |\n",
    "|//       |Floor division         |a // b|\n",
    "|%        |Modulus (remainder)    |a % b |\n",
    "|**       |Exponentiation (power) |a ** b|"
   ]
  },
  {
   "cell_type": "markdown",
   "metadata": {},
   "source": [
    "### Operadores de comparación\n",
    "|Operator |Description              |Syntax|\n",
    "|:-------:|:-----------------------:|:----:|\n",
    "|==       |Equal                    |a == b|\n",
    "|!=       |Not equal                |a != b|\n",
    "|>        |Greater than             |a > b |\n",
    "|<        |Lower than               |a > b |\n",
    "|>=       |Greater than or equal to |a >= b|\n",
    "|<=       |Lower than or equal to   |a <= b|"
   ]
  },
  {
   "cell_type": "code",
   "execution_count": 1,
   "metadata": {},
   "outputs": [],
   "source": [
    "# definición de variables\n",
    "altura = 1.79 #m\n",
    "peso = 73.8   #kg"
   ]
  },
  {
   "cell_type": "code",
   "execution_count": 2,
   "metadata": {},
   "outputs": [
    {
     "name": "stdout",
     "output_type": "stream",
     "text": [
      "1.79\n",
      "el BMI es:  23.032988982865703 kg/m2\n"
     ]
    }
   ],
   "source": [
    "BMI = peso / altura**2\n",
    "print(altura)\n",
    "print(\"el BMI es: \", BMI, \"kg/m2\")"
   ]
  },
  {
   "cell_type": "code",
   "execution_count": 3,
   "metadata": {},
   "outputs": [
    {
     "name": "stdout",
     "output_type": "stream",
     "text": [
      "<class 'float'>\n",
      "<class 'int'>\n",
      "<class 'str'>\n",
      "<class 'bool'>\n"
     ]
    }
   ],
   "source": [
    "# tipos de variables\n",
    "print(type(BMI))   # número decimal (float)\n",
    "print(type(5))     # número entero (int)\n",
    "print(type(\"BMI\")) # un texto (str)\n",
    "print(type(True))  # tipo boolen (bool)"
   ]
  },
  {
   "cell_type": "code",
   "execution_count": 4,
   "metadata": {},
   "outputs": [
    {
     "name": "stdout",
     "output_type": "stream",
     "text": [
      "5\n",
      "abcd\n"
     ]
    }
   ],
   "source": [
    "# el tipo de variable define el comportamiento y las opciones que tengo con esa variable\n",
    "print(2+3) #suma algebraica\n",
    "print(\"ab\" + \"cd\") #concatenar texto"
   ]
  },
  {
   "cell_type": "code",
   "execution_count": 5,
   "metadata": {},
   "outputs": [],
   "source": [
    "# listas en python\n",
    "alturas = [1.79, 1.68, 1.71, 1.89]\n",
    "pesos   = [73.9, 64.1, 78.1, 80.2]"
   ]
  },
  {
   "cell_type": "code",
   "execution_count": 6,
   "metadata": {},
   "outputs": [
    {
     "name": "stdout",
     "output_type": "stream",
     "text": [
      "1.79\n",
      "[1.79, 1.68]\n",
      "1.89\n"
     ]
    }
   ],
   "source": [
    "# subconjuntos de listas\n",
    "print(alturas[0]) #Importante, los índices inician en 0\n",
    "print(alturas[0:2]) #importante, la selección es intervalo cerrado a la izq y abierto a la derecha: [)\n",
    "print(alturas[-1]) # los índices negativos, es de atrás para adelante"
   ]
  },
  {
   "cell_type": "code",
   "execution_count": 7,
   "metadata": {},
   "outputs": [
    {
     "name": "stdout",
     "output_type": "stream",
     "text": [
      "[1.79, 1.69, 1.71, 1.89]\n"
     ]
    }
   ],
   "source": [
    "# manipulación de listas\n",
    "alturas[1] = 1.69 #cambiando el segundo elemento de la lista\n",
    "print(alturas)"
   ]
  },
  {
   "cell_type": "code",
   "execution_count": 8,
   "metadata": {},
   "outputs": [
    {
     "name": "stdout",
     "output_type": "stream",
     "text": [
      "[1.79, 1.69, 1.71, 1.89, 1.76]\n"
     ]
    }
   ],
   "source": [
    "# agregar elementos\n",
    "alturas = alturas + [1.76]\n",
    "print(alturas)"
   ]
  },
  {
   "cell_type": "code",
   "execution_count": 9,
   "metadata": {},
   "outputs": [
    {
     "name": "stdout",
     "output_type": "stream",
     "text": [
      "[1.79, 1.69, 1.71, 1.89]\n"
     ]
    }
   ],
   "source": [
    "# borrar elemento\n",
    "del(alturas[-1])\n",
    "print(alturas)"
   ]
  },
  {
   "cell_type": "code",
   "execution_count": 10,
   "metadata": {},
   "outputs": [
    {
     "name": "stdout",
     "output_type": "stream",
     "text": [
      "[1.79, 1.69, 1.71, 1.89]\n",
      "[1.79, 1.69, 1.71, 1.87]\n",
      "[1.79, 1.69, 1.71, 1.87]\n"
     ]
    }
   ],
   "source": [
    "# ANTENCION: con los nombre y las copias de las listas!!!\n",
    "alturas_copia = alturas\n",
    "print(alturas_copia)\n",
    "alturas_copia[-1] = 1.87\n",
    "print(alturas_copia)\n",
    "#peligro!!!\n",
    "print(alturas) #???"
   ]
  },
  {
   "cell_type": "code",
   "execution_count": 11,
   "metadata": {},
   "outputs": [
    {
     "name": "stdout",
     "output_type": "stream",
     "text": [
      "[1.79, 1.69, 1.71, 1.87]\n",
      "[1.79, 1.69, 1.71, 1.89]\n",
      "[1.79, 1.69, 1.71, 1.87]\n"
     ]
    }
   ],
   "source": [
    "# solución\n",
    "alturas_copia = list(alturas) # otra forma de hacer una copia: alturas_copia = alturas[:]\n",
    "print(alturas_copia)\n",
    "alturas_copia[-1] = 1.89\n",
    "print(alturas_copia)\n",
    "# ya no hay peligro\n",
    "print(alturas)"
   ]
  },
  {
   "cell_type": "code",
   "execution_count": 12,
   "metadata": {},
   "outputs": [
    {
     "name": "stdout",
     "output_type": "stream",
     "text": [
      "1.87\n",
      "1.69\n"
     ]
    }
   ],
   "source": [
    "# funciones sobre las listas\n",
    "print(max(alturas))\n",
    "print(min(alturas))"
   ]
  },
  {
   "cell_type": "code",
   "execution_count": 13,
   "metadata": {},
   "outputs": [],
   "source": [
    "# librería Numpy\n",
    "# %pip install numpy #instalar la librería numpy\n",
    "import numpy as np #importar la librería/paquete/modulo..."
   ]
  },
  {
   "cell_type": "code",
   "execution_count": 14,
   "metadata": {},
   "outputs": [
    {
     "name": "stdout",
     "output_type": "stream",
     "text": [
      "[1.79 1.69 1.71 1.87]\n",
      "[73.9 64.1 78.1 80.2]\n"
     ]
    }
   ],
   "source": [
    "# definición de array en numpy (listas en numpy)\n",
    "np_alturas = np.array(alturas)\n",
    "np_pesos   = np.array(pesos)\n",
    "print(np_alturas)\n",
    "print(np_pesos)"
   ]
  },
  {
   "cell_type": "code",
   "execution_count": 15,
   "metadata": {},
   "outputs": [
    {
     "ename": "TypeError",
     "evalue": "unsupported operand type(s) for ** or pow(): 'list' and 'int'",
     "output_type": "error",
     "traceback": [
      "\u001b[1;31m---------------------------------------------------------------------------\u001b[0m",
      "\u001b[1;31mTypeError\u001b[0m                                 Traceback (most recent call last)",
      "Cell \u001b[1;32mIn[15], line 2\u001b[0m\n\u001b[0;32m      1\u001b[0m \u001b[38;5;66;03m# mediante listas\u001b[39;00m\n\u001b[1;32m----> 2\u001b[0m BMIs \u001b[38;5;241m=\u001b[39m pesos \u001b[38;5;241m/\u001b[39m \u001b[43malturas\u001b[49m\u001b[38;5;241;43m*\u001b[39;49m\u001b[38;5;241;43m*\u001b[39;49m\u001b[38;5;241;43m2\u001b[39;49m\n",
      "\u001b[1;31mTypeError\u001b[0m: unsupported operand type(s) for ** or pow(): 'list' and 'int'"
     ]
    }
   ],
   "source": [
    "# mediante listas\n",
    "BMIs = pesos / alturas**2"
   ]
  },
  {
   "cell_type": "code",
   "execution_count": 16,
   "metadata": {},
   "outputs": [
    {
     "name": "stdout",
     "output_type": "stream",
     "text": [
      "[23.064199   22.44319176 26.70907288 22.93459922]\n"
     ]
    }
   ],
   "source": [
    "# mediante numpy\n",
    "BMIs = np_pesos / np_alturas**2\n",
    "print(BMIs)"
   ]
  },
  {
   "cell_type": "code",
   "execution_count": 17,
   "metadata": {},
   "outputs": [
    {
     "name": "stdout",
     "output_type": "stream",
     "text": [
      "22.443191764994225\n",
      "[23.064199   22.44319176]\n",
      "22.934599216448852\n"
     ]
    }
   ],
   "source": [
    "# acceder a elementos de un array en numpy\n",
    "print(BMIs[1]) # el segundo valor del array\n",
    "print(BMIs[0:2]) # los dos primeros elementos del array\n",
    "print(BMIs[-1]) # último"
   ]
  },
  {
   "cell_type": "code",
   "execution_count": 18,
   "metadata": {},
   "outputs": [
    {
     "data": {
      "text/plain": [
       "array([ True, False,  True, False])"
      ]
     },
     "execution_count": 18,
     "metadata": {},
     "output_type": "execute_result"
    }
   ],
   "source": [
    "# selección basada en criterios\n",
    "BMIs > 23"
   ]
  },
  {
   "cell_type": "code",
   "execution_count": 19,
   "metadata": {},
   "outputs": [
    {
     "data": {
      "text/plain": [
       "array([23.064199  , 26.70907288])"
      ]
     },
     "execution_count": 19,
     "metadata": {},
     "output_type": "execute_result"
    }
   ],
   "source": [
    "BMIs[BMIs>23]"
   ]
  },
  {
   "cell_type": "code",
   "execution_count": 20,
   "metadata": {},
   "outputs": [
    {
     "name": "stdout",
     "output_type": "stream",
     "text": [
      "23.78776571340132\n",
      "22.99939910574323\n",
      "26.709072877124587\n",
      "22.443191764994225\n"
     ]
    }
   ],
   "source": [
    "# operaciones con Numpy\n",
    "print(np.mean(BMIs)) # valor medio\n",
    "print(np.median(BMIs)) # la mediana\n",
    "print(np.max(BMIs)) # max\n",
    "print(np.min(BMIs)) # min"
   ]
  },
  {
   "cell_type": "code",
   "execution_count": 21,
   "metadata": {},
   "outputs": [
    {
     "ename": "ValueError",
     "evalue": "The truth value of an array with more than one element is ambiguous. Use a.any() or a.all()",
     "output_type": "error",
     "traceback": [
      "\u001b[1;31m---------------------------------------------------------------------------\u001b[0m",
      "\u001b[1;31mValueError\u001b[0m                                Traceback (most recent call last)",
      "Cell \u001b[1;32mIn[21], line 2\u001b[0m\n\u001b[0;32m      1\u001b[0m \u001b[38;5;66;03m# doble condicional\u001b[39;00m\n\u001b[1;32m----> 2\u001b[0m BMIs[\u001b[43mBMIs\u001b[49m\u001b[38;5;241;43m>\u001b[39;49m\u001b[38;5;241;43m23\u001b[39;49m\u001b[43m \u001b[49m\u001b[38;5;129;43;01mand\u001b[39;49;00m\u001b[43m \u001b[49m\u001b[43mBMIs\u001b[49m\u001b[38;5;241;43m<\u001b[39;49m\u001b[38;5;241;43m25\u001b[39;49m]\n",
      "\u001b[1;31mValueError\u001b[0m: The truth value of an array with more than one element is ambiguous. Use a.any() or a.all()"
     ]
    }
   ],
   "source": [
    "# doble condicional\n",
    "BMIs[BMIs>23 and BMIs<25]"
   ]
  },
  {
   "cell_type": "code",
   "execution_count": 22,
   "metadata": {},
   "outputs": [
    {
     "data": {
      "text/plain": [
       "array([ True, False, False, False])"
      ]
     },
     "execution_count": 22,
     "metadata": {},
     "output_type": "execute_result"
    }
   ],
   "source": [
    "np.logical_and(BMIs>23,BMIs<25)"
   ]
  },
  {
   "cell_type": "code",
   "execution_count": 23,
   "metadata": {},
   "outputs": [
    {
     "data": {
      "text/plain": [
       "array([23.064199])"
      ]
     },
     "execution_count": 23,
     "metadata": {},
     "output_type": "execute_result"
    }
   ],
   "source": [
    "BMIs[np.logical_and(BMIs>23,BMIs<25)]"
   ]
  },
  {
   "cell_type": "code",
   "execution_count": null,
   "metadata": {},
   "outputs": [],
   "source": []
  }
 ],
 "metadata": {
  "kernelspec": {
   "display_name": "Python 3.9.7 ('base')",
   "language": "python",
   "name": "python3"
  },
  "language_info": {
   "codemirror_mode": {
    "name": "ipython",
    "version": 3
   },
   "file_extension": ".py",
   "mimetype": "text/x-python",
   "name": "python",
   "nbconvert_exporter": "python",
   "pygments_lexer": "ipython3",
   "version": "3.11.4"
  },
  "varInspector": {
   "cols": {
    "lenName": 16,
    "lenType": 16,
    "lenVar": 40
   },
   "kernels_config": {
    "python": {
     "delete_cmd_postfix": "",
     "delete_cmd_prefix": "del ",
     "library": "var_list.py",
     "varRefreshCmd": "print(var_dic_list())"
    },
    "r": {
     "delete_cmd_postfix": ") ",
     "delete_cmd_prefix": "rm(",
     "library": "var_list.r",
     "varRefreshCmd": "cat(var_dic_list()) "
    }
   },
   "types_to_exclude": [
    "module",
    "function",
    "builtin_function_or_method",
    "instance",
    "_Feature"
   ],
   "window_display": false
  },
  "vscode": {
   "interpreter": {
    "hash": "46a03d00e8bf03b81df85e7224fff2d455c2e10c7ddc5145f710206829265f5a"
   }
  }
 },
 "nbformat": 4,
 "nbformat_minor": 4
}
