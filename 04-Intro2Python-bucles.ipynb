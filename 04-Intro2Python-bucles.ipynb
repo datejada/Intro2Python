{
 "cells": [
  {
   "cell_type": "markdown",
   "metadata": {
    "slideshow": {
     "slide_type": "slide"
    }
   },
   "source": [
    "## Decisión: If"
   ]
  },
  {
   "cell_type": "code",
   "execution_count": 1,
   "metadata": {
    "slideshow": {
     "slide_type": "subslide"
    },
    "tags": []
   },
   "outputs": [
    {
     "name": "stdout",
     "output_type": "stream",
     "text": [
      "Es cierto\n",
      "Valores de las variables:  9.2 , 123\n",
      "Las variables x e y no son iguales\n",
      "Las variables no son iguales\n"
     ]
    }
   ],
   "source": [
    "#if básico\n",
    "if (7 > 3):\n",
    "    print(\"Es cierto\")\n",
    "\n",
    "y = 123\n",
    "x = 9.2\n",
    "\n",
    "print(\"Valores de las variables: \",x,\",\",y)\n",
    "\n",
    "#If con else\n",
    "if (x == y):\n",
    "    print(\"Las variables son iguales\")\n",
    "else:\n",
    "    print(\"Las variables x e y no son iguales\")\n",
    "    \n",
    "#Ifs anidados:\n",
    "if (x != y):\n",
    "    print(\"Las variables no son iguales\")\n",
    "elif (x>y):\n",
    "    print(\"La variables x es mayor que y\")\n",
    "else:\n",
    "    print(\"Otros casos\")"
   ]
  },
  {
   "cell_type": "markdown",
   "metadata": {
    "slideshow": {
     "slide_type": "slide"
    }
   },
   "source": [
    "## Bucles"
   ]
  },
  {
   "cell_type": "code",
   "execution_count": 2,
   "metadata": {
    "slideshow": {
     "slide_type": "subslide"
    },
    "tags": []
   },
   "outputs": [
    {
     "name": "stdout",
     "output_type": "stream",
     "text": [
      "1\n",
      "2\n",
      "3\n",
      "4\n",
      "5\n",
      "6\n",
      "9\n",
      "8\n",
      "5\n",
      "Queremos repetir un bucle 7 veces\n",
      "0 --> 2\n",
      "1 --> 4\n",
      "2 --> 6\n",
      "3 --> 8\n",
      "4 --> 10\n",
      "5 --> 12\n",
      "6 --> 14\n",
      "117\n"
     ]
    }
   ],
   "source": [
    "# While\n",
    "a = 1\n",
    "while (a < 7):\n",
    "    print(a)\n",
    "    a = a + 1\n",
    "    \n",
    "# Bucles for, muy interesantes en Python\n",
    "for i in [9,8,5]:\n",
    "    print(i)\n",
    "\n",
    "print(\"Queremos repetir un bucle 7 veces\")\n",
    "a = 0\n",
    "for i in range(7):\n",
    "    a = a + 2\n",
    "    print(i,\"-->\",a)\n",
    "    \n",
    "suma = 0\n",
    "for i in range(3,16):    # del 3 al 15 de uno en uno, el último valor nunca se alcanza\n",
    "    suma = suma + i\n",
    "print(suma)"
   ]
  },
  {
   "cell_type": "markdown",
   "metadata": {},
   "source": [
    "## Comprehensions"
   ]
  },
  {
   "cell_type": "code",
   "execution_count": 6,
   "metadata": {},
   "outputs": [
    {
     "data": {
      "text/plain": [
       "[3, 4, 5, 6, 7, 8, 9, 10, 11, 12, 13, 14, 15]"
      ]
     },
     "execution_count": 6,
     "metadata": {},
     "output_type": "execute_result"
    }
   ],
   "source": [
    "# ejemplo de list comprehension\n",
    "lista = [i for i in range(3,16)]\n",
    "lista"
   ]
  },
  {
   "cell_type": "code",
   "execution_count": 7,
   "metadata": {},
   "outputs": [
    {
     "data": {
      "text/plain": [
       "[4, 6, 8, 10, 12, 14]"
      ]
     },
     "execution_count": 7,
     "metadata": {},
     "output_type": "execute_result"
    }
   ],
   "source": [
    "# ejemplo de list comprehension con condición\n",
    "lista = [i for i in range(3,16) if i%2==0]\n",
    "lista"
   ]
  },
  {
   "cell_type": "code",
   "execution_count": 9,
   "metadata": {},
   "outputs": [
    {
     "data": {
      "text/plain": [
       "{'n4': 16, 'n6': 36, 'n8': 64, 'n10': 100, 'n12': 144, 'n14': 196}"
      ]
     },
     "execution_count": 9,
     "metadata": {},
     "output_type": "execute_result"
    }
   ],
   "source": [
    "# ejemplo de diccionario comprehension con condición\n",
    "diccionario = {('n'+str(i)):i**2 for i in range(3,16) if i%2==0}\n",
    "diccionario"
   ]
  },
  {
   "cell_type": "markdown",
   "metadata": {
    "slideshow": {
     "slide_type": "slide"
    }
   },
   "source": [
    "## Funciones"
   ]
  },
  {
   "cell_type": "code",
   "execution_count": 3,
   "metadata": {
    "slideshow": {
     "slide_type": "subslide"
    },
    "tags": []
   },
   "outputs": [
    {
     "name": "stdout",
     "output_type": "stream",
     "text": [
      "Suma de los primeros 5 números enteros vale 15\n",
      "Suma de los primeros 20 números enteros vale 210\n",
      "El valor de la suma de los 25 primeros enteros es 325\n",
      "\n"
     ]
    }
   ],
   "source": [
    "#### Las funciones se definen usando \"def\" y devuelven el valor dado por \"return\"\n",
    "def suma(limite):       \n",
    "    suma = 0\n",
    "    for i in range(1,limite+1):    \n",
    "        suma = suma + i\n",
    "    return(suma)            \n",
    "\n",
    "print(\"Suma de los primeros 5 números enteros vale\",suma(5))\n",
    "print(\"Suma de los primeros 20 números enteros vale\",suma(20))\n",
    "\n",
    "valor_suma = 0\n",
    "while (valor_suma < 20):\n",
    "    num_enteros = int(input(\"¿Cuántos de los primeros enteros quieres que sume? \"))\n",
    "    valor_suma = suma(num_enteros)\n",
    "    print(\"El valor de la suma de los\",num_enteros,\"primeros enteros es\",valor_suma)\n",
    "    print()"
   ]
  },
  {
   "cell_type": "code",
   "execution_count": 4,
   "metadata": {
    "tags": []
   },
   "outputs": [
    {
     "name": "stdout",
     "output_type": "stream",
     "text": [
      "1\n",
      "1\n"
     ]
    }
   ],
   "source": [
    "def resta(x,y):\n",
    "    return x-y\n",
    "\n",
    "print(resta(4,3))\n",
    "print(resta(y=3,x=4))"
   ]
  },
  {
   "cell_type": "markdown",
   "metadata": {},
   "source": [
    "## Función Lambda"
   ]
  },
  {
   "cell_type": "code",
   "execution_count": 10,
   "metadata": {},
   "outputs": [
    {
     "data": {
      "text/plain": [
       "1"
      ]
     },
     "execution_count": 10,
     "metadata": {},
     "output_type": "execute_result"
    }
   ],
   "source": [
    "# ejemplo de funcion lambda\n",
    "resta = lambda x,y: x-y\n",
    "resta(4,3)"
   ]
  },
  {
   "cell_type": "code",
   "execution_count": 12,
   "metadata": {},
   "outputs": [
    {
     "data": {
      "text/plain": [
       "4"
      ]
     },
     "execution_count": 12,
     "metadata": {},
     "output_type": "execute_result"
    }
   ],
   "source": [
    "# ejemplo de función con parámetros por defecto usando lambda\n",
    "resta = lambda x=0,y=0: x-y\n",
    "resta(4)"
   ]
  },
  {
   "cell_type": "code",
   "execution_count": 18,
   "metadata": {},
   "outputs": [
    {
     "data": {
      "text/plain": [
       "[2, 3, 4, 5, 6, 7, 8, 9, 10, 11, 12, 13, 14]"
      ]
     },
     "execution_count": 18,
     "metadata": {},
     "output_type": "execute_result"
    }
   ],
   "source": [
    "# ejemplo de función lambda con list comprehension\n",
    "lista = [resta(i,1) for i in range(3,16)]\n",
    "lista"
   ]
  },
  {
   "cell_type": "code",
   "execution_count": 20,
   "metadata": {},
   "outputs": [
    {
     "data": {
      "text/plain": [
       "[2, 3, 4, 5, 6, 7, 8, 9, 10, 11, 12, 13, 14]"
      ]
     },
     "execution_count": 20,
     "metadata": {},
     "output_type": "execute_result"
    }
   ],
   "source": [
    "# ejemplo de función lambda dentro del list comprehension\n",
    "lista = [(lambda x: x-1)(i) for i in range(3,16)]\n",
    "lista\n"
   ]
  }
 ],
 "metadata": {
  "celltoolbar": "Slideshow",
  "kernelspec": {
   "display_name": "Python 3.9.7 ('base')",
   "language": "python",
   "name": "python3"
  },
  "language_info": {
   "codemirror_mode": {
    "name": "ipython",
    "version": 3
   },
   "file_extension": ".py",
   "mimetype": "text/x-python",
   "name": "python",
   "nbconvert_exporter": "python",
   "pygments_lexer": "ipython3",
   "version": "3.11.4"
  },
  "rise": {
   "enable_chalkboard": true
  },
  "varInspector": {
   "cols": {
    "lenName": 16,
    "lenType": 16,
    "lenVar": 40
   },
   "kernels_config": {
    "python": {
     "delete_cmd_postfix": "",
     "delete_cmd_prefix": "del ",
     "library": "var_list.py",
     "varRefreshCmd": "print(var_dic_list())"
    },
    "r": {
     "delete_cmd_postfix": ") ",
     "delete_cmd_prefix": "rm(",
     "library": "var_list.r",
     "varRefreshCmd": "cat(var_dic_list()) "
    }
   },
   "types_to_exclude": [
    "module",
    "function",
    "builtin_function_or_method",
    "instance",
    "_Feature"
   ],
   "window_display": false
  },
  "vscode": {
   "interpreter": {
    "hash": "46a03d00e8bf03b81df85e7224fff2d455c2e10c7ddc5145f710206829265f5a"
   }
  }
 },
 "nbformat": 4,
 "nbformat_minor": 4
}
