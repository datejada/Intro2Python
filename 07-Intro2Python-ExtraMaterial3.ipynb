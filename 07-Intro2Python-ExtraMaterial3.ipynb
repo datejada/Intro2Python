{
 "cells": [
  {
   "cell_type": "code",
   "execution_count": 1,
   "metadata": {},
   "outputs": [],
   "source": [
    "# import packages\n",
    "import pandas as pd\n",
    "import plotly.express as px"
   ]
  },
  {
   "cell_type": "code",
   "execution_count": 2,
   "metadata": {},
   "outputs": [
    {
     "data": {
      "text/html": [
       "<div>\n",
       "<style scoped>\n",
       "    .dataframe tbody tr th:only-of-type {\n",
       "        vertical-align: middle;\n",
       "    }\n",
       "\n",
       "    .dataframe tbody tr th {\n",
       "        vertical-align: top;\n",
       "    }\n",
       "\n",
       "    .dataframe thead th {\n",
       "        text-align: right;\n",
       "    }\n",
       "</style>\n",
       "<table border=\"1\" class=\"dataframe\">\n",
       "  <thead>\n",
       "    <tr style=\"text-align: right;\">\n",
       "      <th></th>\n",
       "      <th>State</th>\n",
       "      <th>Sub-Category</th>\n",
       "      <th>Category</th>\n",
       "      <th>City</th>\n",
       "      <th>Country</th>\n",
       "      <th>Customer ID</th>\n",
       "      <th>Customer Name</th>\n",
       "      <th>Order Date</th>\n",
       "      <th>Order ID</th>\n",
       "      <th>Postal Code</th>\n",
       "      <th>...</th>\n",
       "      <th>Region</th>\n",
       "      <th>Row ID</th>\n",
       "      <th>Segment</th>\n",
       "      <th>Ship Date</th>\n",
       "      <th>Ship Mode</th>\n",
       "      <th>Discount</th>\n",
       "      <th>Number of Records</th>\n",
       "      <th>Profit</th>\n",
       "      <th>Quantity</th>\n",
       "      <th>Sales</th>\n",
       "    </tr>\n",
       "  </thead>\n",
       "  <tbody>\n",
       "    <tr>\n",
       "      <th>0</th>\n",
       "      <td>Texas</td>\n",
       "      <td>Paper</td>\n",
       "      <td>Office Supplies</td>\n",
       "      <td>Houston</td>\n",
       "      <td>United States</td>\n",
       "      <td>DP-13000</td>\n",
       "      <td>Darren Powers</td>\n",
       "      <td>2013-01-03</td>\n",
       "      <td>CA-2011-103800</td>\n",
       "      <td>77095</td>\n",
       "      <td>...</td>\n",
       "      <td>Central</td>\n",
       "      <td>7981</td>\n",
       "      <td>Consumer</td>\n",
       "      <td>2013-01-07</td>\n",
       "      <td>Standard Class</td>\n",
       "      <td>0.2</td>\n",
       "      <td>1</td>\n",
       "      <td>5.5512</td>\n",
       "      <td>2</td>\n",
       "      <td>16.448</td>\n",
       "    </tr>\n",
       "    <tr>\n",
       "      <th>1</th>\n",
       "      <td>Illinois</td>\n",
       "      <td>Binders</td>\n",
       "      <td>Office Supplies</td>\n",
       "      <td>Naperville</td>\n",
       "      <td>United States</td>\n",
       "      <td>PO-19195</td>\n",
       "      <td>Phillina Ober</td>\n",
       "      <td>2013-01-04</td>\n",
       "      <td>CA-2011-112326</td>\n",
       "      <td>60540</td>\n",
       "      <td>...</td>\n",
       "      <td>Central</td>\n",
       "      <td>742</td>\n",
       "      <td>Home Office</td>\n",
       "      <td>2013-01-08</td>\n",
       "      <td>Standard Class</td>\n",
       "      <td>0.8</td>\n",
       "      <td>1</td>\n",
       "      <td>-5.4870</td>\n",
       "      <td>2</td>\n",
       "      <td>3.540</td>\n",
       "    </tr>\n",
       "    <tr>\n",
       "      <th>2</th>\n",
       "      <td>Illinois</td>\n",
       "      <td>Labels</td>\n",
       "      <td>Office Supplies</td>\n",
       "      <td>Naperville</td>\n",
       "      <td>United States</td>\n",
       "      <td>PO-19195</td>\n",
       "      <td>Phillina Ober</td>\n",
       "      <td>2013-01-04</td>\n",
       "      <td>CA-2011-112326</td>\n",
       "      <td>60540</td>\n",
       "      <td>...</td>\n",
       "      <td>Central</td>\n",
       "      <td>740</td>\n",
       "      <td>Home Office</td>\n",
       "      <td>2013-01-08</td>\n",
       "      <td>Standard Class</td>\n",
       "      <td>0.2</td>\n",
       "      <td>1</td>\n",
       "      <td>4.2717</td>\n",
       "      <td>3</td>\n",
       "      <td>11.784</td>\n",
       "    </tr>\n",
       "    <tr>\n",
       "      <th>3</th>\n",
       "      <td>Illinois</td>\n",
       "      <td>Storage</td>\n",
       "      <td>Office Supplies</td>\n",
       "      <td>Naperville</td>\n",
       "      <td>United States</td>\n",
       "      <td>PO-19195</td>\n",
       "      <td>Phillina Ober</td>\n",
       "      <td>2013-01-04</td>\n",
       "      <td>CA-2011-112326</td>\n",
       "      <td>60540</td>\n",
       "      <td>...</td>\n",
       "      <td>Central</td>\n",
       "      <td>741</td>\n",
       "      <td>Home Office</td>\n",
       "      <td>2013-01-08</td>\n",
       "      <td>Standard Class</td>\n",
       "      <td>0.2</td>\n",
       "      <td>1</td>\n",
       "      <td>-64.7748</td>\n",
       "      <td>3</td>\n",
       "      <td>272.736</td>\n",
       "    </tr>\n",
       "    <tr>\n",
       "      <th>4</th>\n",
       "      <td>Pennsylvania</td>\n",
       "      <td>Art</td>\n",
       "      <td>Office Supplies</td>\n",
       "      <td>Philadelphia</td>\n",
       "      <td>United States</td>\n",
       "      <td>MB-18085</td>\n",
       "      <td>Mick Brown</td>\n",
       "      <td>2013-01-05</td>\n",
       "      <td>CA-2011-141817</td>\n",
       "      <td>19143</td>\n",
       "      <td>...</td>\n",
       "      <td>East</td>\n",
       "      <td>1760</td>\n",
       "      <td>Consumer</td>\n",
       "      <td>2013-01-12</td>\n",
       "      <td>Standard Class</td>\n",
       "      <td>0.2</td>\n",
       "      <td>1</td>\n",
       "      <td>4.8840</td>\n",
       "      <td>3</td>\n",
       "      <td>19.536</td>\n",
       "    </tr>\n",
       "    <tr>\n",
       "      <th>...</th>\n",
       "      <td>...</td>\n",
       "      <td>...</td>\n",
       "      <td>...</td>\n",
       "      <td>...</td>\n",
       "      <td>...</td>\n",
       "      <td>...</td>\n",
       "      <td>...</td>\n",
       "      <td>...</td>\n",
       "      <td>...</td>\n",
       "      <td>...</td>\n",
       "      <td>...</td>\n",
       "      <td>...</td>\n",
       "      <td>...</td>\n",
       "      <td>...</td>\n",
       "      <td>...</td>\n",
       "      <td>...</td>\n",
       "      <td>...</td>\n",
       "      <td>...</td>\n",
       "      <td>...</td>\n",
       "      <td>...</td>\n",
       "      <td>...</td>\n",
       "    </tr>\n",
       "    <tr>\n",
       "      <th>9989</th>\n",
       "      <td>Colorado</td>\n",
       "      <td>Fasteners</td>\n",
       "      <td>Office Supplies</td>\n",
       "      <td>Loveland</td>\n",
       "      <td>United States</td>\n",
       "      <td>JM-15580</td>\n",
       "      <td>Jill Matthias</td>\n",
       "      <td>2016-12-30</td>\n",
       "      <td>CA-2014-156720</td>\n",
       "      <td>80538</td>\n",
       "      <td>...</td>\n",
       "      <td>West</td>\n",
       "      <td>5092</td>\n",
       "      <td>Consumer</td>\n",
       "      <td>2017-01-03</td>\n",
       "      <td>Standard Class</td>\n",
       "      <td>0.2</td>\n",
       "      <td>1</td>\n",
       "      <td>-0.6048</td>\n",
       "      <td>3</td>\n",
       "      <td>3.024</td>\n",
       "    </tr>\n",
       "    <tr>\n",
       "      <th>9990</th>\n",
       "      <td>California</td>\n",
       "      <td>Binders</td>\n",
       "      <td>Office Supplies</td>\n",
       "      <td>Fairfield</td>\n",
       "      <td>United States</td>\n",
       "      <td>EB-13975</td>\n",
       "      <td>Erica Bern</td>\n",
       "      <td>2016-12-30</td>\n",
       "      <td>CA-2014-115427</td>\n",
       "      <td>94533</td>\n",
       "      <td>...</td>\n",
       "      <td>West</td>\n",
       "      <td>1297</td>\n",
       "      <td>Corporate</td>\n",
       "      <td>2017-01-03</td>\n",
       "      <td>Standard Class</td>\n",
       "      <td>0.2</td>\n",
       "      <td>1</td>\n",
       "      <td>4.5188</td>\n",
       "      <td>2</td>\n",
       "      <td>13.904</td>\n",
       "    </tr>\n",
       "    <tr>\n",
       "      <th>9991</th>\n",
       "      <td>California</td>\n",
       "      <td>Binders</td>\n",
       "      <td>Office Supplies</td>\n",
       "      <td>Fairfield</td>\n",
       "      <td>United States</td>\n",
       "      <td>EB-13975</td>\n",
       "      <td>Erica Bern</td>\n",
       "      <td>2016-12-30</td>\n",
       "      <td>CA-2014-115427</td>\n",
       "      <td>94533</td>\n",
       "      <td>...</td>\n",
       "      <td>West</td>\n",
       "      <td>1298</td>\n",
       "      <td>Corporate</td>\n",
       "      <td>2017-01-03</td>\n",
       "      <td>Standard Class</td>\n",
       "      <td>0.2</td>\n",
       "      <td>1</td>\n",
       "      <td>6.4750</td>\n",
       "      <td>2</td>\n",
       "      <td>20.720</td>\n",
       "    </tr>\n",
       "    <tr>\n",
       "      <th>9992</th>\n",
       "      <td>New York</td>\n",
       "      <td>Phones</td>\n",
       "      <td>Technology</td>\n",
       "      <td>New York City</td>\n",
       "      <td>United States</td>\n",
       "      <td>PO-18865</td>\n",
       "      <td>Patrick O'Donnell</td>\n",
       "      <td>2016-12-30</td>\n",
       "      <td>CA-2014-143259</td>\n",
       "      <td>10009</td>\n",
       "      <td>...</td>\n",
       "      <td>East</td>\n",
       "      <td>908</td>\n",
       "      <td>Consumer</td>\n",
       "      <td>2017-01-03</td>\n",
       "      <td>Standard Class</td>\n",
       "      <td>0.0</td>\n",
       "      <td>1</td>\n",
       "      <td>2.7279</td>\n",
       "      <td>7</td>\n",
       "      <td>90.930</td>\n",
       "    </tr>\n",
       "    <tr>\n",
       "      <th>9993</th>\n",
       "      <td>Indiana</td>\n",
       "      <td>Appliances</td>\n",
       "      <td>Office Supplies</td>\n",
       "      <td>Columbus</td>\n",
       "      <td>United States</td>\n",
       "      <td>CC-12430</td>\n",
       "      <td>Chuck Clark</td>\n",
       "      <td>2016-12-30</td>\n",
       "      <td>CA-2014-126221</td>\n",
       "      <td>47201</td>\n",
       "      <td>...</td>\n",
       "      <td>Central</td>\n",
       "      <td>646</td>\n",
       "      <td>Home Office</td>\n",
       "      <td>2017-01-05</td>\n",
       "      <td>Standard Class</td>\n",
       "      <td>0.0</td>\n",
       "      <td>1</td>\n",
       "      <td>56.5110</td>\n",
       "      <td>2</td>\n",
       "      <td>209.300</td>\n",
       "    </tr>\n",
       "  </tbody>\n",
       "</table>\n",
       "<p>9994 rows × 22 columns</p>\n",
       "</div>"
      ],
      "text/plain": [
       "             State Sub-Category         Category           City  \\\n",
       "0            Texas        Paper  Office Supplies        Houston   \n",
       "1         Illinois      Binders  Office Supplies     Naperville   \n",
       "2         Illinois       Labels  Office Supplies     Naperville   \n",
       "3         Illinois      Storage  Office Supplies     Naperville   \n",
       "4     Pennsylvania          Art  Office Supplies   Philadelphia   \n",
       "...            ...          ...              ...            ...   \n",
       "9989      Colorado    Fasteners  Office Supplies       Loveland   \n",
       "9990    California      Binders  Office Supplies      Fairfield   \n",
       "9991    California      Binders  Office Supplies      Fairfield   \n",
       "9992      New York       Phones       Technology  New York City   \n",
       "9993       Indiana   Appliances  Office Supplies       Columbus   \n",
       "\n",
       "            Country Customer ID      Customer Name Order Date        Order ID  \\\n",
       "0     United States    DP-13000      Darren Powers 2013-01-03  CA-2011-103800   \n",
       "1     United States    PO-19195      Phillina Ober 2013-01-04  CA-2011-112326   \n",
       "2     United States    PO-19195      Phillina Ober 2013-01-04  CA-2011-112326   \n",
       "3     United States    PO-19195      Phillina Ober 2013-01-04  CA-2011-112326   \n",
       "4     United States    MB-18085         Mick Brown 2013-01-05  CA-2011-141817   \n",
       "...             ...         ...                ...        ...             ...   \n",
       "9989  United States    JM-15580      Jill Matthias 2016-12-30  CA-2014-156720   \n",
       "9990  United States    EB-13975         Erica Bern 2016-12-30  CA-2014-115427   \n",
       "9991  United States    EB-13975         Erica Bern 2016-12-30  CA-2014-115427   \n",
       "9992  United States    PO-18865  Patrick O'Donnell 2016-12-30  CA-2014-143259   \n",
       "9993  United States    CC-12430        Chuck Clark 2016-12-30  CA-2014-126221   \n",
       "\n",
       "      Postal Code  ...   Region Row ID      Segment  Ship Date  \\\n",
       "0           77095  ...  Central   7981     Consumer 2013-01-07   \n",
       "1           60540  ...  Central    742  Home Office 2013-01-08   \n",
       "2           60540  ...  Central    740  Home Office 2013-01-08   \n",
       "3           60540  ...  Central    741  Home Office 2013-01-08   \n",
       "4           19143  ...     East   1760     Consumer 2013-01-12   \n",
       "...           ...  ...      ...    ...          ...        ...   \n",
       "9989        80538  ...     West   5092     Consumer 2017-01-03   \n",
       "9990        94533  ...     West   1297    Corporate 2017-01-03   \n",
       "9991        94533  ...     West   1298    Corporate 2017-01-03   \n",
       "9992        10009  ...     East    908     Consumer 2017-01-03   \n",
       "9993        47201  ...  Central    646  Home Office 2017-01-05   \n",
       "\n",
       "           Ship Mode Discount Number of Records   Profit  Quantity    Sales  \n",
       "0     Standard Class      0.2                 1   5.5512         2   16.448  \n",
       "1     Standard Class      0.8                 1  -5.4870         2    3.540  \n",
       "2     Standard Class      0.2                 1   4.2717         3   11.784  \n",
       "3     Standard Class      0.2                 1 -64.7748         3  272.736  \n",
       "4     Standard Class      0.2                 1   4.8840         3   19.536  \n",
       "...              ...      ...               ...      ...       ...      ...  \n",
       "9989  Standard Class      0.2                 1  -0.6048         3    3.024  \n",
       "9990  Standard Class      0.2                 1   4.5188         2   13.904  \n",
       "9991  Standard Class      0.2                 1   6.4750         2   20.720  \n",
       "9992  Standard Class      0.0                 1   2.7279         7   90.930  \n",
       "9993  Standard Class      0.0                 1  56.5110         2  209.300  \n",
       "\n",
       "[9994 rows x 22 columns]"
      ]
     },
     "execution_count": 2,
     "metadata": {},
     "output_type": "execute_result"
    }
   ],
   "source": [
    "# read the dataset\n",
    "df = pd.read_excel('./datasets/store.xlsx')\n",
    "df"
   ]
  },
  {
   "cell_type": "code",
   "execution_count": 3,
   "metadata": {},
   "outputs": [
    {
     "name": "stdout",
     "output_type": "stream",
     "text": [
      "<class 'pandas.core.frame.DataFrame'>\n",
      "RangeIndex: 9994 entries, 0 to 9993\n",
      "Data columns (total 22 columns):\n",
      " #   Column             Non-Null Count  Dtype         \n",
      "---  ------             --------------  -----         \n",
      " 0   State              9994 non-null   object        \n",
      " 1   Sub-Category       9994 non-null   object        \n",
      " 2   Category           9994 non-null   object        \n",
      " 3   City               9994 non-null   object        \n",
      " 4   Country            9994 non-null   object        \n",
      " 5   Customer ID        9994 non-null   object        \n",
      " 6   Customer Name      9994 non-null   object        \n",
      " 7   Order Date         9994 non-null   datetime64[ns]\n",
      " 8   Order ID           9994 non-null   object        \n",
      " 9   Postal Code        9994 non-null   int64         \n",
      " 10  Product ID         9994 non-null   object        \n",
      " 11  Product Name       9994 non-null   object        \n",
      " 12  Region             9994 non-null   object        \n",
      " 13  Row ID             9994 non-null   int64         \n",
      " 14  Segment            9994 non-null   object        \n",
      " 15  Ship Date          9994 non-null   datetime64[ns]\n",
      " 16  Ship Mode          9994 non-null   object        \n",
      " 17  Discount           9994 non-null   float64       \n",
      " 18  Number of Records  9994 non-null   int64         \n",
      " 19  Profit             9994 non-null   float64       \n",
      " 20  Quantity           9994 non-null   int64         \n",
      " 21  Sales              9994 non-null   float64       \n",
      "dtypes: datetime64[ns](2), float64(3), int64(4), object(13)\n",
      "memory usage: 1.7+ MB\n"
     ]
    }
   ],
   "source": [
    "df.info()"
   ]
  },
  {
   "cell_type": "code",
   "execution_count": 4,
   "metadata": {},
   "outputs": [
    {
     "data": {
      "application/vnd.plotly.v1+json": {
       "config": {
        "plotlyServerURL": "https://plot.ly"
       },
       "data": [
        {
         "domain": {
          "x": [
           0,
           1
          ],
          "y": [
           0,
           1
          ]
         },
         "hovertemplate": "Category=%{label}<br>Sales=%{value}<extra></extra>",
         "labels": [
          "Furniture",
          "Office Supplies",
          "Technology"
         ],
         "legendgroup": "",
         "name": "",
         "showlegend": true,
         "type": "pie",
         "values": [
          741999.7953,
          719047.032,
          836154.033
         ]
        }
       ],
       "layout": {
        "legend": {
         "tracegroupgap": 0
        },
        "template": {
         "data": {
          "bar": [
           {
            "error_x": {
             "color": "#2a3f5f"
            },
            "error_y": {
             "color": "#2a3f5f"
            },
            "marker": {
             "line": {
              "color": "#E5ECF6",
              "width": 0.5
             },
             "pattern": {
              "fillmode": "overlay",
              "size": 10,
              "solidity": 0.2
             }
            },
            "type": "bar"
           }
          ],
          "barpolar": [
           {
            "marker": {
             "line": {
              "color": "#E5ECF6",
              "width": 0.5
             },
             "pattern": {
              "fillmode": "overlay",
              "size": 10,
              "solidity": 0.2
             }
            },
            "type": "barpolar"
           }
          ],
          "carpet": [
           {
            "aaxis": {
             "endlinecolor": "#2a3f5f",
             "gridcolor": "white",
             "linecolor": "white",
             "minorgridcolor": "white",
             "startlinecolor": "#2a3f5f"
            },
            "baxis": {
             "endlinecolor": "#2a3f5f",
             "gridcolor": "white",
             "linecolor": "white",
             "minorgridcolor": "white",
             "startlinecolor": "#2a3f5f"
            },
            "type": "carpet"
           }
          ],
          "choropleth": [
           {
            "colorbar": {
             "outlinewidth": 0,
             "ticks": ""
            },
            "type": "choropleth"
           }
          ],
          "contour": [
           {
            "colorbar": {
             "outlinewidth": 0,
             "ticks": ""
            },
            "colorscale": [
             [
              0,
              "#0d0887"
             ],
             [
              0.1111111111111111,
              "#46039f"
             ],
             [
              0.2222222222222222,
              "#7201a8"
             ],
             [
              0.3333333333333333,
              "#9c179e"
             ],
             [
              0.4444444444444444,
              "#bd3786"
             ],
             [
              0.5555555555555556,
              "#d8576b"
             ],
             [
              0.6666666666666666,
              "#ed7953"
             ],
             [
              0.7777777777777778,
              "#fb9f3a"
             ],
             [
              0.8888888888888888,
              "#fdca26"
             ],
             [
              1,
              "#f0f921"
             ]
            ],
            "type": "contour"
           }
          ],
          "contourcarpet": [
           {
            "colorbar": {
             "outlinewidth": 0,
             "ticks": ""
            },
            "type": "contourcarpet"
           }
          ],
          "heatmap": [
           {
            "colorbar": {
             "outlinewidth": 0,
             "ticks": ""
            },
            "colorscale": [
             [
              0,
              "#0d0887"
             ],
             [
              0.1111111111111111,
              "#46039f"
             ],
             [
              0.2222222222222222,
              "#7201a8"
             ],
             [
              0.3333333333333333,
              "#9c179e"
             ],
             [
              0.4444444444444444,
              "#bd3786"
             ],
             [
              0.5555555555555556,
              "#d8576b"
             ],
             [
              0.6666666666666666,
              "#ed7953"
             ],
             [
              0.7777777777777778,
              "#fb9f3a"
             ],
             [
              0.8888888888888888,
              "#fdca26"
             ],
             [
              1,
              "#f0f921"
             ]
            ],
            "type": "heatmap"
           }
          ],
          "heatmapgl": [
           {
            "colorbar": {
             "outlinewidth": 0,
             "ticks": ""
            },
            "colorscale": [
             [
              0,
              "#0d0887"
             ],
             [
              0.1111111111111111,
              "#46039f"
             ],
             [
              0.2222222222222222,
              "#7201a8"
             ],
             [
              0.3333333333333333,
              "#9c179e"
             ],
             [
              0.4444444444444444,
              "#bd3786"
             ],
             [
              0.5555555555555556,
              "#d8576b"
             ],
             [
              0.6666666666666666,
              "#ed7953"
             ],
             [
              0.7777777777777778,
              "#fb9f3a"
             ],
             [
              0.8888888888888888,
              "#fdca26"
             ],
             [
              1,
              "#f0f921"
             ]
            ],
            "type": "heatmapgl"
           }
          ],
          "histogram": [
           {
            "marker": {
             "pattern": {
              "fillmode": "overlay",
              "size": 10,
              "solidity": 0.2
             }
            },
            "type": "histogram"
           }
          ],
          "histogram2d": [
           {
            "colorbar": {
             "outlinewidth": 0,
             "ticks": ""
            },
            "colorscale": [
             [
              0,
              "#0d0887"
             ],
             [
              0.1111111111111111,
              "#46039f"
             ],
             [
              0.2222222222222222,
              "#7201a8"
             ],
             [
              0.3333333333333333,
              "#9c179e"
             ],
             [
              0.4444444444444444,
              "#bd3786"
             ],
             [
              0.5555555555555556,
              "#d8576b"
             ],
             [
              0.6666666666666666,
              "#ed7953"
             ],
             [
              0.7777777777777778,
              "#fb9f3a"
             ],
             [
              0.8888888888888888,
              "#fdca26"
             ],
             [
              1,
              "#f0f921"
             ]
            ],
            "type": "histogram2d"
           }
          ],
          "histogram2dcontour": [
           {
            "colorbar": {
             "outlinewidth": 0,
             "ticks": ""
            },
            "colorscale": [
             [
              0,
              "#0d0887"
             ],
             [
              0.1111111111111111,
              "#46039f"
             ],
             [
              0.2222222222222222,
              "#7201a8"
             ],
             [
              0.3333333333333333,
              "#9c179e"
             ],
             [
              0.4444444444444444,
              "#bd3786"
             ],
             [
              0.5555555555555556,
              "#d8576b"
             ],
             [
              0.6666666666666666,
              "#ed7953"
             ],
             [
              0.7777777777777778,
              "#fb9f3a"
             ],
             [
              0.8888888888888888,
              "#fdca26"
             ],
             [
              1,
              "#f0f921"
             ]
            ],
            "type": "histogram2dcontour"
           }
          ],
          "mesh3d": [
           {
            "colorbar": {
             "outlinewidth": 0,
             "ticks": ""
            },
            "type": "mesh3d"
           }
          ],
          "parcoords": [
           {
            "line": {
             "colorbar": {
              "outlinewidth": 0,
              "ticks": ""
             }
            },
            "type": "parcoords"
           }
          ],
          "pie": [
           {
            "automargin": true,
            "type": "pie"
           }
          ],
          "scatter": [
           {
            "fillpattern": {
             "fillmode": "overlay",
             "size": 10,
             "solidity": 0.2
            },
            "type": "scatter"
           }
          ],
          "scatter3d": [
           {
            "line": {
             "colorbar": {
              "outlinewidth": 0,
              "ticks": ""
             }
            },
            "marker": {
             "colorbar": {
              "outlinewidth": 0,
              "ticks": ""
             }
            },
            "type": "scatter3d"
           }
          ],
          "scattercarpet": [
           {
            "marker": {
             "colorbar": {
              "outlinewidth": 0,
              "ticks": ""
             }
            },
            "type": "scattercarpet"
           }
          ],
          "scattergeo": [
           {
            "marker": {
             "colorbar": {
              "outlinewidth": 0,
              "ticks": ""
             }
            },
            "type": "scattergeo"
           }
          ],
          "scattergl": [
           {
            "marker": {
             "colorbar": {
              "outlinewidth": 0,
              "ticks": ""
             }
            },
            "type": "scattergl"
           }
          ],
          "scattermapbox": [
           {
            "marker": {
             "colorbar": {
              "outlinewidth": 0,
              "ticks": ""
             }
            },
            "type": "scattermapbox"
           }
          ],
          "scatterpolar": [
           {
            "marker": {
             "colorbar": {
              "outlinewidth": 0,
              "ticks": ""
             }
            },
            "type": "scatterpolar"
           }
          ],
          "scatterpolargl": [
           {
            "marker": {
             "colorbar": {
              "outlinewidth": 0,
              "ticks": ""
             }
            },
            "type": "scatterpolargl"
           }
          ],
          "scatterternary": [
           {
            "marker": {
             "colorbar": {
              "outlinewidth": 0,
              "ticks": ""
             }
            },
            "type": "scatterternary"
           }
          ],
          "surface": [
           {
            "colorbar": {
             "outlinewidth": 0,
             "ticks": ""
            },
            "colorscale": [
             [
              0,
              "#0d0887"
             ],
             [
              0.1111111111111111,
              "#46039f"
             ],
             [
              0.2222222222222222,
              "#7201a8"
             ],
             [
              0.3333333333333333,
              "#9c179e"
             ],
             [
              0.4444444444444444,
              "#bd3786"
             ],
             [
              0.5555555555555556,
              "#d8576b"
             ],
             [
              0.6666666666666666,
              "#ed7953"
             ],
             [
              0.7777777777777778,
              "#fb9f3a"
             ],
             [
              0.8888888888888888,
              "#fdca26"
             ],
             [
              1,
              "#f0f921"
             ]
            ],
            "type": "surface"
           }
          ],
          "table": [
           {
            "cells": {
             "fill": {
              "color": "#EBF0F8"
             },
             "line": {
              "color": "white"
             }
            },
            "header": {
             "fill": {
              "color": "#C8D4E3"
             },
             "line": {
              "color": "white"
             }
            },
            "type": "table"
           }
          ]
         },
         "layout": {
          "annotationdefaults": {
           "arrowcolor": "#2a3f5f",
           "arrowhead": 0,
           "arrowwidth": 1
          },
          "autotypenumbers": "strict",
          "coloraxis": {
           "colorbar": {
            "outlinewidth": 0,
            "ticks": ""
           }
          },
          "colorscale": {
           "diverging": [
            [
             0,
             "#8e0152"
            ],
            [
             0.1,
             "#c51b7d"
            ],
            [
             0.2,
             "#de77ae"
            ],
            [
             0.3,
             "#f1b6da"
            ],
            [
             0.4,
             "#fde0ef"
            ],
            [
             0.5,
             "#f7f7f7"
            ],
            [
             0.6,
             "#e6f5d0"
            ],
            [
             0.7,
             "#b8e186"
            ],
            [
             0.8,
             "#7fbc41"
            ],
            [
             0.9,
             "#4d9221"
            ],
            [
             1,
             "#276419"
            ]
           ],
           "sequential": [
            [
             0,
             "#0d0887"
            ],
            [
             0.1111111111111111,
             "#46039f"
            ],
            [
             0.2222222222222222,
             "#7201a8"
            ],
            [
             0.3333333333333333,
             "#9c179e"
            ],
            [
             0.4444444444444444,
             "#bd3786"
            ],
            [
             0.5555555555555556,
             "#d8576b"
            ],
            [
             0.6666666666666666,
             "#ed7953"
            ],
            [
             0.7777777777777778,
             "#fb9f3a"
            ],
            [
             0.8888888888888888,
             "#fdca26"
            ],
            [
             1,
             "#f0f921"
            ]
           ],
           "sequentialminus": [
            [
             0,
             "#0d0887"
            ],
            [
             0.1111111111111111,
             "#46039f"
            ],
            [
             0.2222222222222222,
             "#7201a8"
            ],
            [
             0.3333333333333333,
             "#9c179e"
            ],
            [
             0.4444444444444444,
             "#bd3786"
            ],
            [
             0.5555555555555556,
             "#d8576b"
            ],
            [
             0.6666666666666666,
             "#ed7953"
            ],
            [
             0.7777777777777778,
             "#fb9f3a"
            ],
            [
             0.8888888888888888,
             "#fdca26"
            ],
            [
             1,
             "#f0f921"
            ]
           ]
          },
          "colorway": [
           "#636efa",
           "#EF553B",
           "#00cc96",
           "#ab63fa",
           "#FFA15A",
           "#19d3f3",
           "#FF6692",
           "#B6E880",
           "#FF97FF",
           "#FECB52"
          ],
          "font": {
           "color": "#2a3f5f"
          },
          "geo": {
           "bgcolor": "white",
           "lakecolor": "white",
           "landcolor": "#E5ECF6",
           "showlakes": true,
           "showland": true,
           "subunitcolor": "white"
          },
          "hoverlabel": {
           "align": "left"
          },
          "hovermode": "closest",
          "mapbox": {
           "style": "light"
          },
          "paper_bgcolor": "white",
          "plot_bgcolor": "#E5ECF6",
          "polar": {
           "angularaxis": {
            "gridcolor": "white",
            "linecolor": "white",
            "ticks": ""
           },
           "bgcolor": "#E5ECF6",
           "radialaxis": {
            "gridcolor": "white",
            "linecolor": "white",
            "ticks": ""
           }
          },
          "scene": {
           "xaxis": {
            "backgroundcolor": "#E5ECF6",
            "gridcolor": "white",
            "gridwidth": 2,
            "linecolor": "white",
            "showbackground": true,
            "ticks": "",
            "zerolinecolor": "white"
           },
           "yaxis": {
            "backgroundcolor": "#E5ECF6",
            "gridcolor": "white",
            "gridwidth": 2,
            "linecolor": "white",
            "showbackground": true,
            "ticks": "",
            "zerolinecolor": "white"
           },
           "zaxis": {
            "backgroundcolor": "#E5ECF6",
            "gridcolor": "white",
            "gridwidth": 2,
            "linecolor": "white",
            "showbackground": true,
            "ticks": "",
            "zerolinecolor": "white"
           }
          },
          "shapedefaults": {
           "line": {
            "color": "#2a3f5f"
           }
          },
          "ternary": {
           "aaxis": {
            "gridcolor": "white",
            "linecolor": "white",
            "ticks": ""
           },
           "baxis": {
            "gridcolor": "white",
            "linecolor": "white",
            "ticks": ""
           },
           "bgcolor": "#E5ECF6",
           "caxis": {
            "gridcolor": "white",
            "linecolor": "white",
            "ticks": ""
           }
          },
          "title": {
           "x": 0.05
          },
          "xaxis": {
           "automargin": true,
           "gridcolor": "white",
           "linecolor": "white",
           "ticks": "",
           "title": {
            "standoff": 15
           },
           "zerolinecolor": "white",
           "zerolinewidth": 2
          },
          "yaxis": {
           "automargin": true,
           "gridcolor": "white",
           "linecolor": "white",
           "ticks": "",
           "title": {
            "standoff": 15
           },
           "zerolinecolor": "white",
           "zerolinewidth": 2
          }
         }
        },
        "title": {
         "text": "Ventas"
        }
       }
      }
     },
     "metadata": {},
     "output_type": "display_data"
    }
   ],
   "source": [
    "df2 = df[['Category', 'Sales']].groupby('Category').sum()\n",
    "#df2\n",
    "fig = px.pie(df2,\n",
    "             values='Sales',\n",
    "             names=df2.index,\n",
    "             title='Ventas'\n",
    "            )\n",
    "fig.show()\n",
    "#fig.write_html('./outputs/pie.html')"
   ]
  },
  {
   "cell_type": "code",
   "execution_count": 5,
   "metadata": {},
   "outputs": [
    {
     "data": {
      "application/vnd.plotly.v1+json": {
       "config": {
        "plotlyServerURL": "https://plot.ly"
       },
       "data": [
        {
         "branchvalues": "total",
         "domain": {
          "x": [
           0,
           1
          ],
          "y": [
           0,
           1
          ]
         },
         "hovertemplate": "labels=%{label}<br>Sales=%{value}<br>parent=%{parent}<br>id=%{id}<extra></extra>",
         "ids": [
          "Central/Technology/Accessories",
          "East/Technology/Accessories",
          "South/Technology/Accessories",
          "West/Technology/Accessories",
          "Central/Office Supplies/Appliances",
          "East/Office Supplies/Appliances",
          "South/Office Supplies/Appliances",
          "West/Office Supplies/Appliances",
          "Central/Office Supplies/Art",
          "East/Office Supplies/Art",
          "South/Office Supplies/Art",
          "West/Office Supplies/Art",
          "Central/Office Supplies/Binders",
          "East/Office Supplies/Binders",
          "South/Office Supplies/Binders",
          "West/Office Supplies/Binders",
          "Central/Furniture/Bookcases",
          "East/Furniture/Bookcases",
          "South/Furniture/Bookcases",
          "West/Furniture/Bookcases",
          "Central/Furniture/Chairs",
          "East/Furniture/Chairs",
          "South/Furniture/Chairs",
          "West/Furniture/Chairs",
          "Central/Technology/Copiers",
          "East/Technology/Copiers",
          "South/Technology/Copiers",
          "West/Technology/Copiers",
          "Central/Office Supplies/Envelopes",
          "East/Office Supplies/Envelopes",
          "South/Office Supplies/Envelopes",
          "West/Office Supplies/Envelopes",
          "Central/Office Supplies/Fasteners",
          "East/Office Supplies/Fasteners",
          "South/Office Supplies/Fasteners",
          "West/Office Supplies/Fasteners",
          "Central/Furniture/Furnishings",
          "East/Furniture/Furnishings",
          "South/Furniture/Furnishings",
          "West/Furniture/Furnishings",
          "Central/Office Supplies/Labels",
          "East/Office Supplies/Labels",
          "South/Office Supplies/Labels",
          "West/Office Supplies/Labels",
          "Central/Technology/Machines",
          "East/Technology/Machines",
          "South/Technology/Machines",
          "West/Technology/Machines",
          "Central/Office Supplies/Paper",
          "East/Office Supplies/Paper",
          "South/Office Supplies/Paper",
          "West/Office Supplies/Paper",
          "Central/Technology/Phones",
          "East/Technology/Phones",
          "South/Technology/Phones",
          "West/Technology/Phones",
          "Central/Office Supplies/Storage",
          "East/Office Supplies/Storage",
          "South/Office Supplies/Storage",
          "West/Office Supplies/Storage",
          "Central/Office Supplies/Supplies",
          "East/Office Supplies/Supplies",
          "South/Office Supplies/Supplies",
          "West/Office Supplies/Supplies",
          "Central/Furniture/Tables",
          "East/Furniture/Tables",
          "South/Furniture/Tables",
          "West/Furniture/Tables",
          "Central/Furniture",
          "East/Furniture",
          "South/Furniture",
          "West/Furniture",
          "Central/Office Supplies",
          "East/Office Supplies",
          "South/Office Supplies",
          "West/Office Supplies",
          "Central/Technology",
          "East/Technology",
          "South/Technology",
          "West/Technology",
          "Central",
          "East",
          "South",
          "West"
         ],
         "labels": [
          "Accessories",
          "Accessories",
          "Accessories",
          "Accessories",
          "Appliances",
          "Appliances",
          "Appliances",
          "Appliances",
          "Art",
          "Art",
          "Art",
          "Art",
          "Binders",
          "Binders",
          "Binders",
          "Binders",
          "Bookcases",
          "Bookcases",
          "Bookcases",
          "Bookcases",
          "Chairs",
          "Chairs",
          "Chairs",
          "Chairs",
          "Copiers",
          "Copiers",
          "Copiers",
          "Copiers",
          "Envelopes",
          "Envelopes",
          "Envelopes",
          "Envelopes",
          "Fasteners",
          "Fasteners",
          "Fasteners",
          "Fasteners",
          "Furnishings",
          "Furnishings",
          "Furnishings",
          "Furnishings",
          "Labels",
          "Labels",
          "Labels",
          "Labels",
          "Machines",
          "Machines",
          "Machines",
          "Machines",
          "Paper",
          "Paper",
          "Paper",
          "Paper",
          "Phones",
          "Phones",
          "Phones",
          "Phones",
          "Storage",
          "Storage",
          "Storage",
          "Storage",
          "Supplies",
          "Supplies",
          "Supplies",
          "Supplies",
          "Tables",
          "Tables",
          "Tables",
          "Tables",
          "Furniture",
          "Furniture",
          "Furniture",
          "Furniture",
          "Office Supplies",
          "Office Supplies",
          "Office Supplies",
          "Office Supplies",
          "Technology",
          "Technology",
          "Technology",
          "Technology",
          "Central",
          "East",
          "South",
          "West"
         ],
         "name": "",
         "parents": [
          "Central/Technology",
          "East/Technology",
          "South/Technology",
          "West/Technology",
          "Central/Office Supplies",
          "East/Office Supplies",
          "South/Office Supplies",
          "West/Office Supplies",
          "Central/Office Supplies",
          "East/Office Supplies",
          "South/Office Supplies",
          "West/Office Supplies",
          "Central/Office Supplies",
          "East/Office Supplies",
          "South/Office Supplies",
          "West/Office Supplies",
          "Central/Furniture",
          "East/Furniture",
          "South/Furniture",
          "West/Furniture",
          "Central/Furniture",
          "East/Furniture",
          "South/Furniture",
          "West/Furniture",
          "Central/Technology",
          "East/Technology",
          "South/Technology",
          "West/Technology",
          "Central/Office Supplies",
          "East/Office Supplies",
          "South/Office Supplies",
          "West/Office Supplies",
          "Central/Office Supplies",
          "East/Office Supplies",
          "South/Office Supplies",
          "West/Office Supplies",
          "Central/Furniture",
          "East/Furniture",
          "South/Furniture",
          "West/Furniture",
          "Central/Office Supplies",
          "East/Office Supplies",
          "South/Office Supplies",
          "West/Office Supplies",
          "Central/Technology",
          "East/Technology",
          "South/Technology",
          "West/Technology",
          "Central/Office Supplies",
          "East/Office Supplies",
          "South/Office Supplies",
          "West/Office Supplies",
          "Central/Technology",
          "East/Technology",
          "South/Technology",
          "West/Technology",
          "Central/Office Supplies",
          "East/Office Supplies",
          "South/Office Supplies",
          "West/Office Supplies",
          "Central/Office Supplies",
          "East/Office Supplies",
          "South/Office Supplies",
          "West/Office Supplies",
          "Central/Furniture",
          "East/Furniture",
          "South/Furniture",
          "West/Furniture",
          "Central",
          "East",
          "South",
          "West",
          "Central",
          "East",
          "South",
          "West",
          "Central",
          "East",
          "South",
          "West",
          "",
          "",
          "",
          ""
         ],
         "type": "sunburst",
         "values": [
          33956.076,
          45033.372,
          27276.754,
          61114.116,
          23582.033,
          34188.466,
          19525.326,
          30236.336,
          5765.34,
          7485.764,
          4655.622,
          9212.066,
          56923.282,
          53497.997,
          37030.341,
          55961.113,
          24157.1768,
          43819.334,
          10899.362,
          36004.1235,
          85230.646,
          96260.683,
          45176.446,
          101781.328,
          37259.57,
          53219.462,
          9299.756,
          49749.242,
          4636.872,
          4375.874,
          3345.556,
          4118.1,
          778.03,
          819.718,
          503.316,
          923.216,
          15254.369999999999,
          29071.38,
          17306.684,
          30072.73,
          2451.4719999999998,
          2602.934,
          2353.18,
          5078.726,
          26797.384000000002,
          66106.165,
          53890.96,
          42444.122,
          17491.902,
          20172.602,
          14150.984,
          26663.718,
          72403.282,
          100614.982,
          58304.438,
          98684.352,
          45930.112,
          71612.584,
          35768.06,
          70532.852,
          9467.372,
          10760.116,
          8318.928,
          18127.122,
          39154.971,
          39139.807,
          43916.192,
          84754.562,
          163797.1638,
          208291.204,
          117298.68400000001,
          252612.7435,
          167026.415,
          205516.055,
          125651.313,
          220853.249,
          170416.312,
          264973.981,
          148771.908,
          251991.832,
          501239.8908,
          678781.24,
          391721.905,
          725457.8245
         ]
        }
       ],
       "layout": {
        "height": 600,
        "legend": {
         "tracegroupgap": 0
        },
        "margin": {
         "t": 60
        },
        "template": {
         "data": {
          "bar": [
           {
            "error_x": {
             "color": "#2a3f5f"
            },
            "error_y": {
             "color": "#2a3f5f"
            },
            "marker": {
             "line": {
              "color": "#E5ECF6",
              "width": 0.5
             },
             "pattern": {
              "fillmode": "overlay",
              "size": 10,
              "solidity": 0.2
             }
            },
            "type": "bar"
           }
          ],
          "barpolar": [
           {
            "marker": {
             "line": {
              "color": "#E5ECF6",
              "width": 0.5
             },
             "pattern": {
              "fillmode": "overlay",
              "size": 10,
              "solidity": 0.2
             }
            },
            "type": "barpolar"
           }
          ],
          "carpet": [
           {
            "aaxis": {
             "endlinecolor": "#2a3f5f",
             "gridcolor": "white",
             "linecolor": "white",
             "minorgridcolor": "white",
             "startlinecolor": "#2a3f5f"
            },
            "baxis": {
             "endlinecolor": "#2a3f5f",
             "gridcolor": "white",
             "linecolor": "white",
             "minorgridcolor": "white",
             "startlinecolor": "#2a3f5f"
            },
            "type": "carpet"
           }
          ],
          "choropleth": [
           {
            "colorbar": {
             "outlinewidth": 0,
             "ticks": ""
            },
            "type": "choropleth"
           }
          ],
          "contour": [
           {
            "colorbar": {
             "outlinewidth": 0,
             "ticks": ""
            },
            "colorscale": [
             [
              0,
              "#0d0887"
             ],
             [
              0.1111111111111111,
              "#46039f"
             ],
             [
              0.2222222222222222,
              "#7201a8"
             ],
             [
              0.3333333333333333,
              "#9c179e"
             ],
             [
              0.4444444444444444,
              "#bd3786"
             ],
             [
              0.5555555555555556,
              "#d8576b"
             ],
             [
              0.6666666666666666,
              "#ed7953"
             ],
             [
              0.7777777777777778,
              "#fb9f3a"
             ],
             [
              0.8888888888888888,
              "#fdca26"
             ],
             [
              1,
              "#f0f921"
             ]
            ],
            "type": "contour"
           }
          ],
          "contourcarpet": [
           {
            "colorbar": {
             "outlinewidth": 0,
             "ticks": ""
            },
            "type": "contourcarpet"
           }
          ],
          "heatmap": [
           {
            "colorbar": {
             "outlinewidth": 0,
             "ticks": ""
            },
            "colorscale": [
             [
              0,
              "#0d0887"
             ],
             [
              0.1111111111111111,
              "#46039f"
             ],
             [
              0.2222222222222222,
              "#7201a8"
             ],
             [
              0.3333333333333333,
              "#9c179e"
             ],
             [
              0.4444444444444444,
              "#bd3786"
             ],
             [
              0.5555555555555556,
              "#d8576b"
             ],
             [
              0.6666666666666666,
              "#ed7953"
             ],
             [
              0.7777777777777778,
              "#fb9f3a"
             ],
             [
              0.8888888888888888,
              "#fdca26"
             ],
             [
              1,
              "#f0f921"
             ]
            ],
            "type": "heatmap"
           }
          ],
          "heatmapgl": [
           {
            "colorbar": {
             "outlinewidth": 0,
             "ticks": ""
            },
            "colorscale": [
             [
              0,
              "#0d0887"
             ],
             [
              0.1111111111111111,
              "#46039f"
             ],
             [
              0.2222222222222222,
              "#7201a8"
             ],
             [
              0.3333333333333333,
              "#9c179e"
             ],
             [
              0.4444444444444444,
              "#bd3786"
             ],
             [
              0.5555555555555556,
              "#d8576b"
             ],
             [
              0.6666666666666666,
              "#ed7953"
             ],
             [
              0.7777777777777778,
              "#fb9f3a"
             ],
             [
              0.8888888888888888,
              "#fdca26"
             ],
             [
              1,
              "#f0f921"
             ]
            ],
            "type": "heatmapgl"
           }
          ],
          "histogram": [
           {
            "marker": {
             "pattern": {
              "fillmode": "overlay",
              "size": 10,
              "solidity": 0.2
             }
            },
            "type": "histogram"
           }
          ],
          "histogram2d": [
           {
            "colorbar": {
             "outlinewidth": 0,
             "ticks": ""
            },
            "colorscale": [
             [
              0,
              "#0d0887"
             ],
             [
              0.1111111111111111,
              "#46039f"
             ],
             [
              0.2222222222222222,
              "#7201a8"
             ],
             [
              0.3333333333333333,
              "#9c179e"
             ],
             [
              0.4444444444444444,
              "#bd3786"
             ],
             [
              0.5555555555555556,
              "#d8576b"
             ],
             [
              0.6666666666666666,
              "#ed7953"
             ],
             [
              0.7777777777777778,
              "#fb9f3a"
             ],
             [
              0.8888888888888888,
              "#fdca26"
             ],
             [
              1,
              "#f0f921"
             ]
            ],
            "type": "histogram2d"
           }
          ],
          "histogram2dcontour": [
           {
            "colorbar": {
             "outlinewidth": 0,
             "ticks": ""
            },
            "colorscale": [
             [
              0,
              "#0d0887"
             ],
             [
              0.1111111111111111,
              "#46039f"
             ],
             [
              0.2222222222222222,
              "#7201a8"
             ],
             [
              0.3333333333333333,
              "#9c179e"
             ],
             [
              0.4444444444444444,
              "#bd3786"
             ],
             [
              0.5555555555555556,
              "#d8576b"
             ],
             [
              0.6666666666666666,
              "#ed7953"
             ],
             [
              0.7777777777777778,
              "#fb9f3a"
             ],
             [
              0.8888888888888888,
              "#fdca26"
             ],
             [
              1,
              "#f0f921"
             ]
            ],
            "type": "histogram2dcontour"
           }
          ],
          "mesh3d": [
           {
            "colorbar": {
             "outlinewidth": 0,
             "ticks": ""
            },
            "type": "mesh3d"
           }
          ],
          "parcoords": [
           {
            "line": {
             "colorbar": {
              "outlinewidth": 0,
              "ticks": ""
             }
            },
            "type": "parcoords"
           }
          ],
          "pie": [
           {
            "automargin": true,
            "type": "pie"
           }
          ],
          "scatter": [
           {
            "fillpattern": {
             "fillmode": "overlay",
             "size": 10,
             "solidity": 0.2
            },
            "type": "scatter"
           }
          ],
          "scatter3d": [
           {
            "line": {
             "colorbar": {
              "outlinewidth": 0,
              "ticks": ""
             }
            },
            "marker": {
             "colorbar": {
              "outlinewidth": 0,
              "ticks": ""
             }
            },
            "type": "scatter3d"
           }
          ],
          "scattercarpet": [
           {
            "marker": {
             "colorbar": {
              "outlinewidth": 0,
              "ticks": ""
             }
            },
            "type": "scattercarpet"
           }
          ],
          "scattergeo": [
           {
            "marker": {
             "colorbar": {
              "outlinewidth": 0,
              "ticks": ""
             }
            },
            "type": "scattergeo"
           }
          ],
          "scattergl": [
           {
            "marker": {
             "colorbar": {
              "outlinewidth": 0,
              "ticks": ""
             }
            },
            "type": "scattergl"
           }
          ],
          "scattermapbox": [
           {
            "marker": {
             "colorbar": {
              "outlinewidth": 0,
              "ticks": ""
             }
            },
            "type": "scattermapbox"
           }
          ],
          "scatterpolar": [
           {
            "marker": {
             "colorbar": {
              "outlinewidth": 0,
              "ticks": ""
             }
            },
            "type": "scatterpolar"
           }
          ],
          "scatterpolargl": [
           {
            "marker": {
             "colorbar": {
              "outlinewidth": 0,
              "ticks": ""
             }
            },
            "type": "scatterpolargl"
           }
          ],
          "scatterternary": [
           {
            "marker": {
             "colorbar": {
              "outlinewidth": 0,
              "ticks": ""
             }
            },
            "type": "scatterternary"
           }
          ],
          "surface": [
           {
            "colorbar": {
             "outlinewidth": 0,
             "ticks": ""
            },
            "colorscale": [
             [
              0,
              "#0d0887"
             ],
             [
              0.1111111111111111,
              "#46039f"
             ],
             [
              0.2222222222222222,
              "#7201a8"
             ],
             [
              0.3333333333333333,
              "#9c179e"
             ],
             [
              0.4444444444444444,
              "#bd3786"
             ],
             [
              0.5555555555555556,
              "#d8576b"
             ],
             [
              0.6666666666666666,
              "#ed7953"
             ],
             [
              0.7777777777777778,
              "#fb9f3a"
             ],
             [
              0.8888888888888888,
              "#fdca26"
             ],
             [
              1,
              "#f0f921"
             ]
            ],
            "type": "surface"
           }
          ],
          "table": [
           {
            "cells": {
             "fill": {
              "color": "#EBF0F8"
             },
             "line": {
              "color": "white"
             }
            },
            "header": {
             "fill": {
              "color": "#C8D4E3"
             },
             "line": {
              "color": "white"
             }
            },
            "type": "table"
           }
          ]
         },
         "layout": {
          "annotationdefaults": {
           "arrowcolor": "#2a3f5f",
           "arrowhead": 0,
           "arrowwidth": 1
          },
          "autotypenumbers": "strict",
          "coloraxis": {
           "colorbar": {
            "outlinewidth": 0,
            "ticks": ""
           }
          },
          "colorscale": {
           "diverging": [
            [
             0,
             "#8e0152"
            ],
            [
             0.1,
             "#c51b7d"
            ],
            [
             0.2,
             "#de77ae"
            ],
            [
             0.3,
             "#f1b6da"
            ],
            [
             0.4,
             "#fde0ef"
            ],
            [
             0.5,
             "#f7f7f7"
            ],
            [
             0.6,
             "#e6f5d0"
            ],
            [
             0.7,
             "#b8e186"
            ],
            [
             0.8,
             "#7fbc41"
            ],
            [
             0.9,
             "#4d9221"
            ],
            [
             1,
             "#276419"
            ]
           ],
           "sequential": [
            [
             0,
             "#0d0887"
            ],
            [
             0.1111111111111111,
             "#46039f"
            ],
            [
             0.2222222222222222,
             "#7201a8"
            ],
            [
             0.3333333333333333,
             "#9c179e"
            ],
            [
             0.4444444444444444,
             "#bd3786"
            ],
            [
             0.5555555555555556,
             "#d8576b"
            ],
            [
             0.6666666666666666,
             "#ed7953"
            ],
            [
             0.7777777777777778,
             "#fb9f3a"
            ],
            [
             0.8888888888888888,
             "#fdca26"
            ],
            [
             1,
             "#f0f921"
            ]
           ],
           "sequentialminus": [
            [
             0,
             "#0d0887"
            ],
            [
             0.1111111111111111,
             "#46039f"
            ],
            [
             0.2222222222222222,
             "#7201a8"
            ],
            [
             0.3333333333333333,
             "#9c179e"
            ],
            [
             0.4444444444444444,
             "#bd3786"
            ],
            [
             0.5555555555555556,
             "#d8576b"
            ],
            [
             0.6666666666666666,
             "#ed7953"
            ],
            [
             0.7777777777777778,
             "#fb9f3a"
            ],
            [
             0.8888888888888888,
             "#fdca26"
            ],
            [
             1,
             "#f0f921"
            ]
           ]
          },
          "colorway": [
           "#636efa",
           "#EF553B",
           "#00cc96",
           "#ab63fa",
           "#FFA15A",
           "#19d3f3",
           "#FF6692",
           "#B6E880",
           "#FF97FF",
           "#FECB52"
          ],
          "font": {
           "color": "#2a3f5f"
          },
          "geo": {
           "bgcolor": "white",
           "lakecolor": "white",
           "landcolor": "#E5ECF6",
           "showlakes": true,
           "showland": true,
           "subunitcolor": "white"
          },
          "hoverlabel": {
           "align": "left"
          },
          "hovermode": "closest",
          "mapbox": {
           "style": "light"
          },
          "paper_bgcolor": "white",
          "plot_bgcolor": "#E5ECF6",
          "polar": {
           "angularaxis": {
            "gridcolor": "white",
            "linecolor": "white",
            "ticks": ""
           },
           "bgcolor": "#E5ECF6",
           "radialaxis": {
            "gridcolor": "white",
            "linecolor": "white",
            "ticks": ""
           }
          },
          "scene": {
           "xaxis": {
            "backgroundcolor": "#E5ECF6",
            "gridcolor": "white",
            "gridwidth": 2,
            "linecolor": "white",
            "showbackground": true,
            "ticks": "",
            "zerolinecolor": "white"
           },
           "yaxis": {
            "backgroundcolor": "#E5ECF6",
            "gridcolor": "white",
            "gridwidth": 2,
            "linecolor": "white",
            "showbackground": true,
            "ticks": "",
            "zerolinecolor": "white"
           },
           "zaxis": {
            "backgroundcolor": "#E5ECF6",
            "gridcolor": "white",
            "gridwidth": 2,
            "linecolor": "white",
            "showbackground": true,
            "ticks": "",
            "zerolinecolor": "white"
           }
          },
          "shapedefaults": {
           "line": {
            "color": "#2a3f5f"
           }
          },
          "ternary": {
           "aaxis": {
            "gridcolor": "white",
            "linecolor": "white",
            "ticks": ""
           },
           "baxis": {
            "gridcolor": "white",
            "linecolor": "white",
            "ticks": ""
           },
           "bgcolor": "#E5ECF6",
           "caxis": {
            "gridcolor": "white",
            "linecolor": "white",
            "ticks": ""
           }
          },
          "title": {
           "x": 0.05
          },
          "xaxis": {
           "automargin": true,
           "gridcolor": "white",
           "linecolor": "white",
           "ticks": "",
           "title": {
            "standoff": 15
           },
           "zerolinecolor": "white",
           "zerolinewidth": 2
          },
          "yaxis": {
           "automargin": true,
           "gridcolor": "white",
           "linecolor": "white",
           "ticks": "",
           "title": {
            "standoff": 15
           },
           "zerolinecolor": "white",
           "zerolinewidth": 2
          }
         }
        },
        "width": 600
       }
      }
     },
     "metadata": {},
     "output_type": "display_data"
    }
   ],
   "source": [
    "fig = px.sunburst(df,\n",
    "                  path=['Region', 'Category', 'Sub-Category'],\n",
    "                  values='Sales',\n",
    "                  width=600,\n",
    "                  height=600\n",
    "                )\n",
    "fig.show()"
   ]
  },
  {
   "cell_type": "code",
   "execution_count": 6,
   "metadata": {},
   "outputs": [
    {
     "data": {
      "text/html": [
       "<div>\n",
       "<style scoped>\n",
       "    .dataframe tbody tr th:only-of-type {\n",
       "        vertical-align: middle;\n",
       "    }\n",
       "\n",
       "    .dataframe tbody tr th {\n",
       "        vertical-align: top;\n",
       "    }\n",
       "\n",
       "    .dataframe thead th {\n",
       "        text-align: right;\n",
       "    }\n",
       "</style>\n",
       "<table border=\"1\" class=\"dataframe\">\n",
       "  <thead>\n",
       "    <tr style=\"text-align: right;\">\n",
       "      <th></th>\n",
       "      <th>Category</th>\n",
       "      <th>Sub-Category</th>\n",
       "      <th>Postal Code</th>\n",
       "      <th>Row ID</th>\n",
       "      <th>Discount</th>\n",
       "      <th>Number of Records</th>\n",
       "      <th>Profit</th>\n",
       "      <th>Quantity</th>\n",
       "      <th>Sales</th>\n",
       "    </tr>\n",
       "  </thead>\n",
       "  <tbody>\n",
       "    <tr>\n",
       "      <th>0</th>\n",
       "      <td>Furniture</td>\n",
       "      <td>Bookcases</td>\n",
       "      <td>12771539</td>\n",
       "      <td>1156535</td>\n",
       "      <td>48.14</td>\n",
       "      <td>228</td>\n",
       "      <td>-3472.5560</td>\n",
       "      <td>868</td>\n",
       "      <td>114879.9963</td>\n",
       "    </tr>\n",
       "    <tr>\n",
       "      <th>1</th>\n",
       "      <td>Furniture</td>\n",
       "      <td>Chairs</td>\n",
       "      <td>34936229</td>\n",
       "      <td>3121503</td>\n",
       "      <td>105.00</td>\n",
       "      <td>617</td>\n",
       "      <td>26590.1663</td>\n",
       "      <td>2356</td>\n",
       "      <td>328449.1030</td>\n",
       "    </tr>\n",
       "    <tr>\n",
       "      <th>2</th>\n",
       "      <td>Furniture</td>\n",
       "      <td>Furnishings</td>\n",
       "      <td>51880430</td>\n",
       "      <td>4842624</td>\n",
       "      <td>132.40</td>\n",
       "      <td>957</td>\n",
       "      <td>13059.1436</td>\n",
       "      <td>3563</td>\n",
       "      <td>91705.1640</td>\n",
       "    </tr>\n",
       "    <tr>\n",
       "      <th>3</th>\n",
       "      <td>Furniture</td>\n",
       "      <td>Tables</td>\n",
       "      <td>18607828</td>\n",
       "      <td>1572664</td>\n",
       "      <td>83.35</td>\n",
       "      <td>319</td>\n",
       "      <td>-17725.4811</td>\n",
       "      <td>1241</td>\n",
       "      <td>206965.5320</td>\n",
       "    </tr>\n",
       "    <tr>\n",
       "      <th>4</th>\n",
       "      <td>Office Supplies</td>\n",
       "      <td>Appliances</td>\n",
       "      <td>25250538</td>\n",
       "      <td>2407754</td>\n",
       "      <td>77.60</td>\n",
       "      <td>466</td>\n",
       "      <td>18138.0054</td>\n",
       "      <td>1729</td>\n",
       "      <td>107532.1610</td>\n",
       "    </tr>\n",
       "    <tr>\n",
       "      <th>5</th>\n",
       "      <td>Office Supplies</td>\n",
       "      <td>Art</td>\n",
       "      <td>43329658</td>\n",
       "      <td>3920109</td>\n",
       "      <td>59.60</td>\n",
       "      <td>796</td>\n",
       "      <td>6527.7870</td>\n",
       "      <td>3000</td>\n",
       "      <td>27118.7920</td>\n",
       "    </tr>\n",
       "    <tr>\n",
       "      <th>6</th>\n",
       "      <td>Office Supplies</td>\n",
       "      <td>Binders</td>\n",
       "      <td>83626398</td>\n",
       "      <td>7633935</td>\n",
       "      <td>567.00</td>\n",
       "      <td>1523</td>\n",
       "      <td>30221.7633</td>\n",
       "      <td>5974</td>\n",
       "      <td>203412.7330</td>\n",
       "    </tr>\n",
       "    <tr>\n",
       "      <th>7</th>\n",
       "      <td>Office Supplies</td>\n",
       "      <td>Envelopes</td>\n",
       "      <td>13325731</td>\n",
       "      <td>1207903</td>\n",
       "      <td>20.40</td>\n",
       "      <td>254</td>\n",
       "      <td>6964.1767</td>\n",
       "      <td>906</td>\n",
       "      <td>16476.4020</td>\n",
       "    </tr>\n",
       "    <tr>\n",
       "      <th>8</th>\n",
       "      <td>Office Supplies</td>\n",
       "      <td>Fasteners</td>\n",
       "      <td>12506063</td>\n",
       "      <td>1017287</td>\n",
       "      <td>17.80</td>\n",
       "      <td>217</td>\n",
       "      <td>949.5182</td>\n",
       "      <td>914</td>\n",
       "      <td>3024.2800</td>\n",
       "    </tr>\n",
       "    <tr>\n",
       "      <th>9</th>\n",
       "      <td>Office Supplies</td>\n",
       "      <td>Labels</td>\n",
       "      <td>19552985</td>\n",
       "      <td>1817254</td>\n",
       "      <td>25.00</td>\n",
       "      <td>364</td>\n",
       "      <td>5546.2540</td>\n",
       "      <td>1400</td>\n",
       "      <td>12486.3120</td>\n",
       "    </tr>\n",
       "    <tr>\n",
       "      <th>10</th>\n",
       "      <td>Office Supplies</td>\n",
       "      <td>Paper</td>\n",
       "      <td>76299221</td>\n",
       "      <td>6886090</td>\n",
       "      <td>102.60</td>\n",
       "      <td>1370</td>\n",
       "      <td>34053.5693</td>\n",
       "      <td>5178</td>\n",
       "      <td>78479.2060</td>\n",
       "    </tr>\n",
       "    <tr>\n",
       "      <th>11</th>\n",
       "      <td>Office Supplies</td>\n",
       "      <td>Storage</td>\n",
       "      <td>46248720</td>\n",
       "      <td>4126649</td>\n",
       "      <td>63.20</td>\n",
       "      <td>846</td>\n",
       "      <td>21278.8264</td>\n",
       "      <td>3158</td>\n",
       "      <td>223843.6080</td>\n",
       "    </tr>\n",
       "    <tr>\n",
       "      <th>12</th>\n",
       "      <td>Office Supplies</td>\n",
       "      <td>Supplies</td>\n",
       "      <td>10633558</td>\n",
       "      <td>993554</td>\n",
       "      <td>14.60</td>\n",
       "      <td>190</td>\n",
       "      <td>-1189.0995</td>\n",
       "      <td>647</td>\n",
       "      <td>46673.5380</td>\n",
       "    </tr>\n",
       "    <tr>\n",
       "      <th>13</th>\n",
       "      <td>Technology</td>\n",
       "      <td>Accessories</td>\n",
       "      <td>44468434</td>\n",
       "      <td>3928080</td>\n",
       "      <td>60.80</td>\n",
       "      <td>775</td>\n",
       "      <td>41936.6357</td>\n",
       "      <td>2976</td>\n",
       "      <td>167380.3180</td>\n",
       "    </tr>\n",
       "    <tr>\n",
       "      <th>14</th>\n",
       "      <td>Technology</td>\n",
       "      <td>Copiers</td>\n",
       "      <td>3873477</td>\n",
       "      <td>355661</td>\n",
       "      <td>11.00</td>\n",
       "      <td>68</td>\n",
       "      <td>55617.8249</td>\n",
       "      <td>234</td>\n",
       "      <td>149528.0300</td>\n",
       "    </tr>\n",
       "    <tr>\n",
       "      <th>15</th>\n",
       "      <td>Technology</td>\n",
       "      <td>Machines</td>\n",
       "      <td>6364668</td>\n",
       "      <td>561428</td>\n",
       "      <td>35.20</td>\n",
       "      <td>115</td>\n",
       "      <td>3384.7569</td>\n",
       "      <td>440</td>\n",
       "      <td>189238.6310</td>\n",
       "    </tr>\n",
       "    <tr>\n",
       "      <th>16</th>\n",
       "      <td>Technology</td>\n",
       "      <td>Phones</td>\n",
       "      <td>47897175</td>\n",
       "      <td>4395985</td>\n",
       "      <td>137.40</td>\n",
       "      <td>889</td>\n",
       "      <td>44515.7306</td>\n",
       "      <td>3289</td>\n",
       "      <td>330007.0540</td>\n",
       "    </tr>\n",
       "  </tbody>\n",
       "</table>\n",
       "</div>"
      ],
      "text/plain": [
       "           Category Sub-Category  Postal Code   Row ID  Discount  \\\n",
       "0         Furniture    Bookcases     12771539  1156535     48.14   \n",
       "1         Furniture       Chairs     34936229  3121503    105.00   \n",
       "2         Furniture  Furnishings     51880430  4842624    132.40   \n",
       "3         Furniture       Tables     18607828  1572664     83.35   \n",
       "4   Office Supplies   Appliances     25250538  2407754     77.60   \n",
       "5   Office Supplies          Art     43329658  3920109     59.60   \n",
       "6   Office Supplies      Binders     83626398  7633935    567.00   \n",
       "7   Office Supplies    Envelopes     13325731  1207903     20.40   \n",
       "8   Office Supplies    Fasteners     12506063  1017287     17.80   \n",
       "9   Office Supplies       Labels     19552985  1817254     25.00   \n",
       "10  Office Supplies        Paper     76299221  6886090    102.60   \n",
       "11  Office Supplies      Storage     46248720  4126649     63.20   \n",
       "12  Office Supplies     Supplies     10633558   993554     14.60   \n",
       "13       Technology  Accessories     44468434  3928080     60.80   \n",
       "14       Technology      Copiers      3873477   355661     11.00   \n",
       "15       Technology     Machines      6364668   561428     35.20   \n",
       "16       Technology       Phones     47897175  4395985    137.40   \n",
       "\n",
       "    Number of Records      Profit  Quantity        Sales  \n",
       "0                 228  -3472.5560       868  114879.9963  \n",
       "1                 617  26590.1663      2356  328449.1030  \n",
       "2                 957  13059.1436      3563   91705.1640  \n",
       "3                 319 -17725.4811      1241  206965.5320  \n",
       "4                 466  18138.0054      1729  107532.1610  \n",
       "5                 796   6527.7870      3000   27118.7920  \n",
       "6                1523  30221.7633      5974  203412.7330  \n",
       "7                 254   6964.1767       906   16476.4020  \n",
       "8                 217    949.5182       914    3024.2800  \n",
       "9                 364   5546.2540      1400   12486.3120  \n",
       "10               1370  34053.5693      5178   78479.2060  \n",
       "11                846  21278.8264      3158  223843.6080  \n",
       "12                190  -1189.0995       647   46673.5380  \n",
       "13                775  41936.6357      2976  167380.3180  \n",
       "14                 68  55617.8249       234  149528.0300  \n",
       "15                115   3384.7569       440  189238.6310  \n",
       "16                889  44515.7306      3289  330007.0540  "
      ]
     },
     "execution_count": 6,
     "metadata": {},
     "output_type": "execute_result"
    }
   ],
   "source": [
    "df2 = df.groupby(['Category', 'Sub-Category']).sum(numeric_only=True)\n",
    "df2 = df2.reset_index()\n",
    "df2"
   ]
  },
  {
   "cell_type": "code",
   "execution_count": 7,
   "metadata": {},
   "outputs": [
    {
     "data": {
      "application/vnd.plotly.v1+json": {
       "config": {
        "plotlyServerURL": "https://plot.ly"
       },
       "data": [
        {
         "branchvalues": "total",
         "domain": {
          "x": [
           0,
           1
          ],
          "y": [
           0,
           1
          ]
         },
         "hovertemplate": "labels=%{label}<br>Sales=%{value}<br>parent=%{parent}<br>id=%{id}<extra></extra>",
         "ids": [
          "Technology/Accessories",
          "Office Supplies/Appliances",
          "Office Supplies/Art",
          "Office Supplies/Binders",
          "Furniture/Bookcases",
          "Furniture/Chairs",
          "Technology/Copiers",
          "Office Supplies/Envelopes",
          "Office Supplies/Fasteners",
          "Furniture/Furnishings",
          "Office Supplies/Labels",
          "Technology/Machines",
          "Office Supplies/Paper",
          "Technology/Phones",
          "Office Supplies/Storage",
          "Office Supplies/Supplies",
          "Furniture/Tables",
          "Furniture",
          "Office Supplies",
          "Technology"
         ],
         "labels": [
          "Accessories",
          "Appliances",
          "Art",
          "Binders",
          "Bookcases",
          "Chairs",
          "Copiers",
          "Envelopes",
          "Fasteners",
          "Furnishings",
          "Labels",
          "Machines",
          "Paper",
          "Phones",
          "Storage",
          "Supplies",
          "Tables",
          "Furniture",
          "Office Supplies",
          "Technology"
         ],
         "name": "",
         "parents": [
          "Technology",
          "Office Supplies",
          "Office Supplies",
          "Office Supplies",
          "Furniture",
          "Furniture",
          "Technology",
          "Office Supplies",
          "Office Supplies",
          "Furniture",
          "Office Supplies",
          "Technology",
          "Office Supplies",
          "Technology",
          "Office Supplies",
          "Office Supplies",
          "Furniture",
          "",
          "",
          ""
         ],
         "type": "sunburst",
         "values": [
          167380.318,
          107532.161,
          27118.792,
          203412.733,
          114879.9963,
          328449.103,
          149528.03,
          16476.402,
          3024.28,
          91705.164,
          12486.312,
          189238.631,
          78479.206,
          330007.054,
          223843.608,
          46673.538,
          206965.532,
          741999.7953,
          719047.032,
          836154.033
         ]
        }
       ],
       "layout": {
        "height": 800,
        "legend": {
         "tracegroupgap": 0
        },
        "margin": {
         "t": 60
        },
        "template": {
         "data": {
          "bar": [
           {
            "error_x": {
             "color": "#2a3f5f"
            },
            "error_y": {
             "color": "#2a3f5f"
            },
            "marker": {
             "line": {
              "color": "#E5ECF6",
              "width": 0.5
             },
             "pattern": {
              "fillmode": "overlay",
              "size": 10,
              "solidity": 0.2
             }
            },
            "type": "bar"
           }
          ],
          "barpolar": [
           {
            "marker": {
             "line": {
              "color": "#E5ECF6",
              "width": 0.5
             },
             "pattern": {
              "fillmode": "overlay",
              "size": 10,
              "solidity": 0.2
             }
            },
            "type": "barpolar"
           }
          ],
          "carpet": [
           {
            "aaxis": {
             "endlinecolor": "#2a3f5f",
             "gridcolor": "white",
             "linecolor": "white",
             "minorgridcolor": "white",
             "startlinecolor": "#2a3f5f"
            },
            "baxis": {
             "endlinecolor": "#2a3f5f",
             "gridcolor": "white",
             "linecolor": "white",
             "minorgridcolor": "white",
             "startlinecolor": "#2a3f5f"
            },
            "type": "carpet"
           }
          ],
          "choropleth": [
           {
            "colorbar": {
             "outlinewidth": 0,
             "ticks": ""
            },
            "type": "choropleth"
           }
          ],
          "contour": [
           {
            "colorbar": {
             "outlinewidth": 0,
             "ticks": ""
            },
            "colorscale": [
             [
              0,
              "#0d0887"
             ],
             [
              0.1111111111111111,
              "#46039f"
             ],
             [
              0.2222222222222222,
              "#7201a8"
             ],
             [
              0.3333333333333333,
              "#9c179e"
             ],
             [
              0.4444444444444444,
              "#bd3786"
             ],
             [
              0.5555555555555556,
              "#d8576b"
             ],
             [
              0.6666666666666666,
              "#ed7953"
             ],
             [
              0.7777777777777778,
              "#fb9f3a"
             ],
             [
              0.8888888888888888,
              "#fdca26"
             ],
             [
              1,
              "#f0f921"
             ]
            ],
            "type": "contour"
           }
          ],
          "contourcarpet": [
           {
            "colorbar": {
             "outlinewidth": 0,
             "ticks": ""
            },
            "type": "contourcarpet"
           }
          ],
          "heatmap": [
           {
            "colorbar": {
             "outlinewidth": 0,
             "ticks": ""
            },
            "colorscale": [
             [
              0,
              "#0d0887"
             ],
             [
              0.1111111111111111,
              "#46039f"
             ],
             [
              0.2222222222222222,
              "#7201a8"
             ],
             [
              0.3333333333333333,
              "#9c179e"
             ],
             [
              0.4444444444444444,
              "#bd3786"
             ],
             [
              0.5555555555555556,
              "#d8576b"
             ],
             [
              0.6666666666666666,
              "#ed7953"
             ],
             [
              0.7777777777777778,
              "#fb9f3a"
             ],
             [
              0.8888888888888888,
              "#fdca26"
             ],
             [
              1,
              "#f0f921"
             ]
            ],
            "type": "heatmap"
           }
          ],
          "heatmapgl": [
           {
            "colorbar": {
             "outlinewidth": 0,
             "ticks": ""
            },
            "colorscale": [
             [
              0,
              "#0d0887"
             ],
             [
              0.1111111111111111,
              "#46039f"
             ],
             [
              0.2222222222222222,
              "#7201a8"
             ],
             [
              0.3333333333333333,
              "#9c179e"
             ],
             [
              0.4444444444444444,
              "#bd3786"
             ],
             [
              0.5555555555555556,
              "#d8576b"
             ],
             [
              0.6666666666666666,
              "#ed7953"
             ],
             [
              0.7777777777777778,
              "#fb9f3a"
             ],
             [
              0.8888888888888888,
              "#fdca26"
             ],
             [
              1,
              "#f0f921"
             ]
            ],
            "type": "heatmapgl"
           }
          ],
          "histogram": [
           {
            "marker": {
             "pattern": {
              "fillmode": "overlay",
              "size": 10,
              "solidity": 0.2
             }
            },
            "type": "histogram"
           }
          ],
          "histogram2d": [
           {
            "colorbar": {
             "outlinewidth": 0,
             "ticks": ""
            },
            "colorscale": [
             [
              0,
              "#0d0887"
             ],
             [
              0.1111111111111111,
              "#46039f"
             ],
             [
              0.2222222222222222,
              "#7201a8"
             ],
             [
              0.3333333333333333,
              "#9c179e"
             ],
             [
              0.4444444444444444,
              "#bd3786"
             ],
             [
              0.5555555555555556,
              "#d8576b"
             ],
             [
              0.6666666666666666,
              "#ed7953"
             ],
             [
              0.7777777777777778,
              "#fb9f3a"
             ],
             [
              0.8888888888888888,
              "#fdca26"
             ],
             [
              1,
              "#f0f921"
             ]
            ],
            "type": "histogram2d"
           }
          ],
          "histogram2dcontour": [
           {
            "colorbar": {
             "outlinewidth": 0,
             "ticks": ""
            },
            "colorscale": [
             [
              0,
              "#0d0887"
             ],
             [
              0.1111111111111111,
              "#46039f"
             ],
             [
              0.2222222222222222,
              "#7201a8"
             ],
             [
              0.3333333333333333,
              "#9c179e"
             ],
             [
              0.4444444444444444,
              "#bd3786"
             ],
             [
              0.5555555555555556,
              "#d8576b"
             ],
             [
              0.6666666666666666,
              "#ed7953"
             ],
             [
              0.7777777777777778,
              "#fb9f3a"
             ],
             [
              0.8888888888888888,
              "#fdca26"
             ],
             [
              1,
              "#f0f921"
             ]
            ],
            "type": "histogram2dcontour"
           }
          ],
          "mesh3d": [
           {
            "colorbar": {
             "outlinewidth": 0,
             "ticks": ""
            },
            "type": "mesh3d"
           }
          ],
          "parcoords": [
           {
            "line": {
             "colorbar": {
              "outlinewidth": 0,
              "ticks": ""
             }
            },
            "type": "parcoords"
           }
          ],
          "pie": [
           {
            "automargin": true,
            "type": "pie"
           }
          ],
          "scatter": [
           {
            "fillpattern": {
             "fillmode": "overlay",
             "size": 10,
             "solidity": 0.2
            },
            "type": "scatter"
           }
          ],
          "scatter3d": [
           {
            "line": {
             "colorbar": {
              "outlinewidth": 0,
              "ticks": ""
             }
            },
            "marker": {
             "colorbar": {
              "outlinewidth": 0,
              "ticks": ""
             }
            },
            "type": "scatter3d"
           }
          ],
          "scattercarpet": [
           {
            "marker": {
             "colorbar": {
              "outlinewidth": 0,
              "ticks": ""
             }
            },
            "type": "scattercarpet"
           }
          ],
          "scattergeo": [
           {
            "marker": {
             "colorbar": {
              "outlinewidth": 0,
              "ticks": ""
             }
            },
            "type": "scattergeo"
           }
          ],
          "scattergl": [
           {
            "marker": {
             "colorbar": {
              "outlinewidth": 0,
              "ticks": ""
             }
            },
            "type": "scattergl"
           }
          ],
          "scattermapbox": [
           {
            "marker": {
             "colorbar": {
              "outlinewidth": 0,
              "ticks": ""
             }
            },
            "type": "scattermapbox"
           }
          ],
          "scatterpolar": [
           {
            "marker": {
             "colorbar": {
              "outlinewidth": 0,
              "ticks": ""
             }
            },
            "type": "scatterpolar"
           }
          ],
          "scatterpolargl": [
           {
            "marker": {
             "colorbar": {
              "outlinewidth": 0,
              "ticks": ""
             }
            },
            "type": "scatterpolargl"
           }
          ],
          "scatterternary": [
           {
            "marker": {
             "colorbar": {
              "outlinewidth": 0,
              "ticks": ""
             }
            },
            "type": "scatterternary"
           }
          ],
          "surface": [
           {
            "colorbar": {
             "outlinewidth": 0,
             "ticks": ""
            },
            "colorscale": [
             [
              0,
              "#0d0887"
             ],
             [
              0.1111111111111111,
              "#46039f"
             ],
             [
              0.2222222222222222,
              "#7201a8"
             ],
             [
              0.3333333333333333,
              "#9c179e"
             ],
             [
              0.4444444444444444,
              "#bd3786"
             ],
             [
              0.5555555555555556,
              "#d8576b"
             ],
             [
              0.6666666666666666,
              "#ed7953"
             ],
             [
              0.7777777777777778,
              "#fb9f3a"
             ],
             [
              0.8888888888888888,
              "#fdca26"
             ],
             [
              1,
              "#f0f921"
             ]
            ],
            "type": "surface"
           }
          ],
          "table": [
           {
            "cells": {
             "fill": {
              "color": "#EBF0F8"
             },
             "line": {
              "color": "white"
             }
            },
            "header": {
             "fill": {
              "color": "#C8D4E3"
             },
             "line": {
              "color": "white"
             }
            },
            "type": "table"
           }
          ]
         },
         "layout": {
          "annotationdefaults": {
           "arrowcolor": "#2a3f5f",
           "arrowhead": 0,
           "arrowwidth": 1
          },
          "autotypenumbers": "strict",
          "coloraxis": {
           "colorbar": {
            "outlinewidth": 0,
            "ticks": ""
           }
          },
          "colorscale": {
           "diverging": [
            [
             0,
             "#8e0152"
            ],
            [
             0.1,
             "#c51b7d"
            ],
            [
             0.2,
             "#de77ae"
            ],
            [
             0.3,
             "#f1b6da"
            ],
            [
             0.4,
             "#fde0ef"
            ],
            [
             0.5,
             "#f7f7f7"
            ],
            [
             0.6,
             "#e6f5d0"
            ],
            [
             0.7,
             "#b8e186"
            ],
            [
             0.8,
             "#7fbc41"
            ],
            [
             0.9,
             "#4d9221"
            ],
            [
             1,
             "#276419"
            ]
           ],
           "sequential": [
            [
             0,
             "#0d0887"
            ],
            [
             0.1111111111111111,
             "#46039f"
            ],
            [
             0.2222222222222222,
             "#7201a8"
            ],
            [
             0.3333333333333333,
             "#9c179e"
            ],
            [
             0.4444444444444444,
             "#bd3786"
            ],
            [
             0.5555555555555556,
             "#d8576b"
            ],
            [
             0.6666666666666666,
             "#ed7953"
            ],
            [
             0.7777777777777778,
             "#fb9f3a"
            ],
            [
             0.8888888888888888,
             "#fdca26"
            ],
            [
             1,
             "#f0f921"
            ]
           ],
           "sequentialminus": [
            [
             0,
             "#0d0887"
            ],
            [
             0.1111111111111111,
             "#46039f"
            ],
            [
             0.2222222222222222,
             "#7201a8"
            ],
            [
             0.3333333333333333,
             "#9c179e"
            ],
            [
             0.4444444444444444,
             "#bd3786"
            ],
            [
             0.5555555555555556,
             "#d8576b"
            ],
            [
             0.6666666666666666,
             "#ed7953"
            ],
            [
             0.7777777777777778,
             "#fb9f3a"
            ],
            [
             0.8888888888888888,
             "#fdca26"
            ],
            [
             1,
             "#f0f921"
            ]
           ]
          },
          "colorway": [
           "#636efa",
           "#EF553B",
           "#00cc96",
           "#ab63fa",
           "#FFA15A",
           "#19d3f3",
           "#FF6692",
           "#B6E880",
           "#FF97FF",
           "#FECB52"
          ],
          "font": {
           "color": "#2a3f5f"
          },
          "geo": {
           "bgcolor": "white",
           "lakecolor": "white",
           "landcolor": "#E5ECF6",
           "showlakes": true,
           "showland": true,
           "subunitcolor": "white"
          },
          "hoverlabel": {
           "align": "left"
          },
          "hovermode": "closest",
          "mapbox": {
           "style": "light"
          },
          "paper_bgcolor": "white",
          "plot_bgcolor": "#E5ECF6",
          "polar": {
           "angularaxis": {
            "gridcolor": "white",
            "linecolor": "white",
            "ticks": ""
           },
           "bgcolor": "#E5ECF6",
           "radialaxis": {
            "gridcolor": "white",
            "linecolor": "white",
            "ticks": ""
           }
          },
          "scene": {
           "xaxis": {
            "backgroundcolor": "#E5ECF6",
            "gridcolor": "white",
            "gridwidth": 2,
            "linecolor": "white",
            "showbackground": true,
            "ticks": "",
            "zerolinecolor": "white"
           },
           "yaxis": {
            "backgroundcolor": "#E5ECF6",
            "gridcolor": "white",
            "gridwidth": 2,
            "linecolor": "white",
            "showbackground": true,
            "ticks": "",
            "zerolinecolor": "white"
           },
           "zaxis": {
            "backgroundcolor": "#E5ECF6",
            "gridcolor": "white",
            "gridwidth": 2,
            "linecolor": "white",
            "showbackground": true,
            "ticks": "",
            "zerolinecolor": "white"
           }
          },
          "shapedefaults": {
           "line": {
            "color": "#2a3f5f"
           }
          },
          "ternary": {
           "aaxis": {
            "gridcolor": "white",
            "linecolor": "white",
            "ticks": ""
           },
           "baxis": {
            "gridcolor": "white",
            "linecolor": "white",
            "ticks": ""
           },
           "bgcolor": "#E5ECF6",
           "caxis": {
            "gridcolor": "white",
            "linecolor": "white",
            "ticks": ""
           }
          },
          "title": {
           "x": 0.05
          },
          "xaxis": {
           "automargin": true,
           "gridcolor": "white",
           "linecolor": "white",
           "ticks": "",
           "title": {
            "standoff": 15
           },
           "zerolinecolor": "white",
           "zerolinewidth": 2
          },
          "yaxis": {
           "automargin": true,
           "gridcolor": "white",
           "linecolor": "white",
           "ticks": "",
           "title": {
            "standoff": 15
           },
           "zerolinecolor": "white",
           "zerolinewidth": 2
          }
         }
        },
        "width": 800
       }
      }
     },
     "metadata": {},
     "output_type": "display_data"
    }
   ],
   "source": [
    "fig = px.sunburst(df2,\n",
    "                  path=['Category', 'Sub-Category'],\n",
    "                  values='Sales',\n",
    "                  width=800,\n",
    "                  height=800\n",
    "                  )\n",
    "fig.show()"
   ]
  },
  {
   "cell_type": "code",
   "execution_count": 8,
   "metadata": {},
   "outputs": [
    {
     "data": {
      "application/vnd.plotly.v1+json": {
       "config": {
        "plotlyServerURL": "https://plot.ly"
       },
       "data": [
        {
         "alignmentgroup": "True",
         "bingroup": "y",
         "histfunc": "sum",
         "hovertemplate": "sum of Profit=%{x}<br>State=%{y}<extra></extra>",
         "legendgroup": "",
         "marker": {
          "color": "#636efa",
          "pattern": {
           "shape": ""
          }
         },
         "name": "",
         "offsetgroup": "",
         "orientation": "h",
         "showlegend": false,
         "type": "histogram",
         "x": [
          -25729.3563,
          -16971.3766,
          -15559.9603,
          -12607.887,
          -7490.9122,
          -6527.8579,
          -5341.6936,
          -3427.9246000000003,
          -3399.3017000000004,
          -1190.4705000000001,
          100.196,
          185.9216,
          230.1497,
          394.8283,
          454.4862,
          826.7231,
          836.4435,
          1059.5892999999999,
          1157.1161,
          1183.8119,
          1706.5028,
          1769.0566,
          1833.3285,
          2037.0942,
          2196.1023,
          2244.9782999999998,
          2546.5335,
          3172.9762,
          3316.7659,
          3511.4918,
          4008.6871,
          4853.956,
          5786.8253,
          6436.2105,
          6785.5016,
          7031.1788,
          7285.6293,
          8401.8004,
          9772.9138,
          9977.3748,
          10823.187399999999,
          11199.6966,
          16250.0433,
          18382.9363,
          18597.9504,
          24463.1876,
          33402.6517,
          74038.5486,
          76381.3871
         ],
         "xaxis": "x",
         "y": [
          "Texas",
          "Ohio",
          "Pennsylvania",
          "Illinois",
          "North Carolina",
          "Colorado",
          "Tennessee",
          "Arizona",
          "Florida",
          "Oregon",
          "Wyoming",
          "West Virginia",
          "North Dakota",
          "South Dakota",
          "Maine",
          "Idaho",
          "Kansas",
          "District of Columbia",
          "New Mexico",
          "Iowa",
          "New Hampshire",
          "South Carolina",
          "Montana",
          "Nebraska",
          "Louisiana",
          "Vermont",
          "Utah",
          "Mississippi",
          "Nevada",
          "Connecticut",
          "Arkansas",
          "Oklahoma",
          "Alabama",
          "Missouri",
          "Massachusetts",
          "Maryland",
          "Rhode Island",
          "Wisconsin",
          "New Jersey",
          "Delaware",
          "Minnesota",
          "Kentucky",
          "Georgia",
          "Indiana",
          "Virginia",
          "Michigan",
          "Washington",
          "New York",
          "California"
         ],
         "yaxis": "y"
        }
       ],
       "layout": {
        "barmode": "relative",
        "height": 600,
        "legend": {
         "tracegroupgap": 0
        },
        "margin": {
         "t": 60
        },
        "template": {
         "data": {
          "bar": [
           {
            "error_x": {
             "color": "#2a3f5f"
            },
            "error_y": {
             "color": "#2a3f5f"
            },
            "marker": {
             "line": {
              "color": "#E5ECF6",
              "width": 0.5
             },
             "pattern": {
              "fillmode": "overlay",
              "size": 10,
              "solidity": 0.2
             }
            },
            "type": "bar"
           }
          ],
          "barpolar": [
           {
            "marker": {
             "line": {
              "color": "#E5ECF6",
              "width": 0.5
             },
             "pattern": {
              "fillmode": "overlay",
              "size": 10,
              "solidity": 0.2
             }
            },
            "type": "barpolar"
           }
          ],
          "carpet": [
           {
            "aaxis": {
             "endlinecolor": "#2a3f5f",
             "gridcolor": "white",
             "linecolor": "white",
             "minorgridcolor": "white",
             "startlinecolor": "#2a3f5f"
            },
            "baxis": {
             "endlinecolor": "#2a3f5f",
             "gridcolor": "white",
             "linecolor": "white",
             "minorgridcolor": "white",
             "startlinecolor": "#2a3f5f"
            },
            "type": "carpet"
           }
          ],
          "choropleth": [
           {
            "colorbar": {
             "outlinewidth": 0,
             "ticks": ""
            },
            "type": "choropleth"
           }
          ],
          "contour": [
           {
            "colorbar": {
             "outlinewidth": 0,
             "ticks": ""
            },
            "colorscale": [
             [
              0,
              "#0d0887"
             ],
             [
              0.1111111111111111,
              "#46039f"
             ],
             [
              0.2222222222222222,
              "#7201a8"
             ],
             [
              0.3333333333333333,
              "#9c179e"
             ],
             [
              0.4444444444444444,
              "#bd3786"
             ],
             [
              0.5555555555555556,
              "#d8576b"
             ],
             [
              0.6666666666666666,
              "#ed7953"
             ],
             [
              0.7777777777777778,
              "#fb9f3a"
             ],
             [
              0.8888888888888888,
              "#fdca26"
             ],
             [
              1,
              "#f0f921"
             ]
            ],
            "type": "contour"
           }
          ],
          "contourcarpet": [
           {
            "colorbar": {
             "outlinewidth": 0,
             "ticks": ""
            },
            "type": "contourcarpet"
           }
          ],
          "heatmap": [
           {
            "colorbar": {
             "outlinewidth": 0,
             "ticks": ""
            },
            "colorscale": [
             [
              0,
              "#0d0887"
             ],
             [
              0.1111111111111111,
              "#46039f"
             ],
             [
              0.2222222222222222,
              "#7201a8"
             ],
             [
              0.3333333333333333,
              "#9c179e"
             ],
             [
              0.4444444444444444,
              "#bd3786"
             ],
             [
              0.5555555555555556,
              "#d8576b"
             ],
             [
              0.6666666666666666,
              "#ed7953"
             ],
             [
              0.7777777777777778,
              "#fb9f3a"
             ],
             [
              0.8888888888888888,
              "#fdca26"
             ],
             [
              1,
              "#f0f921"
             ]
            ],
            "type": "heatmap"
           }
          ],
          "heatmapgl": [
           {
            "colorbar": {
             "outlinewidth": 0,
             "ticks": ""
            },
            "colorscale": [
             [
              0,
              "#0d0887"
             ],
             [
              0.1111111111111111,
              "#46039f"
             ],
             [
              0.2222222222222222,
              "#7201a8"
             ],
             [
              0.3333333333333333,
              "#9c179e"
             ],
             [
              0.4444444444444444,
              "#bd3786"
             ],
             [
              0.5555555555555556,
              "#d8576b"
             ],
             [
              0.6666666666666666,
              "#ed7953"
             ],
             [
              0.7777777777777778,
              "#fb9f3a"
             ],
             [
              0.8888888888888888,
              "#fdca26"
             ],
             [
              1,
              "#f0f921"
             ]
            ],
            "type": "heatmapgl"
           }
          ],
          "histogram": [
           {
            "marker": {
             "pattern": {
              "fillmode": "overlay",
              "size": 10,
              "solidity": 0.2
             }
            },
            "type": "histogram"
           }
          ],
          "histogram2d": [
           {
            "colorbar": {
             "outlinewidth": 0,
             "ticks": ""
            },
            "colorscale": [
             [
              0,
              "#0d0887"
             ],
             [
              0.1111111111111111,
              "#46039f"
             ],
             [
              0.2222222222222222,
              "#7201a8"
             ],
             [
              0.3333333333333333,
              "#9c179e"
             ],
             [
              0.4444444444444444,
              "#bd3786"
             ],
             [
              0.5555555555555556,
              "#d8576b"
             ],
             [
              0.6666666666666666,
              "#ed7953"
             ],
             [
              0.7777777777777778,
              "#fb9f3a"
             ],
             [
              0.8888888888888888,
              "#fdca26"
             ],
             [
              1,
              "#f0f921"
             ]
            ],
            "type": "histogram2d"
           }
          ],
          "histogram2dcontour": [
           {
            "colorbar": {
             "outlinewidth": 0,
             "ticks": ""
            },
            "colorscale": [
             [
              0,
              "#0d0887"
             ],
             [
              0.1111111111111111,
              "#46039f"
             ],
             [
              0.2222222222222222,
              "#7201a8"
             ],
             [
              0.3333333333333333,
              "#9c179e"
             ],
             [
              0.4444444444444444,
              "#bd3786"
             ],
             [
              0.5555555555555556,
              "#d8576b"
             ],
             [
              0.6666666666666666,
              "#ed7953"
             ],
             [
              0.7777777777777778,
              "#fb9f3a"
             ],
             [
              0.8888888888888888,
              "#fdca26"
             ],
             [
              1,
              "#f0f921"
             ]
            ],
            "type": "histogram2dcontour"
           }
          ],
          "mesh3d": [
           {
            "colorbar": {
             "outlinewidth": 0,
             "ticks": ""
            },
            "type": "mesh3d"
           }
          ],
          "parcoords": [
           {
            "line": {
             "colorbar": {
              "outlinewidth": 0,
              "ticks": ""
             }
            },
            "type": "parcoords"
           }
          ],
          "pie": [
           {
            "automargin": true,
            "type": "pie"
           }
          ],
          "scatter": [
           {
            "fillpattern": {
             "fillmode": "overlay",
             "size": 10,
             "solidity": 0.2
            },
            "type": "scatter"
           }
          ],
          "scatter3d": [
           {
            "line": {
             "colorbar": {
              "outlinewidth": 0,
              "ticks": ""
             }
            },
            "marker": {
             "colorbar": {
              "outlinewidth": 0,
              "ticks": ""
             }
            },
            "type": "scatter3d"
           }
          ],
          "scattercarpet": [
           {
            "marker": {
             "colorbar": {
              "outlinewidth": 0,
              "ticks": ""
             }
            },
            "type": "scattercarpet"
           }
          ],
          "scattergeo": [
           {
            "marker": {
             "colorbar": {
              "outlinewidth": 0,
              "ticks": ""
             }
            },
            "type": "scattergeo"
           }
          ],
          "scattergl": [
           {
            "marker": {
             "colorbar": {
              "outlinewidth": 0,
              "ticks": ""
             }
            },
            "type": "scattergl"
           }
          ],
          "scattermapbox": [
           {
            "marker": {
             "colorbar": {
              "outlinewidth": 0,
              "ticks": ""
             }
            },
            "type": "scattermapbox"
           }
          ],
          "scatterpolar": [
           {
            "marker": {
             "colorbar": {
              "outlinewidth": 0,
              "ticks": ""
             }
            },
            "type": "scatterpolar"
           }
          ],
          "scatterpolargl": [
           {
            "marker": {
             "colorbar": {
              "outlinewidth": 0,
              "ticks": ""
             }
            },
            "type": "scatterpolargl"
           }
          ],
          "scatterternary": [
           {
            "marker": {
             "colorbar": {
              "outlinewidth": 0,
              "ticks": ""
             }
            },
            "type": "scatterternary"
           }
          ],
          "surface": [
           {
            "colorbar": {
             "outlinewidth": 0,
             "ticks": ""
            },
            "colorscale": [
             [
              0,
              "#0d0887"
             ],
             [
              0.1111111111111111,
              "#46039f"
             ],
             [
              0.2222222222222222,
              "#7201a8"
             ],
             [
              0.3333333333333333,
              "#9c179e"
             ],
             [
              0.4444444444444444,
              "#bd3786"
             ],
             [
              0.5555555555555556,
              "#d8576b"
             ],
             [
              0.6666666666666666,
              "#ed7953"
             ],
             [
              0.7777777777777778,
              "#fb9f3a"
             ],
             [
              0.8888888888888888,
              "#fdca26"
             ],
             [
              1,
              "#f0f921"
             ]
            ],
            "type": "surface"
           }
          ],
          "table": [
           {
            "cells": {
             "fill": {
              "color": "#EBF0F8"
             },
             "line": {
              "color": "white"
             }
            },
            "header": {
             "fill": {
              "color": "#C8D4E3"
             },
             "line": {
              "color": "white"
             }
            },
            "type": "table"
           }
          ]
         },
         "layout": {
          "annotationdefaults": {
           "arrowcolor": "#2a3f5f",
           "arrowhead": 0,
           "arrowwidth": 1
          },
          "autotypenumbers": "strict",
          "coloraxis": {
           "colorbar": {
            "outlinewidth": 0,
            "ticks": ""
           }
          },
          "colorscale": {
           "diverging": [
            [
             0,
             "#8e0152"
            ],
            [
             0.1,
             "#c51b7d"
            ],
            [
             0.2,
             "#de77ae"
            ],
            [
             0.3,
             "#f1b6da"
            ],
            [
             0.4,
             "#fde0ef"
            ],
            [
             0.5,
             "#f7f7f7"
            ],
            [
             0.6,
             "#e6f5d0"
            ],
            [
             0.7,
             "#b8e186"
            ],
            [
             0.8,
             "#7fbc41"
            ],
            [
             0.9,
             "#4d9221"
            ],
            [
             1,
             "#276419"
            ]
           ],
           "sequential": [
            [
             0,
             "#0d0887"
            ],
            [
             0.1111111111111111,
             "#46039f"
            ],
            [
             0.2222222222222222,
             "#7201a8"
            ],
            [
             0.3333333333333333,
             "#9c179e"
            ],
            [
             0.4444444444444444,
             "#bd3786"
            ],
            [
             0.5555555555555556,
             "#d8576b"
            ],
            [
             0.6666666666666666,
             "#ed7953"
            ],
            [
             0.7777777777777778,
             "#fb9f3a"
            ],
            [
             0.8888888888888888,
             "#fdca26"
            ],
            [
             1,
             "#f0f921"
            ]
           ],
           "sequentialminus": [
            [
             0,
             "#0d0887"
            ],
            [
             0.1111111111111111,
             "#46039f"
            ],
            [
             0.2222222222222222,
             "#7201a8"
            ],
            [
             0.3333333333333333,
             "#9c179e"
            ],
            [
             0.4444444444444444,
             "#bd3786"
            ],
            [
             0.5555555555555556,
             "#d8576b"
            ],
            [
             0.6666666666666666,
             "#ed7953"
            ],
            [
             0.7777777777777778,
             "#fb9f3a"
            ],
            [
             0.8888888888888888,
             "#fdca26"
            ],
            [
             1,
             "#f0f921"
            ]
           ]
          },
          "colorway": [
           "#636efa",
           "#EF553B",
           "#00cc96",
           "#ab63fa",
           "#FFA15A",
           "#19d3f3",
           "#FF6692",
           "#B6E880",
           "#FF97FF",
           "#FECB52"
          ],
          "font": {
           "color": "#2a3f5f"
          },
          "geo": {
           "bgcolor": "white",
           "lakecolor": "white",
           "landcolor": "#E5ECF6",
           "showlakes": true,
           "showland": true,
           "subunitcolor": "white"
          },
          "hoverlabel": {
           "align": "left"
          },
          "hovermode": "closest",
          "mapbox": {
           "style": "light"
          },
          "paper_bgcolor": "white",
          "plot_bgcolor": "#E5ECF6",
          "polar": {
           "angularaxis": {
            "gridcolor": "white",
            "linecolor": "white",
            "ticks": ""
           },
           "bgcolor": "#E5ECF6",
           "radialaxis": {
            "gridcolor": "white",
            "linecolor": "white",
            "ticks": ""
           }
          },
          "scene": {
           "xaxis": {
            "backgroundcolor": "#E5ECF6",
            "gridcolor": "white",
            "gridwidth": 2,
            "linecolor": "white",
            "showbackground": true,
            "ticks": "",
            "zerolinecolor": "white"
           },
           "yaxis": {
            "backgroundcolor": "#E5ECF6",
            "gridcolor": "white",
            "gridwidth": 2,
            "linecolor": "white",
            "showbackground": true,
            "ticks": "",
            "zerolinecolor": "white"
           },
           "zaxis": {
            "backgroundcolor": "#E5ECF6",
            "gridcolor": "white",
            "gridwidth": 2,
            "linecolor": "white",
            "showbackground": true,
            "ticks": "",
            "zerolinecolor": "white"
           }
          },
          "shapedefaults": {
           "line": {
            "color": "#2a3f5f"
           }
          },
          "ternary": {
           "aaxis": {
            "gridcolor": "white",
            "linecolor": "white",
            "ticks": ""
           },
           "baxis": {
            "gridcolor": "white",
            "linecolor": "white",
            "ticks": ""
           },
           "bgcolor": "#E5ECF6",
           "caxis": {
            "gridcolor": "white",
            "linecolor": "white",
            "ticks": ""
           }
          },
          "title": {
           "x": 0.05
          },
          "xaxis": {
           "automargin": true,
           "gridcolor": "white",
           "linecolor": "white",
           "ticks": "",
           "title": {
            "standoff": 15
           },
           "zerolinecolor": "white",
           "zerolinewidth": 2
          },
          "yaxis": {
           "automargin": true,
           "gridcolor": "white",
           "linecolor": "white",
           "ticks": "",
           "title": {
            "standoff": 15
           },
           "zerolinecolor": "white",
           "zerolinewidth": 2
          }
         }
        },
        "xaxis": {
         "anchor": "y",
         "domain": [
          0,
          1
         ],
         "title": {
          "text": "sum of Profit"
         }
        },
        "yaxis": {
         "anchor": "x",
         "domain": [
          0,
          1
         ],
         "title": {
          "text": "State"
         }
        }
       }
      }
     },
     "metadata": {},
     "output_type": "display_data"
    }
   ],
   "source": [
    "df2 = (df.groupby('State')\n",
    "         .sum(numeric_only=True)\n",
    "         .sort_values('Profit')\n",
    "         .reset_index()\n",
    "       )\n",
    "fig = px.histogram(df2,\n",
    "                   x='Profit',\n",
    "                   y='State',\n",
    "                   histfunc='sum',\n",
    "                   height=600\n",
    "                  )\n",
    "fig.show()"
   ]
  },
  {
   "cell_type": "code",
   "execution_count": 9,
   "metadata": {},
   "outputs": [
    {
     "data": {
      "text/plain": [
       "{'type': 'FeatureCollection',\n",
       " 'features': [{'type': 'Feature',\n",
       "   'id': 'AL',\n",
       "   'properties': {'name': 'Alabama'},\n",
       "   'geometry': {'type': 'Polygon',\n",
       "    'coordinates': [[[-87.359296, 35.00118],\n",
       "      [-85.606675, 34.984749],\n",
       "      [-85.431413, 34.124869],\n",
       "      [-85.184951, 32.859696],\n",
       "      [-85.069935, 32.580372],\n",
       "      [-84.960397, 32.421541],\n",
       "      [-85.004212, 32.322956],\n",
       "      [-84.889196, 32.262709],\n",
       "      [-85.058981, 32.13674],\n",
       "      [-85.053504, 32.01077],\n",
       "      [-85.141136, 31.840985],\n",
       "      [-85.042551, 31.539753],\n",
       "      [-85.113751, 31.27686],\n",
       "      [-85.004212, 31.003013],\n",
       "      [-85.497137, 30.997536],\n",
       "      [-87.600282, 30.997536],\n",
       "      [-87.633143, 30.86609],\n",
       "      [-87.408589, 30.674397],\n",
       "      [-87.446927, 30.510088],\n",
       "      [-87.37025, 30.427934],\n",
       "      [-87.518128, 30.280057],\n",
       "      [-87.655051, 30.247195],\n",
       "      [-87.90699, 30.411504],\n",
       "      [-87.934375, 30.657966],\n",
       "      [-88.011052, 30.685351],\n",
       "      [-88.10416, 30.499135],\n",
       "      [-88.137022, 30.318396],\n",
       "      [-88.394438, 30.367688],\n",
       "      [-88.471115, 31.895754],\n",
       "      [-88.241084, 33.796253],\n",
       "      [-88.098683, 34.891641],\n",
       "      [-88.202745, 34.995703],\n",
       "      [-87.359296, 35.00118]]]}},\n",
       "  {'type': 'Feature',\n",
       "   'id': 'AK',\n",
       "   'properties': {'name': 'Alaska'},\n",
       "   'geometry': {'type': 'MultiPolygon',\n",
       "    'coordinates': [[[[-131.602021, 55.117982],\n",
       "       [-131.569159, 55.28229],\n",
       "       [-131.355558, 55.183705],\n",
       "       [-131.38842, 55.01392],\n",
       "       [-131.645836, 55.035827],\n",
       "       [-131.602021, 55.117982]]],\n",
       "     [[[-131.832052, 55.42469],\n",
       "       [-131.645836, 55.304197],\n",
       "       [-131.749898, 55.128935],\n",
       "       [-131.832052, 55.189182],\n",
       "       [-131.832052, 55.42469]]],\n",
       "     [[[-132.976733, 56.437924],\n",
       "       [-132.735747, 56.459832],\n",
       "       [-132.631685, 56.421493],\n",
       "       [-132.664547, 56.273616],\n",
       "       [-132.878148, 56.240754],\n",
       "       [-133.069841, 56.333862],\n",
       "       [-132.976733, 56.437924]]],\n",
       "     [[[-133.595627, 56.350293],\n",
       "       [-133.162949, 56.317431],\n",
       "       [-133.05341, 56.125739],\n",
       "       [-132.620732, 55.912138],\n",
       "       [-132.472854, 55.780691],\n",
       "       [-132.4619, 55.671152],\n",
       "       [-132.357838, 55.649245],\n",
       "       [-132.341408, 55.506844],\n",
       "       [-132.166146, 55.364444],\n",
       "       [-132.144238, 55.238474],\n",
       "       [-132.029222, 55.276813],\n",
       "       [-131.97993, 55.178228],\n",
       "       [-131.958022, 54.789365],\n",
       "       [-132.029222, 54.701734],\n",
       "       [-132.308546, 54.718165],\n",
       "       [-132.385223, 54.915335],\n",
       "       [-132.483808, 54.898904],\n",
       "       [-132.686455, 55.046781],\n",
       "       [-132.746701, 54.997489],\n",
       "       [-132.916486, 55.046781],\n",
       "       [-132.889102, 54.898904],\n",
       "       [-132.73027, 54.937242],\n",
       "       [-132.626209, 54.882473],\n",
       "       [-132.675501, 54.679826],\n",
       "       [-132.867194, 54.701734],\n",
       "       [-133.157472, 54.95915],\n",
       "       [-133.239626, 55.090597],\n",
       "       [-133.223195, 55.22752],\n",
       "       [-133.453227, 55.216566],\n",
       "       [-133.453227, 55.320628],\n",
       "       [-133.277964, 55.331582],\n",
       "       [-133.102702, 55.42469],\n",
       "       [-133.17938, 55.588998],\n",
       "       [-133.387503, 55.62186],\n",
       "       [-133.420365, 55.884753],\n",
       "       [-133.497042, 56.0162],\n",
       "       [-133.639442, 55.923092],\n",
       "       [-133.694212, 56.070969],\n",
       "       [-133.546335, 56.142169],\n",
       "       [-133.666827, 56.311955],\n",
       "       [-133.595627, 56.350293]]],\n",
       "     [[[-133.738027, 55.556137],\n",
       "       [-133.546335, 55.490413],\n",
       "       [-133.414888, 55.572568],\n",
       "       [-133.283441, 55.534229],\n",
       "       [-133.420365, 55.386352],\n",
       "       [-133.633966, 55.430167],\n",
       "       [-133.738027, 55.556137]]],\n",
       "     [[[-133.907813, 56.930849],\n",
       "       [-134.050213, 57.029434],\n",
       "       [-133.885905, 57.095157],\n",
       "       [-133.343688, 57.002049],\n",
       "       [-133.102702, 57.007526],\n",
       "       [-132.932917, 56.82131],\n",
       "       [-132.620732, 56.667956],\n",
       "       [-132.653593, 56.55294],\n",
       "       [-132.817901, 56.492694],\n",
       "       [-133.042456, 56.520078],\n",
       "       [-133.201287, 56.448878],\n",
       "       [-133.420365, 56.492694],\n",
       "       [-133.66135, 56.448878],\n",
       "       [-133.710643, 56.684386],\n",
       "       [-133.688735, 56.837741],\n",
       "       [-133.869474, 56.843218],\n",
       "       [-133.907813, 56.930849]]],\n",
       "     [[[-134.115936, 56.48174],\n",
       "       [-134.25286, 56.558417],\n",
       "       [-134.400737, 56.722725],\n",
       "       [-134.417168, 56.848695],\n",
       "       [-134.296675, 56.908941],\n",
       "       [-134.170706, 56.848695],\n",
       "       [-134.143321, 56.952757],\n",
       "       [-133.748981, 56.772017],\n",
       "       [-133.710643, 56.596755],\n",
       "       [-133.847566, 56.574848],\n",
       "       [-133.935197, 56.377678],\n",
       "       [-133.836612, 56.322908],\n",
       "       [-133.957105, 56.092877],\n",
       "       [-134.110459, 56.142169],\n",
       "       [-134.132367, 55.999769],\n",
       "       [-134.230952, 56.070969],\n",
       "       [-134.291198, 56.350293],\n",
       "       [-134.115936, 56.48174]]],\n",
       "     [[[-134.636246, 56.28457],\n",
       "       [-134.669107, 56.169554],\n",
       "       [-134.806031, 56.235277],\n",
       "       [-135.178463, 56.67891],\n",
       "       [-135.413971, 56.810356],\n",
       "       [-135.331817, 56.914418],\n",
       "       [-135.424925, 57.166357],\n",
       "       [-135.687818, 57.369004],\n",
       "       [-135.419448, 57.566174],\n",
       "       [-135.298955, 57.48402],\n",
       "       [-135.063447, 57.418296],\n",
       "       [-134.849846, 57.407343],\n",
       "       [-134.844369, 57.248511],\n",
       "       [-134.636246, 56.728202],\n",
       "       [-134.636246, 56.28457]]],\n",
       "     [[[-134.712923, 58.223407],\n",
       "       [-134.373353, 58.14673],\n",
       "       [-134.176183, 58.157683],\n",
       "       [-134.187137, 58.081006],\n",
       "       [-133.902336, 57.807159],\n",
       "       [-134.099505, 57.850975],\n",
       "       [-134.148798, 57.757867],\n",
       "       [-133.935197, 57.615466],\n",
       "       [-133.869474, 57.363527],\n",
       "       [-134.083075, 57.297804],\n",
       "       [-134.154275, 57.210173],\n",
       "       [-134.499322, 57.029434],\n",
       "       [-134.603384, 57.034911],\n",
       "       [-134.6472, 57.226604],\n",
       "       [-134.575999, 57.341619],\n",
       "       [-134.608861, 57.511404],\n",
       "       [-134.729354, 57.719528],\n",
       "       [-134.707446, 57.829067],\n",
       "       [-134.784123, 58.097437],\n",
       "       [-134.91557, 58.212453],\n",
       "       [-134.953908, 58.409623],\n",
       "       [-134.712923, 58.223407]]],\n",
       "     [[[-135.857603, 57.330665],\n",
       "       [-135.715203, 57.330665],\n",
       "       [-135.567326, 57.149926],\n",
       "       [-135.633049, 57.023957],\n",
       "       [-135.857603, 56.996572],\n",
       "       [-135.824742, 57.193742],\n",
       "       [-135.857603, 57.330665]]],\n",
       "     [[[-136.279328, 58.206976],\n",
       "       [-135.978096, 58.201499],\n",
       "       [-135.780926, 58.28913],\n",
       "       [-135.496125, 58.168637],\n",
       "       [-135.64948, 58.037191],\n",
       "       [-135.59471, 57.987898],\n",
       "       [-135.45231, 58.135776],\n",
       "       [-135.107263, 58.086483],\n",
       "       [-134.91557, 57.976944],\n",
       "       [-135.025108, 57.779775],\n",
       "       [-134.937477, 57.763344],\n",
       "       [-134.822462, 57.500451],\n",
       "       [-135.085355, 57.462112],\n",
       "       [-135.572802, 57.675713],\n",
       "       [-135.556372, 57.456635],\n",
       "       [-135.709726, 57.369004],\n",
       "       [-135.890465, 57.407343],\n",
       "       [-136.000004, 57.544266],\n",
       "       [-136.208128, 57.637374],\n",
       "       [-136.366959, 57.829067],\n",
       "       [-136.569606, 57.916698],\n",
       "       [-136.558652, 58.075529],\n",
       "       [-136.421728, 58.130299],\n",
       "       [-136.377913, 58.267222],\n",
       "       [-136.279328, 58.206976]]],\n",
       "     [[[-147.079854, 60.200582],\n",
       "       [-147.501579, 59.948643],\n",
       "       [-147.53444, 59.850058],\n",
       "       [-147.874011, 59.784335],\n",
       "       [-147.80281, 59.937689],\n",
       "       [-147.435855, 60.09652],\n",
       "       [-147.205824, 60.271782],\n",
       "       [-147.079854, 60.200582]]],\n",
       "     [[[-147.561825, 60.578491],\n",
       "       [-147.616594, 60.370367],\n",
       "       [-147.758995, 60.156767],\n",
       "       [-147.956165, 60.227967],\n",
       "       [-147.791856, 60.474429],\n",
       "       [-147.561825, 60.578491]]],\n",
       "     [[[-147.786379, 70.245291],\n",
       "       [-147.682318, 70.201475],\n",
       "       [-147.162008, 70.15766],\n",
       "       [-146.888161, 70.185044],\n",
       "       [-146.510252, 70.185044],\n",
       "       [-146.099482, 70.146706],\n",
       "       [-145.858496, 70.168614],\n",
       "       [-145.622988, 70.08646],\n",
       "       [-145.195787, 69.993352],\n",
       "       [-144.620708, 69.971444],\n",
       "       [-144.461877, 70.026213],\n",
       "       [-144.078491, 70.059075],\n",
       "       [-143.914183, 70.130275],\n",
       "       [-143.497935, 70.141229],\n",
       "       [-143.503412, 70.091936],\n",
       "       [-143.25695, 70.119321],\n",
       "       [-142.747594, 70.042644],\n",
       "       [-142.402547, 69.916674],\n",
       "       [-142.079408, 69.856428],\n",
       "       [-142.008207, 69.801659],\n",
       "       [-141.712453, 69.790705],\n",
       "       [-141.433129, 69.697597],\n",
       "       [-141.378359, 69.63735],\n",
       "       [-141.208574, 69.686643],\n",
       "       [-141.00045, 69.648304],\n",
       "       [-141.00045, 60.304644],\n",
       "       [-140.53491, 60.22249],\n",
       "       [-140.474664, 60.310121],\n",
       "       [-139.987216, 60.184151],\n",
       "       [-139.696939, 60.342983],\n",
       "       [-139.088998, 60.359413],\n",
       "       [-139.198537, 60.091043],\n",
       "       [-139.045183, 59.997935],\n",
       "       [-138.700135, 59.910304],\n",
       "       [-138.623458, 59.767904],\n",
       "       [-137.604747, 59.242118],\n",
       "       [-137.445916, 58.908024],\n",
       "       [-137.265177, 59.001132],\n",
       "       [-136.827022, 59.159963],\n",
       "       [-136.580559, 59.16544],\n",
       "       [-136.465544, 59.285933],\n",
       "       [-136.476498, 59.466672],\n",
       "       [-136.301236, 59.466672],\n",
       "       [-136.25742, 59.625503],\n",
       "       [-135.945234, 59.663842],\n",
       "       [-135.479694, 59.800766],\n",
       "       [-135.025108, 59.565257],\n",
       "       [-135.068924, 59.422857],\n",
       "       [-134.959385, 59.280456],\n",
       "       [-134.701969, 59.247595],\n",
       "       [-134.378829, 59.033994],\n",
       "       [-134.400737, 58.973748],\n",
       "       [-134.25286, 58.858732],\n",
       "       [-133.842089, 58.727285],\n",
       "       [-133.173903, 58.152206],\n",
       "       [-133.075318, 57.998852],\n",
       "       [-132.867194, 57.845498],\n",
       "       [-132.560485, 57.505928],\n",
       "       [-132.253777, 57.21565],\n",
       "       [-132.368792, 57.095157],\n",
       "       [-132.05113, 57.051341],\n",
       "       [-132.127807, 56.876079],\n",
       "       [-131.870391, 56.804879],\n",
       "       [-131.837529, 56.602232],\n",
       "       [-131.580113, 56.613186],\n",
       "       [-131.087188, 56.405062],\n",
       "       [-130.78048, 56.366724],\n",
       "       [-130.621648, 56.268139],\n",
       "       [-130.468294, 56.240754],\n",
       "       [-130.424478, 56.142169],\n",
       "       [-130.101339, 56.114785],\n",
       "       [-130.002754, 55.994292],\n",
       "       [-130.150631, 55.769737],\n",
       "       [-130.128724, 55.583521],\n",
       "       [-129.986323, 55.276813],\n",
       "       [-130.095862, 55.200136],\n",
       "       [-130.336847, 54.920812],\n",
       "       [-130.687372, 54.718165],\n",
       "       [-130.785957, 54.822227],\n",
       "       [-130.917403, 54.789365],\n",
       "       [-131.010511, 54.997489],\n",
       "       [-130.983126, 55.08512],\n",
       "       [-131.092665, 55.189182],\n",
       "       [-130.862634, 55.298721],\n",
       "       [-130.928357, 55.337059],\n",
       "       [-131.158389, 55.200136],\n",
       "       [-131.284358, 55.287767],\n",
       "       [-131.426759, 55.238474],\n",
       "       [-131.843006, 55.457552],\n",
       "       [-131.700606, 55.698537],\n",
       "       [-131.963499, 55.616383],\n",
       "       [-131.974453, 55.49589],\n",
       "       [-132.182576, 55.588998],\n",
       "       [-132.226392, 55.704014],\n",
       "       [-132.083991, 55.829984],\n",
       "       [-132.127807, 55.955953],\n",
       "       [-132.324977, 55.851892],\n",
       "       [-132.522147, 56.076446],\n",
       "       [-132.642639, 56.032631],\n",
       "       [-132.719317, 56.218847],\n",
       "       [-132.527624, 56.339339],\n",
       "       [-132.341408, 56.339339],\n",
       "       [-132.396177, 56.487217],\n",
       "       [-132.297592, 56.67891],\n",
       "       [-132.450946, 56.673433],\n",
       "       [-132.768609, 56.837741],\n",
       "       [-132.993164, 57.034911],\n",
       "       [-133.51895, 57.177311],\n",
       "       [-133.507996, 57.577128],\n",
       "       [-133.677781, 57.62642],\n",
       "       [-133.639442, 57.790728],\n",
       "       [-133.814705, 57.834544],\n",
       "       [-134.072121, 58.053622],\n",
       "       [-134.143321, 58.168637],\n",
       "       [-134.586953, 58.206976],\n",
       "       [-135.074401, 58.502731],\n",
       "       [-135.282525, 59.192825],\n",
       "       [-135.38111, 59.033994],\n",
       "       [-135.337294, 58.891593],\n",
       "       [-135.140124, 58.617746],\n",
       "       [-135.189417, 58.573931],\n",
       "       [-135.05797, 58.349376],\n",
       "       [-135.085355, 58.201499],\n",
       "       [-135.277048, 58.234361],\n",
       "       [-135.430402, 58.398669],\n",
       "       [-135.633049, 58.426053],\n",
       "       [-135.91785, 58.382238],\n",
       "       [-135.912373, 58.617746],\n",
       "       [-136.087635, 58.814916],\n",
       "       [-136.246466, 58.75467],\n",
       "       [-136.876314, 58.962794],\n",
       "       [-136.931084, 58.902547],\n",
       "       [-136.586036, 58.836824],\n",
       "       [-136.317666, 58.672516],\n",
       "       [-136.213604, 58.667039],\n",
       "       [-136.180743, 58.535592],\n",
       "       [-136.043819, 58.382238],\n",
       "       [-136.388867, 58.294607],\n",
       "       [-136.591513, 58.349376],\n",
       "       [-136.59699, 58.212453],\n",
       "       [-136.859883, 58.316515],\n",
       "       [-136.947514, 58.393192],\n",
       "       [-137.111823, 58.393192],\n",
       "       [-137.566409, 58.590362],\n",
       "       [-137.900502, 58.765624],\n",
       "       [-137.933364, 58.869686],\n",
       "       [-138.11958, 59.02304],\n",
       "       [-138.634412, 59.132579],\n",
       "       [-138.919213, 59.247595],\n",
       "       [-139.417615, 59.379041],\n",
       "       [-139.746231, 59.505011],\n",
       "       [-139.718846, 59.641934],\n",
       "       [-139.625738, 59.598119],\n",
       "       [-139.5162, 59.68575],\n",
       "       [-139.625738, 59.88292],\n",
       "       [-139.488815, 59.992458],\n",
       "       [-139.554538, 60.041751],\n",
       "       [-139.801, 59.833627],\n",
       "       [-140.315833, 59.696704],\n",
       "       [-140.92925, 59.745996],\n",
       "       [-141.444083, 59.871966],\n",
       "       [-141.46599, 59.970551],\n",
       "       [-141.706976, 59.948643],\n",
       "       [-141.964392, 60.019843],\n",
       "       [-142.539471, 60.085566],\n",
       "       [-142.873564, 60.091043],\n",
       "       [-143.623905, 60.036274],\n",
       "       [-143.892275, 59.997935],\n",
       "       [-144.231845, 60.140336],\n",
       "       [-144.65357, 60.206059],\n",
       "       [-144.785016, 60.29369],\n",
       "       [-144.834309, 60.441568],\n",
       "       [-145.124586, 60.430614],\n",
       "       [-145.223171, 60.299167],\n",
       "       [-145.738004, 60.474429],\n",
       "       [-145.820158, 60.551106],\n",
       "       [-146.351421, 60.408706],\n",
       "       [-146.608837, 60.238921],\n",
       "       [-146.718376, 60.397752],\n",
       "       [-146.608837, 60.485383],\n",
       "       [-146.455483, 60.463475],\n",
       "       [-145.951604, 60.578491],\n",
       "       [-146.017328, 60.666122],\n",
       "       [-146.252836, 60.622307],\n",
       "       [-146.345944, 60.737322],\n",
       "       [-146.565022, 60.753753],\n",
       "       [-146.784099, 61.044031],\n",
       "       [-146.866253, 60.972831],\n",
       "       [-147.172962, 60.934492],\n",
       "       [-147.271547, 60.972831],\n",
       "       [-147.375609, 60.879723],\n",
       "       [-147.758995, 60.912584],\n",
       "       [-147.775426, 60.808523],\n",
       "       [-148.032842, 60.781138],\n",
       "       [-148.153334, 60.819476],\n",
       "       [-148.065703, 61.005692],\n",
       "       [-148.175242, 61.000215],\n",
       "       [-148.350504, 60.803046],\n",
       "       [-148.109519, 60.737322],\n",
       "       [-148.087611, 60.594922],\n",
       "       [-147.939734, 60.441568],\n",
       "       [-148.027365, 60.277259],\n",
       "       [-148.219058, 60.332029],\n",
       "       [-148.273827, 60.249875],\n",
       "       [-148.087611, 60.217013],\n",
       "       [-147.983549, 59.997935],\n",
       "       [-148.251919, 59.95412],\n",
       "       [-148.399797, 59.997935],\n",
       "       [-148.635305, 59.937689],\n",
       "       [-148.755798, 59.986981],\n",
       "       [-149.067984, 59.981505],\n",
       "       [-149.05703, 60.063659],\n",
       "       [-149.204907, 60.008889],\n",
       "       [-149.287061, 59.904827],\n",
       "       [-149.418508, 59.997935],\n",
       "       [-149.582816, 59.866489],\n",
       "       [-149.511616, 59.806242],\n",
       "       [-149.741647, 59.729565],\n",
       "       [-149.949771, 59.718611],\n",
       "       [-150.031925, 59.61455],\n",
       "       [-150.25648, 59.521442],\n",
       "       [-150.409834, 59.554303],\n",
       "       [-150.579619, 59.444764],\n",
       "       [-150.716543, 59.450241],\n",
       "       [-151.001343, 59.225687],\n",
       "       [-151.308052, 59.209256],\n",
       "       [-151.406637, 59.280456],\n",
       "       [-151.592853, 59.159963],\n",
       "       [-151.976239, 59.253071],\n",
       "       [-151.888608, 59.422857],\n",
       "       [-151.636669, 59.483103],\n",
       "       [-151.47236, 59.472149],\n",
       "       [-151.423068, 59.537872],\n",
       "       [-151.127313, 59.669319],\n",
       "       [-151.116359, 59.778858],\n",
       "       [-151.505222, 59.63098],\n",
       "       [-151.828361, 59.718611],\n",
       "       [-151.8667, 59.778858],\n",
       "       [-151.702392, 60.030797],\n",
       "       [-151.423068, 60.211536],\n",
       "       [-151.379252, 60.359413],\n",
       "       [-151.297098, 60.386798],\n",
       "       [-151.264237, 60.545629],\n",
       "       [-151.406637, 60.720892],\n",
       "       [-151.06159, 60.786615],\n",
       "       [-150.404357, 61.038554],\n",
       "       [-150.245526, 60.939969],\n",
       "       [-150.042879, 60.912584],\n",
       "       [-149.741647, 61.016646],\n",
       "       [-150.075741, 61.15357],\n",
       "       [-150.207187, 61.257632],\n",
       "       [-150.47008, 61.246678],\n",
       "       [-150.656296, 61.29597],\n",
       "       [-150.711066, 61.252155],\n",
       "       [-151.023251, 61.180954],\n",
       "       [-151.165652, 61.044031],\n",
       "       [-151.477837, 61.011169],\n",
       "       [-151.800977, 60.852338],\n",
       "       [-151.833838, 60.748276],\n",
       "       [-152.080301, 60.693507],\n",
       "       [-152.13507, 60.578491],\n",
       "       [-152.310332, 60.507291],\n",
       "       [-152.392486, 60.304644],\n",
       "       [-152.732057, 60.173197],\n",
       "       [-152.567748, 60.069136],\n",
       "       [-152.704672, 59.915781],\n",
       "       [-153.022334, 59.888397],\n",
       "       [-153.049719, 59.691227],\n",
       "       [-153.345474, 59.620026],\n",
       "       [-153.438582, 59.702181],\n",
       "       [-153.586459, 59.548826],\n",
       "       [-153.761721, 59.543349],\n",
       "       [-153.72886, 59.433811],\n",
       "       [-154.117723, 59.368087],\n",
       "       [-154.1944, 59.066856],\n",
       "       [-153.750768, 59.050425],\n",
       "       [-153.400243, 58.968271],\n",
       "       [-153.301658, 58.869686],\n",
       "       [-153.444059, 58.710854],\n",
       "       [-153.679567, 58.612269],\n",
       "       [-153.898645, 58.606793],\n",
       "       [-153.920553, 58.519161],\n",
       "       [-154.062953, 58.4863],\n",
       "       [-153.99723, 58.376761],\n",
       "       [-154.145107, 58.212453],\n",
       "       [-154.46277, 58.059098],\n",
       "       [-154.643509, 58.059098],\n",
       "       [-154.818771, 58.004329],\n",
       "       [-154.988556, 58.015283],\n",
       "       [-155.120003, 57.955037],\n",
       "       [-155.081664, 57.872883],\n",
       "       [-155.328126, 57.829067],\n",
       "       [-155.377419, 57.708574],\n",
       "       [-155.547204, 57.785251],\n",
       "       [-155.73342, 57.549743],\n",
       "       [-156.045606, 57.566174],\n",
       "       [-156.023698, 57.440204],\n",
       "       [-156.209914, 57.473066],\n",
       "       [-156.34136, 57.418296],\n",
       "       [-156.34136, 57.248511],\n",
       "       [-156.549484, 56.985618],\n",
       "       [-156.883577, 56.952757],\n",
       "       [-157.157424, 56.832264],\n",
       "       [-157.20124, 56.766541],\n",
       "       [-157.376502, 56.859649],\n",
       "       [-157.672257, 56.607709],\n",
       "       [-157.754411, 56.67891],\n",
       "       [-157.918719, 56.657002],\n",
       "       [-157.957058, 56.514601],\n",
       "       [-158.126843, 56.459832],\n",
       "       [-158.32949, 56.48174],\n",
       "       [-158.488321, 56.339339],\n",
       "       [-158.208997, 56.295524],\n",
       "       [-158.510229, 55.977861],\n",
       "       [-159.375585, 55.873799],\n",
       "       [-159.616571, 55.594475],\n",
       "       [-159.676817, 55.654722],\n",
       "       [-159.643955, 55.829984],\n",
       "       [-159.813741, 55.857368],\n",
       "       [-160.027341, 55.791645],\n",
       "       [-160.060203, 55.720445],\n",
       "       [-160.394296, 55.605429],\n",
       "       [-160.536697, 55.473983],\n",
       "       [-160.580512, 55.567091],\n",
       "       [-160.668143, 55.457552],\n",
       "       [-160.865313, 55.528752],\n",
       "       [-161.232268, 55.358967],\n",
       "       [-161.506115, 55.364444],\n",
       "       [-161.467776, 55.49589],\n",
       "       [-161.588269, 55.62186],\n",
       "       [-161.697808, 55.517798],\n",
       "       [-161.686854, 55.408259],\n",
       "       [-162.053809, 55.074166],\n",
       "       [-162.179779, 55.15632],\n",
       "       [-162.218117, 55.03035],\n",
       "       [-162.470057, 55.052258],\n",
       "       [-162.508395, 55.249428],\n",
       "       [-162.661749, 55.293244],\n",
       "       [-162.716519, 55.222043],\n",
       "       [-162.579595, 55.134412],\n",
       "       [-162.645319, 54.997489],\n",
       "       [-162.847965, 54.926289],\n",
       "       [-163.00132, 55.079643],\n",
       "       [-163.187536, 55.090597],\n",
       "       [-163.220397, 55.03035],\n",
       "       [-163.034181, 54.942719],\n",
       "       [-163.373752, 54.800319],\n",
       "       [-163.14372, 54.76198],\n",
       "       [-163.138243, 54.696257],\n",
       "       [-163.329936, 54.74555],\n",
       "       [-163.587352, 54.614103],\n",
       "       [-164.085754, 54.61958],\n",
       "       [-164.332216, 54.531949],\n",
       "       [-164.354124, 54.466226],\n",
       "       [-164.638925, 54.389548],\n",
       "       [-164.847049, 54.416933],\n",
       "       [-164.918249, 54.603149],\n",
       "       [-164.710125, 54.663395],\n",
       "       [-164.551294, 54.88795],\n",
       "       [-164.34317, 54.893427],\n",
       "       [-163.894061, 55.041304],\n",
       "       [-163.532583, 55.046781],\n",
       "       [-163.39566, 54.904381],\n",
       "       [-163.291598, 55.008443],\n",
       "       [-163.313505, 55.128935],\n",
       "       [-163.105382, 55.183705],\n",
       "       [-162.880827, 55.183705],\n",
       "       [-162.579595, 55.446598],\n",
       "       [-162.245502, 55.682106],\n",
       "       [-161.807347, 55.89023],\n",
       "       [-161.292514, 55.983338],\n",
       "       [-161.078914, 55.939523],\n",
       "       [-160.87079, 55.999769],\n",
       "       [-160.816021, 55.912138],\n",
       "       [-160.931036, 55.813553],\n",
       "       [-160.805067, 55.736876],\n",
       "       [-160.766728, 55.857368],\n",
       "       [-160.509312, 55.868322],\n",
       "       [-160.438112, 55.791645],\n",
       "       [-160.27928, 55.76426],\n",
       "       [-160.273803, 55.857368],\n",
       "       [-160.536697, 55.939523],\n",
       "       [-160.558604, 55.994292],\n",
       "       [-160.383342, 56.251708],\n",
       "       [-160.147834, 56.399586],\n",
       "       [-159.830171, 56.541986],\n",
       "       [-159.326293, 56.667956],\n",
       "       [-158.959338, 56.848695],\n",
       "       [-158.784076, 56.782971],\n",
       "       [-158.641675, 56.810356],\n",
       "       [-158.701922, 56.925372],\n",
       "       [-158.658106, 57.034911],\n",
       "       [-158.378782, 57.264942],\n",
       "       [-157.995396, 57.41282],\n",
       "       [-157.688688, 57.609989],\n",
       "       [-157.705118, 57.719528],\n",
       "       [-157.458656, 58.497254],\n",
       "       [-157.07527, 58.705377],\n",
       "       [-157.119086, 58.869686],\n",
       "       [-158.039212, 58.634177],\n",
       "       [-158.32949, 58.661562],\n",
       "       [-158.40069, 58.760147],\n",
       "       [-158.564998, 58.803962],\n",
       "       [-158.619768, 58.913501],\n",
       "       [-158.767645, 58.864209],\n",
       "       [-158.860753, 58.694424],\n",
       "       [-158.701922, 58.480823],\n",
       "       [-158.893615, 58.387715],\n",
       "       [-159.0634, 58.420577],\n",
       "       [-159.392016, 58.760147],\n",
       "       [-159.616571, 58.929932],\n",
       "       [-159.731586, 58.929932],\n",
       "       [-159.808264, 58.803962],\n",
       "       [-159.906848, 58.782055],\n",
       "       [-160.054726, 58.886116],\n",
       "       [-160.235465, 58.902547],\n",
       "       [-160.317619, 59.072332],\n",
       "       [-160.854359, 58.88064],\n",
       "       [-161.33633, 58.743716],\n",
       "       [-161.374669, 58.667039],\n",
       "       [-161.752577, 58.552023],\n",
       "       [-161.938793, 58.656085],\n",
       "       [-161.769008, 58.776578],\n",
       "       [-161.829255, 59.061379],\n",
       "       [-161.955224, 59.36261],\n",
       "       [-161.703285, 59.48858],\n",
       "       [-161.911409, 59.740519],\n",
       "       [-162.092148, 59.88292],\n",
       "       [-162.234548, 60.091043],\n",
       "       [-162.448149, 60.178674],\n",
       "       [-162.502918, 59.997935],\n",
       "       [-162.760334, 59.959597],\n",
       "       [-163.171105, 59.844581],\n",
       "       [-163.66403, 59.795289],\n",
       "       [-163.9324, 59.806242],\n",
       "       [-164.162431, 59.866489],\n",
       "       [-164.189816, 60.02532],\n",
       "       [-164.386986, 60.074613],\n",
       "       [-164.699171, 60.29369],\n",
       "       [-164.962064, 60.337506],\n",
       "       [-165.268773, 60.578491],\n",
       "       [-165.060649, 60.68803],\n",
       "       [-165.016834, 60.890677],\n",
       "       [-165.175665, 60.846861],\n",
       "       [-165.197573, 60.972831],\n",
       "       [-165.120896, 61.076893],\n",
       "       [-165.323543, 61.170001],\n",
       "       [-165.34545, 61.071416],\n",
       "       [-165.591913, 61.109754],\n",
       "       [-165.624774, 61.279539],\n",
       "       [-165.816467, 61.301447],\n",
       "       [-165.920529, 61.416463],\n",
       "       [-165.915052, 61.558863],\n",
       "       [-166.106745, 61.49314],\n",
       "       [-166.139607, 61.630064],\n",
       "       [-165.904098, 61.662925],\n",
       "       [-166.095791, 61.81628],\n",
       "       [-165.756221, 61.827233],\n",
       "       [-165.756221, 62.013449],\n",
       "       [-165.674067, 62.139419],\n",
       "       [-165.044219, 62.539236],\n",
       "       [-164.912772, 62.659728],\n",
       "       [-164.819664, 62.637821],\n",
       "       [-164.874433, 62.807606],\n",
       "       [-164.633448, 63.097884],\n",
       "       [-164.425324, 63.212899],\n",
       "       [-164.036462, 63.262192],\n",
       "       [-163.73523, 63.212899],\n",
       "       [-163.313505, 63.037637],\n",
       "       [-163.039658, 63.059545],\n",
       "       [-162.661749, 63.22933],\n",
       "       [-162.272887, 63.486746],\n",
       "       [-162.075717, 63.514131],\n",
       "       [-162.026424, 63.448408],\n",
       "       [-161.555408, 63.448408],\n",
       "       [-161.13916, 63.503177],\n",
       "       [-160.766728, 63.771547],\n",
       "       [-160.766728, 63.837271],\n",
       "       [-160.952944, 64.08921],\n",
       "       [-160.974852, 64.237087],\n",
       "       [-161.26513, 64.395918],\n",
       "       [-161.374669, 64.532842],\n",
       "       [-161.078914, 64.494503],\n",
       "       [-160.79959, 64.609519],\n",
       "       [-160.783159, 64.719058],\n",
       "       [-161.144637, 64.921705],\n",
       "       [-161.413007, 64.762873],\n",
       "       [-161.664946, 64.790258],\n",
       "       [-161.900455, 64.702627],\n",
       "       [-162.168825, 64.680719],\n",
       "       [-162.234548, 64.620473],\n",
       "       [-162.541257, 64.532842],\n",
       "       [-162.634365, 64.384965],\n",
       "       [-162.787719, 64.324718],\n",
       "       [-162.858919, 64.49998],\n",
       "       [-163.045135, 64.538319],\n",
       "       [-163.176582, 64.401395],\n",
       "       [-163.253259, 64.467119],\n",
       "       [-163.598306, 64.565704],\n",
       "       [-164.304832, 64.560227],\n",
       "       [-164.80871, 64.450688],\n",
       "       [-165.000403, 64.434257],\n",
       "       [-165.411174, 64.49998],\n",
       "       [-166.188899, 64.576658],\n",
       "       [-166.391546, 64.636904],\n",
       "       [-166.484654, 64.735489],\n",
       "       [-166.413454, 64.872412],\n",
       "       [-166.692778, 64.987428],\n",
       "       [-166.638008, 65.113398],\n",
       "       [-166.462746, 65.179121],\n",
       "       [-166.517516, 65.337952],\n",
       "       [-166.796839, 65.337952],\n",
       "       [-167.026871, 65.381768],\n",
       "       [-167.47598, 65.414629],\n",
       "       [-167.711489, 65.496784],\n",
       "       [-168.072967, 65.578938],\n",
       "       [-168.105828, 65.682999],\n",
       "       [-167.541703, 65.819923],\n",
       "       [-166.829701, 66.049954],\n",
       "       [-166.3313, 66.186878],\n",
       "       [-166.046499, 66.110201],\n",
       "       [-165.756221, 66.09377],\n",
       "       [-165.690498, 66.203309],\n",
       "       [-165.86576, 66.21974],\n",
       "       [-165.88219, 66.312848],\n",
       "       [-165.186619, 66.466202],\n",
       "       [-164.403417, 66.581218],\n",
       "       [-163.981692, 66.592172],\n",
       "       [-163.751661, 66.553833],\n",
       "       [-163.872153, 66.389525],\n",
       "       [-163.828338, 66.274509],\n",
       "       [-163.915969, 66.192355],\n",
       "       [-163.768091, 66.060908],\n",
       "       [-163.494244, 66.082816],\n",
       "       [-163.149197, 66.060908],\n",
       "       [-162.749381, 66.088293],\n",
       "       [-162.634365, 66.039001],\n",
       "       [-162.371472, 66.028047],\n",
       "       [-162.14144, 66.077339],\n",
       "       [-161.840208, 66.02257],\n",
       "       [-161.549931, 66.241647],\n",
       "       [-161.341807, 66.252601],\n",
       "       [-161.199406, 66.208786],\n",
       "       [-161.128206, 66.334755],\n",
       "       [-161.528023, 66.395002],\n",
       "       [-161.911409, 66.345709],\n",
       "       [-161.87307, 66.510017],\n",
       "       [-162.174302, 66.68528],\n",
       "       [-162.502918, 66.740049],\n",
       "       [-162.601503, 66.89888],\n",
       "       [-162.344087, 66.937219],\n",
       "       [-162.015471, 66.778388],\n",
       "       [-162.075717, 66.652418],\n",
       "       [-161.916886, 66.553833],\n",
       "       [-161.571838, 66.438817],\n",
       "       [-161.489684, 66.55931],\n",
       "       [-161.884024, 66.718141],\n",
       "       [-161.714239, 67.002942],\n",
       "       [-161.851162, 67.052235],\n",
       "       [-162.240025, 66.991988],\n",
       "       [-162.639842, 67.008419],\n",
       "       [-162.700088, 67.057712],\n",
       "       [-162.902735, 67.008419],\n",
       "       [-163.740707, 67.128912],\n",
       "       [-163.757138, 67.254881],\n",
       "       [-164.009077, 67.534205],\n",
       "       [-164.211724, 67.638267],\n",
       "       [-164.534863, 67.725898],\n",
       "       [-165.192096, 67.966884],\n",
       "       [-165.493328, 68.059992],\n",
       "       [-165.794559, 68.081899],\n",
       "       [-166.243668, 68.246208],\n",
       "       [-166.681824, 68.339316],\n",
       "       [-166.703731, 68.372177],\n",
       "       [-166.375115, 68.42147],\n",
       "       [-166.227238, 68.574824],\n",
       "       [-166.216284, 68.881533],\n",
       "       [-165.329019, 68.859625],\n",
       "       [-164.255539, 68.930825],\n",
       "       [-163.976215, 68.985595],\n",
       "       [-163.532583, 69.138949],\n",
       "       [-163.110859, 69.374457],\n",
       "       [-163.023228, 69.609966],\n",
       "       [-162.842489, 69.812613],\n",
       "       [-162.470057, 69.982398],\n",
       "       [-162.311225, 70.108367],\n",
       "       [-161.851162, 70.311014],\n",
       "       [-161.779962, 70.256245],\n",
       "       [-161.396576, 70.239814],\n",
       "       [-160.837928, 70.343876],\n",
       "       [-160.487404, 70.453415],\n",
       "       [-159.649432, 70.792985],\n",
       "       [-159.33177, 70.809416],\n",
       "       [-159.298908, 70.760123],\n",
       "       [-158.975769, 70.798462],\n",
       "       [-158.658106, 70.787508],\n",
       "       [-158.033735, 70.831323],\n",
       "       [-157.420318, 70.979201],\n",
       "       [-156.812377, 71.285909],\n",
       "       [-156.565915, 71.351633],\n",
       "       [-156.522099, 71.296863],\n",
       "       [-155.585543, 71.170894],\n",
       "       [-155.508865, 71.083263],\n",
       "       [-155.832005, 70.968247],\n",
       "       [-155.979882, 70.96277],\n",
       "       [-155.974405, 70.809416],\n",
       "       [-155.503388, 70.858708],\n",
       "       [-155.476004, 70.940862],\n",
       "       [-155.262403, 71.017539],\n",
       "       [-155.191203, 70.973724],\n",
       "       [-155.032372, 71.148986],\n",
       "       [-154.566832, 70.990155],\n",
       "       [-154.643509, 70.869662],\n",
       "       [-154.353231, 70.8368],\n",
       "       [-154.183446, 70.7656],\n",
       "       [-153.931507, 70.880616],\n",
       "       [-153.487874, 70.886093],\n",
       "       [-153.235935, 70.924431],\n",
       "       [-152.589656, 70.886093],\n",
       "       [-152.26104, 70.842277],\n",
       "       [-152.419871, 70.606769],\n",
       "       [-151.817408, 70.546523],\n",
       "       [-151.773592, 70.486276],\n",
       "       [-151.187559, 70.382214],\n",
       "       [-151.182082, 70.431507],\n",
       "       [-150.760358, 70.49723],\n",
       "       [-150.355064, 70.491753],\n",
       "       [-150.349588, 70.436984],\n",
       "       [-150.114079, 70.431507],\n",
       "       [-149.867617, 70.508184],\n",
       "       [-149.462323, 70.519138],\n",
       "       [-149.177522, 70.486276],\n",
       "       [-148.78866, 70.404122],\n",
       "       [-148.607921, 70.420553],\n",
       "       [-148.350504, 70.305537],\n",
       "       [-148.202627, 70.349353],\n",
       "       [-147.961642, 70.316491],\n",
       "       [-147.786379, 70.245291]]],\n",
       "     [[[-152.94018, 58.026237],\n",
       "       [-152.945657, 57.982421],\n",
       "       [-153.290705, 58.048145],\n",
       "       [-153.044242, 58.305561],\n",
       "       [-152.819688, 58.327469],\n",
       "       [-152.666333, 58.562977],\n",
       "       [-152.496548, 58.354853],\n",
       "       [-152.354148, 58.426053],\n",
       "       [-152.080301, 58.311038],\n",
       "       [-152.080301, 58.152206],\n",
       "       [-152.480117, 58.130299],\n",
       "       [-152.655379, 58.059098],\n",
       "       [-152.94018, 58.026237]]],\n",
       "     [[[-153.958891, 57.538789],\n",
       "       [-153.67409, 57.670236],\n",
       "       [-153.931507, 57.69762],\n",
       "       [-153.936983, 57.812636],\n",
       "       [-153.723383, 57.889313],\n",
       "       [-153.570028, 57.834544],\n",
       "       [-153.548121, 57.719528],\n",
       "       [-153.46049, 57.796205],\n",
       "       [-153.455013, 57.96599],\n",
       "       [-153.268797, 57.889313],\n",
       "       [-153.235935, 57.998852],\n",
       "       [-153.071627, 57.933129],\n",
       "       [-152.874457, 57.933129],\n",
       "       [-152.721103, 57.993375],\n",
       "       [-152.469163, 57.889313],\n",
       "       [-152.469163, 57.599035],\n",
       "       [-152.151501, 57.620943],\n",
       "       [-152.359625, 57.42925],\n",
       "       [-152.74301, 57.505928],\n",
       "       [-152.60061, 57.379958],\n",
       "       [-152.710149, 57.275896],\n",
       "       [-152.907319, 57.325188],\n",
       "       [-152.912796, 57.128019],\n",
       "       [-153.214027, 57.073249],\n",
       "       [-153.312612, 56.991095],\n",
       "       [-153.498828, 57.067772],\n",
       "       [-153.695998, 56.859649],\n",
       "       [-153.849352, 56.837741],\n",
       "       [-154.013661, 56.744633],\n",
       "       [-154.073907, 56.969187],\n",
       "       [-154.303938, 56.848695],\n",
       "       [-154.314892, 56.919895],\n",
       "       [-154.523016, 56.991095],\n",
       "       [-154.539447, 57.193742],\n",
       "       [-154.742094, 57.275896],\n",
       "       [-154.627078, 57.511404],\n",
       "       [-154.227261, 57.659282],\n",
       "       [-153.980799, 57.648328],\n",
       "       [-153.958891, 57.538789]]],\n",
       "     [[[-154.53397, 56.602232],\n",
       "       [-154.742094, 56.399586],\n",
       "       [-154.807817, 56.432447],\n",
       "       [-154.53397, 56.602232]]],\n",
       "     [[[-155.634835, 55.923092],\n",
       "       [-155.476004, 55.912138],\n",
       "       [-155.530773, 55.704014],\n",
       "       [-155.793666, 55.731399],\n",
       "       [-155.837482, 55.802599],\n",
       "       [-155.634835, 55.923092]]],\n",
       "     [[[-159.890418, 55.28229],\n",
       "       [-159.950664, 55.068689],\n",
       "       [-160.257373, 54.893427],\n",
       "       [-160.109495, 55.161797],\n",
       "       [-160.005433, 55.134412],\n",
       "       [-159.890418, 55.28229]]],\n",
       "     [[[-160.520266, 55.358967],\n",
       "       [-160.33405, 55.358967],\n",
       "       [-160.339527, 55.249428],\n",
       "       [-160.525743, 55.128935],\n",
       "       [-160.690051, 55.211089],\n",
       "       [-160.794113, 55.134412],\n",
       "       [-160.854359, 55.320628],\n",
       "       [-160.79959, 55.380875],\n",
       "       [-160.520266, 55.358967]]],\n",
       "     [[[-162.256456, 54.981058],\n",
       "       [-162.234548, 54.893427],\n",
       "       [-162.349564, 54.838658],\n",
       "       [-162.437195, 54.931766],\n",
       "       [-162.256456, 54.981058]]],\n",
       "     [[[-162.415287, 63.634624],\n",
       "       [-162.563165, 63.536039],\n",
       "       [-162.612457, 63.62367],\n",
       "       [-162.415287, 63.634624]]],\n",
       "     [[[-162.80415, 54.488133],\n",
       "       [-162.590549, 54.449795],\n",
       "       [-162.612457, 54.367641],\n",
       "       [-162.782242, 54.373118],\n",
       "       [-162.80415, 54.488133]]],\n",
       "     [[[-165.548097, 54.29644],\n",
       "       [-165.476897, 54.181425],\n",
       "       [-165.630251, 54.132132],\n",
       "       [-165.685021, 54.252625],\n",
       "       [-165.548097, 54.29644]]],\n",
       "     [[[-165.73979, 54.15404],\n",
       "       [-166.046499, 54.044501],\n",
       "       [-166.112222, 54.121178],\n",
       "       [-165.980775, 54.219763],\n",
       "       [-165.73979, 54.15404]]],\n",
       "     [[[-166.364161, 60.359413],\n",
       "       [-166.13413, 60.397752],\n",
       "       [-166.084837, 60.326552],\n",
       "       [-165.88219, 60.342983],\n",
       "       [-165.685021, 60.277259],\n",
       "       [-165.646682, 59.992458],\n",
       "       [-165.750744, 59.89935],\n",
       "       [-166.00816, 59.844581],\n",
       "       [-166.062929, 59.745996],\n",
       "       [-166.440838, 59.855535],\n",
       "       [-166.6161, 59.850058],\n",
       "       [-166.994009, 59.992458],\n",
       "       [-167.125456, 59.992458],\n",
       "       [-167.344534, 60.074613],\n",
       "       [-167.421211, 60.206059],\n",
       "       [-167.311672, 60.238921],\n",
       "       [-166.93924, 60.206059],\n",
       "       [-166.763978, 60.310121],\n",
       "       [-166.577762, 60.321075],\n",
       "       [-166.495608, 60.392275],\n",
       "       [-166.364161, 60.359413]]],\n",
       "     [[[-166.375115, 54.01164],\n",
       "       [-166.210807, 53.934962],\n",
       "       [-166.5449, 53.748746],\n",
       "       [-166.539423, 53.715885],\n",
       "       [-166.117699, 53.852808],\n",
       "       [-166.112222, 53.776131],\n",
       "       [-166.282007, 53.683023],\n",
       "       [-166.555854, 53.622777],\n",
       "       [-166.583239, 53.529669],\n",
       "       [-166.878994, 53.431084],\n",
       "       [-167.13641, 53.425607],\n",
       "       [-167.306195, 53.332499],\n",
       "       [-167.623857, 53.250345],\n",
       "       [-167.793643, 53.337976],\n",
       "       [-167.459549, 53.442038],\n",
       "       [-167.355487, 53.425607],\n",
       "       [-167.103548, 53.513238],\n",
       "       [-167.163794, 53.611823],\n",
       "       [-167.021394, 53.715885],\n",
       "       [-166.807793, 53.666592],\n",
       "       [-166.785886, 53.732316],\n",
       "       [-167.015917, 53.754223],\n",
       "       [-167.141887, 53.825424],\n",
       "       [-167.032348, 53.945916],\n",
       "       [-166.643485, 54.017116],\n",
       "       [-166.561331, 53.880193],\n",
       "       [-166.375115, 54.01164]]],\n",
       "     [[[-168.790446, 53.157237],\n",
       "       [-168.40706, 53.34893],\n",
       "       [-168.385152, 53.431084],\n",
       "       [-168.237275, 53.524192],\n",
       "       [-168.007243, 53.568007],\n",
       "       [-167.886751, 53.518715],\n",
       "       [-167.842935, 53.387268],\n",
       "       [-168.270136, 53.244868],\n",
       "       [-168.500168, 53.036744],\n",
       "       [-168.686384, 52.965544],\n",
       "       [-168.790446, 53.157237]]],\n",
       "     [[[-169.74891, 52.894344],\n",
       "       [-169.705095, 52.795759],\n",
       "       [-169.962511, 52.790282],\n",
       "       [-169.989896, 52.856005],\n",
       "       [-169.74891, 52.894344]]],\n",
       "     [[[-170.148727, 57.221127],\n",
       "       [-170.28565, 57.128019],\n",
       "       [-170.313035, 57.221127],\n",
       "       [-170.148727, 57.221127]]],\n",
       "     [[[-170.669036, 52.697174],\n",
       "       [-170.603313, 52.604066],\n",
       "       [-170.789529, 52.538343],\n",
       "       [-170.816914, 52.636928],\n",
       "       [-170.669036, 52.697174]]],\n",
       "     [[[-171.742517, 63.716778],\n",
       "       [-170.94836, 63.5689],\n",
       "       [-170.488297, 63.69487],\n",
       "       [-170.280174, 63.683916],\n",
       "       [-170.093958, 63.612716],\n",
       "       [-170.044665, 63.492223],\n",
       "       [-169.644848, 63.4265],\n",
       "       [-169.518879, 63.366254],\n",
       "       [-168.99857, 63.338869],\n",
       "       [-168.686384, 63.295053],\n",
       "       [-168.856169, 63.147176],\n",
       "       [-169.108108, 63.180038],\n",
       "       [-169.376478, 63.152653],\n",
       "       [-169.513402, 63.08693],\n",
       "       [-169.639372, 62.939052],\n",
       "       [-169.831064, 63.075976],\n",
       "       [-170.055619, 63.169084],\n",
       "       [-170.263743, 63.180038],\n",
       "       [-170.362328, 63.2841],\n",
       "       [-170.866206, 63.415546],\n",
       "       [-171.101715, 63.421023],\n",
       "       [-171.463193, 63.306007],\n",
       "       [-171.73704, 63.366254],\n",
       "       [-171.852055, 63.486746],\n",
       "       [-171.742517, 63.716778]]],\n",
       "     [[[-172.432611, 52.390465],\n",
       "       [-172.41618, 52.275449],\n",
       "       [-172.607873, 52.253542],\n",
       "       [-172.569535, 52.352127],\n",
       "       [-172.432611, 52.390465]]],\n",
       "     [[[-173.626584, 52.14948],\n",
       "       [-173.495138, 52.105664],\n",
       "       [-173.122706, 52.111141],\n",
       "       [-173.106275, 52.07828],\n",
       "       [-173.549907, 52.028987],\n",
       "       [-173.626584, 52.14948]]],\n",
       "     [[[-174.322156, 52.280926],\n",
       "       [-174.327632, 52.379511],\n",
       "       [-174.185232, 52.41785],\n",
       "       [-173.982585, 52.319265],\n",
       "       [-174.059262, 52.226157],\n",
       "       [-174.179755, 52.231634],\n",
       "       [-174.141417, 52.127572],\n",
       "       [-174.333109, 52.116618],\n",
       "       [-174.738403, 52.007079],\n",
       "       [-174.968435, 52.039941],\n",
       "       [-174.902711, 52.116618],\n",
       "       [-174.656249, 52.105664],\n",
       "       [-174.322156, 52.280926]]],\n",
       "     [[[-176.469116, 51.853725],\n",
       "       [-176.288377, 51.870156],\n",
       "       [-176.288377, 51.744186],\n",
       "       [-176.518409, 51.760617],\n",
       "       [-176.80321, 51.61274],\n",
       "       [-176.912748, 51.80991],\n",
       "       [-176.792256, 51.815386],\n",
       "       [-176.775825, 51.963264],\n",
       "       [-176.627947, 51.968741],\n",
       "       [-176.627947, 51.859202],\n",
       "       [-176.469116, 51.853725]]],\n",
       "     [[[-177.153734, 51.946833],\n",
       "       [-177.044195, 51.897541],\n",
       "       [-177.120872, 51.727755],\n",
       "       [-177.274226, 51.678463],\n",
       "       [-177.279703, 51.782525],\n",
       "       [-177.153734, 51.946833]]],\n",
       "     [[[-178.123152, 51.919448],\n",
       "       [-177.953367, 51.913971],\n",
       "       [-177.800013, 51.793479],\n",
       "       [-177.964321, 51.651078],\n",
       "       [-178.123152, 51.919448]]],\n",
       "     [[[173.107557, 52.992929],\n",
       "       [173.293773, 52.927205],\n",
       "       [173.304726, 52.823143],\n",
       "       [172.90491, 52.762897],\n",
       "       [172.642017, 52.927205],\n",
       "       [172.642017, 53.003883],\n",
       "       [173.107557, 52.992929]]]]}},\n",
       "  {'type': 'Feature',\n",
       "   'id': 'AZ',\n",
       "   'properties': {'name': 'Arizona'},\n",
       "   'geometry': {'type': 'Polygon',\n",
       "    'coordinates': [[[-109.042503, 37.000263],\n",
       "      [-109.04798, 31.331629],\n",
       "      [-111.074448, 31.331629],\n",
       "      [-112.246513, 31.704061],\n",
       "      [-114.815198, 32.492741],\n",
       "      [-114.72209, 32.717295],\n",
       "      [-114.524921, 32.755634],\n",
       "      [-114.470151, 32.843265],\n",
       "      [-114.524921, 33.029481],\n",
       "      [-114.661844, 33.034958],\n",
       "      [-114.727567, 33.40739],\n",
       "      [-114.524921, 33.54979],\n",
       "      [-114.497536, 33.697668],\n",
       "      [-114.535874, 33.933176],\n",
       "      [-114.415382, 34.108438],\n",
       "      [-114.256551, 34.174162],\n",
       "      [-114.136058, 34.305608],\n",
       "      [-114.333228, 34.448009],\n",
       "      [-114.470151, 34.710902],\n",
       "      [-114.634459, 34.87521],\n",
       "      [-114.634459, 35.00118],\n",
       "      [-114.574213, 35.138103],\n",
       "      [-114.596121, 35.324319],\n",
       "      [-114.678275, 35.516012],\n",
       "      [-114.738521, 36.102045],\n",
       "      [-114.371566, 36.140383],\n",
       "      [-114.251074, 36.01989],\n",
       "      [-114.152489, 36.025367],\n",
       "      [-114.048427, 36.195153],\n",
       "      [-114.048427, 37.000263],\n",
       "      [-110.499369, 37.00574],\n",
       "      [-109.042503, 37.000263]]]}},\n",
       "  {'type': 'Feature',\n",
       "   'id': 'AR',\n",
       "   'properties': {'name': 'Arkansas'},\n",
       "   'geometry': {'type': 'Polygon',\n",
       "    'coordinates': [[[-94.473842, 36.501861],\n",
       "      [-90.152536, 36.496384],\n",
       "      [-90.064905, 36.304691],\n",
       "      [-90.218259, 36.184199],\n",
       "      [-90.377091, 35.997983],\n",
       "      [-89.730812, 35.997983],\n",
       "      [-89.763673, 35.811767],\n",
       "      [-89.911551, 35.756997],\n",
       "      [-89.944412, 35.603643],\n",
       "      [-90.130628, 35.439335],\n",
       "      [-90.114197, 35.198349],\n",
       "      [-90.212782, 35.023087],\n",
       "      [-90.311367, 34.995703],\n",
       "      [-90.251121, 34.908072],\n",
       "      [-90.409952, 34.831394],\n",
       "      [-90.481152, 34.661609],\n",
       "      [-90.585214, 34.617794],\n",
       "      [-90.568783, 34.420624],\n",
       "      [-90.749522, 34.365854],\n",
       "      [-90.744046, 34.300131],\n",
       "      [-90.952169, 34.135823],\n",
       "      [-90.891923, 34.026284],\n",
       "      [-91.072662, 33.867453],\n",
       "      [-91.231493, 33.560744],\n",
       "      [-91.056231, 33.429298],\n",
       "      [-91.143862, 33.347144],\n",
       "      [-91.089093, 33.13902],\n",
       "      [-91.16577, 33.002096],\n",
       "      [-93.608485, 33.018527],\n",
       "      [-94.041164, 33.018527],\n",
       "      [-94.041164, 33.54979],\n",
       "      [-94.183564, 33.593606],\n",
       "      [-94.380734, 33.544313],\n",
       "      [-94.484796, 33.637421],\n",
       "      [-94.430026, 35.395519],\n",
       "      [-94.616242, 36.501861],\n",
       "      [-94.473842, 36.501861]]]}},\n",
       "  {'type': 'Feature',\n",
       "   'id': 'CA',\n",
       "   'properties': {'name': 'California'},\n",
       "   'geometry': {'type': 'Polygon',\n",
       "    'coordinates': [[[-123.233256, 42.006186],\n",
       "      [-122.378853, 42.011663],\n",
       "      [-121.037003, 41.995232],\n",
       "      [-120.001861, 41.995232],\n",
       "      [-119.996384, 40.264519],\n",
       "      [-120.001861, 38.999346],\n",
       "      [-118.71478, 38.101128],\n",
       "      [-117.498899, 37.21934],\n",
       "      [-116.540435, 36.501861],\n",
       "      [-115.85034, 35.970598],\n",
       "      [-114.634459, 35.00118],\n",
       "      [-114.634459, 34.87521],\n",
       "      [-114.470151, 34.710902],\n",
       "      [-114.333228, 34.448009],\n",
       "      [-114.136058, 34.305608],\n",
       "      [-114.256551, 34.174162],\n",
       "      [-114.415382, 34.108438],\n",
       "      [-114.535874, 33.933176],\n",
       "      [-114.497536, 33.697668],\n",
       "      [-114.524921, 33.54979],\n",
       "      [-114.727567, 33.40739],\n",
       "      [-114.661844, 33.034958],\n",
       "      [-114.524921, 33.029481],\n",
       "      [-114.470151, 32.843265],\n",
       "      [-114.524921, 32.755634],\n",
       "      [-114.72209, 32.717295],\n",
       "      [-116.04751, 32.624187],\n",
       "      [-117.126467, 32.536556],\n",
       "      [-117.24696, 32.668003],\n",
       "      [-117.252437, 32.876127],\n",
       "      [-117.329114, 33.122589],\n",
       "      [-117.471515, 33.297851],\n",
       "      [-117.7837, 33.538836],\n",
       "      [-118.183517, 33.763391],\n",
       "      [-118.260194, 33.703145],\n",
       "      [-118.413548, 33.741483],\n",
       "      [-118.391641, 33.840068],\n",
       "      [-118.566903, 34.042715],\n",
       "      [-118.802411, 33.998899],\n",
       "      [-119.218659, 34.146777],\n",
       "      [-119.278905, 34.26727],\n",
       "      [-119.558229, 34.415147],\n",
       "      [-119.875891, 34.40967],\n",
       "      [-120.138784, 34.475393],\n",
       "      [-120.472878, 34.448009],\n",
       "      [-120.64814, 34.579455],\n",
       "      [-120.609801, 34.858779],\n",
       "      [-120.670048, 34.902595],\n",
       "      [-120.631709, 35.099764],\n",
       "      [-120.894602, 35.247642],\n",
       "      [-120.905556, 35.450289],\n",
       "      [-121.004141, 35.461243],\n",
       "      [-121.168449, 35.636505],\n",
       "      [-121.283465, 35.674843],\n",
       "      [-121.332757, 35.784382],\n",
       "      [-121.716143, 36.195153],\n",
       "      [-121.896882, 36.315645],\n",
       "      [-121.935221, 36.638785],\n",
       "      [-121.858544, 36.6114],\n",
       "      [-121.787344, 36.803093],\n",
       "      [-121.929744, 36.978355],\n",
       "      [-122.105006, 36.956447],\n",
       "      [-122.335038, 37.115279],\n",
       "      [-122.417192, 37.241248],\n",
       "      [-122.400761, 37.361741],\n",
       "      [-122.515777, 37.520572],\n",
       "      [-122.515777, 37.783465],\n",
       "      [-122.329561, 37.783465],\n",
       "      [-122.406238, 38.15042],\n",
       "      [-122.488392, 38.112082],\n",
       "      [-122.504823, 37.931343],\n",
       "      [-122.701993, 37.893004],\n",
       "      [-122.937501, 38.029928],\n",
       "      [-122.97584, 38.265436],\n",
       "      [-123.129194, 38.451652],\n",
       "      [-123.331841, 38.566668],\n",
       "      [-123.44138, 38.698114],\n",
       "      [-123.737134, 38.95553],\n",
       "      [-123.687842, 39.032208],\n",
       "      [-123.824765, 39.366301],\n",
       "      [-123.764519, 39.552517],\n",
       "      [-123.85215, 39.831841],\n",
       "      [-124.109566, 40.105688],\n",
       "      [-124.361506, 40.259042],\n",
       "      [-124.410798, 40.439781],\n",
       "      [-124.158859, 40.877937],\n",
       "      [-124.109566, 41.025814],\n",
       "      [-124.158859, 41.14083],\n",
       "      [-124.065751, 41.442061],\n",
       "      [-124.147905, 41.715908],\n",
       "      [-124.257444, 41.781632],\n",
       "      [-124.213628, 42.000709],\n",
       "      [-123.233256, 42.006186]]]}},\n",
       "  {'type': 'Feature',\n",
       "   'id': 'CO',\n",
       "   'properties': {'name': 'Colorado'},\n",
       "   'geometry': {'type': 'Polygon',\n",
       "    'coordinates': [[[-107.919731, 41.003906],\n",
       "      [-105.728954, 40.998429],\n",
       "      [-104.053011, 41.003906],\n",
       "      [-102.053927, 41.003906],\n",
       "      [-102.053927, 40.001626],\n",
       "      [-102.042974, 36.994786],\n",
       "      [-103.001438, 37.000263],\n",
       "      [-104.337812, 36.994786],\n",
       "      [-106.868158, 36.994786],\n",
       "      [-107.421329, 37.000263],\n",
       "      [-109.042503, 37.000263],\n",
       "      [-109.042503, 38.166851],\n",
       "      [-109.058934, 38.27639],\n",
       "      [-109.053457, 39.125316],\n",
       "      [-109.04798, 40.998429],\n",
       "      [-107.919731, 41.003906]]]}},\n",
       "  {'type': 'Feature',\n",
       "   'id': 'CT',\n",
       "   'properties': {'name': 'Connecticut'},\n",
       "   'geometry': {'type': 'Polygon',\n",
       "    'coordinates': [[[-73.053528, 42.039048],\n",
       "      [-71.799309, 42.022617],\n",
       "      [-71.799309, 42.006186],\n",
       "      [-71.799309, 41.414677],\n",
       "      [-71.859555, 41.321569],\n",
       "      [-71.947186, 41.338],\n",
       "      [-72.385341, 41.261322],\n",
       "      [-72.905651, 41.28323],\n",
       "      [-73.130205, 41.146307],\n",
       "      [-73.371191, 41.102491],\n",
       "      [-73.655992, 40.987475],\n",
       "      [-73.727192, 41.102491],\n",
       "      [-73.48073, 41.21203],\n",
       "      [-73.55193, 41.294184],\n",
       "      [-73.486206, 42.050002],\n",
       "      [-73.053528, 42.039048]]]}},\n",
       "  {'type': 'Feature',\n",
       "   'id': 'DE',\n",
       "   'properties': {'name': 'Delaware'},\n",
       "   'geometry': {'type': 'Polygon',\n",
       "    'coordinates': [[[-75.414089, 39.804456],\n",
       "      [-75.507197, 39.683964],\n",
       "      [-75.611259, 39.61824],\n",
       "      [-75.589352, 39.459409],\n",
       "      [-75.441474, 39.311532],\n",
       "      [-75.403136, 39.065069],\n",
       "      [-75.189535, 38.807653],\n",
       "      [-75.09095, 38.796699],\n",
       "      [-75.047134, 38.451652],\n",
       "      [-75.693413, 38.462606],\n",
       "      [-75.786521, 39.722302],\n",
       "      [-75.616736, 39.831841],\n",
       "      [-75.414089, 39.804456]]]}},\n",
       "  {'type': 'Feature',\n",
       "   'id': 'FL',\n",
       "   'properties': {'name': 'Florida'},\n",
       "   'geometry': {'type': 'Polygon',\n",
       "    'coordinates': [[[-85.497137, 30.997536],\n",
       "      [-85.004212, 31.003013],\n",
       "      [-84.867289, 30.712735],\n",
       "      [-83.498053, 30.647012],\n",
       "      [-82.216449, 30.570335],\n",
       "      [-82.167157, 30.356734],\n",
       "      [-82.046664, 30.362211],\n",
       "      [-82.002849, 30.564858],\n",
       "      [-82.041187, 30.751074],\n",
       "      [-81.948079, 30.827751],\n",
       "      [-81.718048, 30.745597],\n",
       "      [-81.444201, 30.707258],\n",
       "      [-81.383954, 30.27458],\n",
       "      [-81.257985, 29.787132],\n",
       "      [-80.967707, 29.14633],\n",
       "      [-80.524075, 28.461713],\n",
       "      [-80.589798, 28.41242],\n",
       "      [-80.56789, 28.094758],\n",
       "      [-80.381674, 27.738757],\n",
       "      [-80.091397, 27.021277],\n",
       "      [-80.03115, 26.796723],\n",
       "      [-80.036627, 26.566691],\n",
       "      [-80.146166, 25.739673],\n",
       "      [-80.239274, 25.723243],\n",
       "      [-80.337859, 25.465826],\n",
       "      [-80.304997, 25.383672],\n",
       "      [-80.49669, 25.197456],\n",
       "      [-80.573367, 25.241272],\n",
       "      [-80.759583, 25.164595],\n",
       "      [-81.077246, 25.120779],\n",
       "      [-81.170354, 25.224841],\n",
       "      [-81.126538, 25.378195],\n",
       "      [-81.351093, 25.821827],\n",
       "      [-81.526355, 25.903982],\n",
       "      [-81.679709, 25.843735],\n",
       "      [-81.800202, 26.090198],\n",
       "      [-81.833064, 26.292844],\n",
       "      [-82.041187, 26.517399],\n",
       "      [-82.09048, 26.665276],\n",
       "      [-82.057618, 26.878877],\n",
       "      [-82.172634, 26.917216],\n",
       "      [-82.145249, 26.791246],\n",
       "      [-82.249311, 26.758384],\n",
       "      [-82.566974, 27.300601],\n",
       "      [-82.692943, 27.437525],\n",
       "      [-82.391711, 27.837342],\n",
       "      [-82.588881, 27.815434],\n",
       "      [-82.720328, 27.689464],\n",
       "      [-82.851774, 27.886634],\n",
       "      [-82.676512, 28.434328],\n",
       "      [-82.643651, 28.888914],\n",
       "      [-82.764143, 28.998453],\n",
       "      [-82.802482, 29.14633],\n",
       "      [-82.994175, 29.179192],\n",
       "      [-83.218729, 29.420177],\n",
       "      [-83.399469, 29.518762],\n",
       "      [-83.410422, 29.66664],\n",
       "      [-83.536392, 29.721409],\n",
       "      [-83.640454, 29.885717],\n",
       "      [-84.02384, 30.104795],\n",
       "      [-84.357933, 30.055502],\n",
       "      [-84.341502, 29.902148],\n",
       "      [-84.451041, 29.929533],\n",
       "      [-84.867289, 29.743317],\n",
       "      [-85.310921, 29.699501],\n",
       "      [-85.299967, 29.80904],\n",
       "      [-85.404029, 29.940487],\n",
       "      [-85.924338, 30.236241],\n",
       "      [-86.29677, 30.362211],\n",
       "      [-86.630863, 30.395073],\n",
       "      [-86.910187, 30.373165],\n",
       "      [-87.518128, 30.280057],\n",
       "      [-87.37025, 30.427934],\n",
       "      [-87.446927, 30.510088],\n",
       "      [-87.408589, 30.674397],\n",
       "      [-87.633143, 30.86609],\n",
       "      [-87.600282, 30.997536],\n",
       "      [-85.497137, 30.997536]]]}},\n",
       "  {'type': 'Feature',\n",
       "   'id': 'GA',\n",
       "   'properties': {'name': 'Georgia'},\n",
       "   'geometry': {'type': 'Polygon',\n",
       "    'coordinates': [[[-83.109191, 35.00118],\n",
       "      [-83.322791, 34.787579],\n",
       "      [-83.339222, 34.683517],\n",
       "      [-83.005129, 34.469916],\n",
       "      [-82.901067, 34.486347],\n",
       "      [-82.747713, 34.26727],\n",
       "      [-82.714851, 34.152254],\n",
       "      [-82.55602, 33.94413],\n",
       "      [-82.325988, 33.81816],\n",
       "      [-82.194542, 33.631944],\n",
       "      [-81.926172, 33.462159],\n",
       "      [-81.937125, 33.347144],\n",
       "      [-81.761863, 33.160928],\n",
       "      [-81.493493, 33.007573],\n",
       "      [-81.42777, 32.843265],\n",
       "      [-81.416816, 32.629664],\n",
       "      [-81.279893, 32.558464],\n",
       "      [-81.121061, 32.290094],\n",
       "      [-81.115584, 32.120309],\n",
       "      [-80.885553, 32.032678],\n",
       "      [-81.132015, 31.693108],\n",
       "      [-81.175831, 31.517845],\n",
       "      [-81.279893, 31.364491],\n",
       "      [-81.290846, 31.20566],\n",
       "      [-81.400385, 31.13446],\n",
       "      [-81.444201, 30.707258],\n",
       "      [-81.718048, 30.745597],\n",
       "      [-81.948079, 30.827751],\n",
       "      [-82.041187, 30.751074],\n",
       "      [-82.002849, 30.564858],\n",
       "      [-82.046664, 30.362211],\n",
       "      [-82.167157, 30.356734],\n",
       "      [-82.216449, 30.570335],\n",
       "      [-83.498053, 30.647012],\n",
       "      [-84.867289, 30.712735],\n",
       "      [-85.004212, 31.003013],\n",
       "      [-85.113751, 31.27686],\n",
       "      [-85.042551, 31.539753],\n",
       "      [-85.141136, 31.840985],\n",
       "      [-85.053504, 32.01077],\n",
       "      [-85.058981, 32.13674],\n",
       "      [-84.889196, 32.262709],\n",
       "      [-85.004212, 32.322956],\n",
       "      [-84.960397, 32.421541],\n",
       "      [-85.069935, 32.580372],\n",
       "      [-85.184951, 32.859696],\n",
       "      [-85.431413, 34.124869],\n",
       "      [-85.606675, 34.984749],\n",
       "      [-84.319594, 34.990226],\n",
       "      [-83.618546, 34.984749],\n",
       "      [-83.109191, 35.00118]]]}},\n",
       "  {'type': 'Feature',\n",
       "   'id': 'HI',\n",
       "   'properties': {'name': 'Hawaii'},\n",
       "   'geometry': {'type': 'MultiPolygon',\n",
       "    'coordinates': [[[[-155.634835, 18.948267],\n",
       "       [-155.881297, 19.035898],\n",
       "       [-155.919636, 19.123529],\n",
       "       [-155.886774, 19.348084],\n",
       "       [-156.062036, 19.73147],\n",
       "       [-155.925113, 19.857439],\n",
       "       [-155.826528, 20.032702],\n",
       "       [-155.897728, 20.147717],\n",
       "       [-155.87582, 20.26821],\n",
       "       [-155.596496, 20.12581],\n",
       "       [-155.284311, 20.021748],\n",
       "       [-155.092618, 19.868393],\n",
       "       [-155.092618, 19.736947],\n",
       "       [-154.807817, 19.523346],\n",
       "       [-154.983079, 19.348084],\n",
       "       [-155.295265, 19.26593],\n",
       "       [-155.514342, 19.134483],\n",
       "       [-155.634835, 18.948267]]],\n",
       "     [[[-156.587823, 21.029505],\n",
       "       [-156.472807, 20.892581],\n",
       "       [-156.324929, 20.952827],\n",
       "       [-156.00179, 20.793996],\n",
       "       [-156.051082, 20.651596],\n",
       "       [-156.379699, 20.580396],\n",
       "       [-156.445422, 20.60778],\n",
       "       [-156.461853, 20.783042],\n",
       "       [-156.631638, 20.821381],\n",
       "       [-156.697361, 20.919966],\n",
       "       [-156.587823, 21.029505]]],\n",
       "     [[[-156.982162, 21.210244],\n",
       "       [-157.080747, 21.106182],\n",
       "       [-157.310779, 21.106182],\n",
       "       [-157.239579, 21.221198],\n",
       "       [-156.982162, 21.210244]]],\n",
       "     [[[-157.951581, 21.697691],\n",
       "       [-157.842042, 21.462183],\n",
       "       [-157.896811, 21.325259],\n",
       "       [-158.110412, 21.303352],\n",
       "       [-158.252813, 21.582676],\n",
       "       [-158.126843, 21.588153],\n",
       "       [-157.951581, 21.697691]]],\n",
       "     [[[-159.468693, 22.228955],\n",
       "       [-159.353678, 22.218001],\n",
       "       [-159.298908, 22.113939],\n",
       "       [-159.33177, 21.966061],\n",
       "       [-159.446786, 21.872953],\n",
       "       [-159.764448, 21.987969],\n",
       "       [-159.726109, 22.152277],\n",
       "       [-159.468693, 22.228955]]]]}},\n",
       "  {'type': 'Feature',\n",
       "   'id': 'ID',\n",
       "   'properties': {'name': 'Idaho'},\n",
       "   'geometry': {'type': 'Polygon',\n",
       "    'coordinates': [[[-116.04751, 49.000239],\n",
       "      [-116.04751, 47.976051],\n",
       "      [-115.724371, 47.696727],\n",
       "      [-115.718894, 47.42288],\n",
       "      [-115.527201, 47.302388],\n",
       "      [-115.324554, 47.258572],\n",
       "      [-115.302646, 47.187372],\n",
       "      [-114.930214, 46.919002],\n",
       "      [-114.886399, 46.809463],\n",
       "      [-114.623506, 46.705401],\n",
       "      [-114.612552, 46.639678],\n",
       "      [-114.322274, 46.645155],\n",
       "      [-114.464674, 46.272723],\n",
       "      [-114.492059, 46.037214],\n",
       "      [-114.387997, 45.88386],\n",
       "      [-114.568736, 45.774321],\n",
       "      [-114.497536, 45.670259],\n",
       "      [-114.546828, 45.560721],\n",
       "      [-114.333228, 45.456659],\n",
       "      [-114.086765, 45.593582],\n",
       "      [-113.98818, 45.703121],\n",
       "      [-113.807441, 45.604536],\n",
       "      [-113.834826, 45.522382],\n",
       "      [-113.736241, 45.330689],\n",
       "      [-113.571933, 45.128042],\n",
       "      [-113.45144, 45.056842],\n",
       "      [-113.456917, 44.865149],\n",
       "      [-113.341901, 44.782995],\n",
       "      [-113.133778, 44.772041],\n",
       "      [-113.002331, 44.448902],\n",
       "      [-112.887315, 44.394132],\n",
       "      [-112.783254, 44.48724],\n",
       "      [-112.471068, 44.481763],\n",
       "      [-112.241036, 44.569394],\n",
       "      [-112.104113, 44.520102],\n",
       "      [-111.868605, 44.563917],\n",
       "      [-111.819312, 44.509148],\n",
       "      [-111.616665, 44.547487],\n",
       "      [-111.386634, 44.75561],\n",
       "      [-111.227803, 44.580348],\n",
       "      [-111.047063, 44.476286],\n",
       "      [-111.047063, 42.000709],\n",
       "      [-112.164359, 41.995232],\n",
       "      [-114.04295, 41.995232],\n",
       "      [-117.027882, 42.000709],\n",
       "      [-117.027882, 43.830007],\n",
       "      [-116.896436, 44.158624],\n",
       "      [-116.97859, 44.240778],\n",
       "      [-117.170283, 44.257209],\n",
       "      [-117.241483, 44.394132],\n",
       "      [-117.038836, 44.750133],\n",
       "      [-116.934774, 44.782995],\n",
       "      [-116.830713, 44.930872],\n",
       "      [-116.847143, 45.02398],\n",
       "      [-116.732128, 45.144473],\n",
       "      [-116.671881, 45.319735],\n",
       "      [-116.463758, 45.61549],\n",
       "      [-116.545912, 45.752413],\n",
       "      [-116.78142, 45.823614],\n",
       "      [-116.918344, 45.993399],\n",
       "      [-116.92382, 46.168661],\n",
       "      [-117.055267, 46.343923],\n",
       "      [-117.038836, 46.426077],\n",
       "      [-117.044313, 47.762451],\n",
       "      [-117.033359, 49.000239],\n",
       "      [-116.04751, 49.000239]]]}},\n",
       "  {'type': 'Feature',\n",
       "   'id': 'IL',\n",
       "   'properties': {'name': 'Illinois'},\n",
       "   'geometry': {'type': 'Polygon',\n",
       "    'coordinates': [[[-90.639984, 42.510065],\n",
       "      [-88.788778, 42.493634],\n",
       "      [-87.802929, 42.493634],\n",
       "      [-87.83579, 42.301941],\n",
       "      [-87.682436, 42.077386],\n",
       "      [-87.523605, 41.710431],\n",
       "      [-87.529082, 39.34987],\n",
       "      [-87.63862, 39.169131],\n",
       "      [-87.512651, 38.95553],\n",
       "      [-87.49622, 38.780268],\n",
       "      [-87.62219, 38.637868],\n",
       "      [-87.655051, 38.506421],\n",
       "      [-87.83579, 38.292821],\n",
       "      [-87.950806, 38.27639],\n",
       "      [-87.923421, 38.15042],\n",
       "      [-88.000098, 38.101128],\n",
       "      [-88.060345, 37.865619],\n",
       "      [-88.027483, 37.799896],\n",
       "      [-88.15893, 37.657496],\n",
       "      [-88.065822, 37.482234],\n",
       "      [-88.476592, 37.389126],\n",
       "      [-88.514931, 37.285064],\n",
       "      [-88.421823, 37.153617],\n",
       "      [-88.547792, 37.071463],\n",
       "      [-88.914747, 37.224817],\n",
       "      [-89.029763, 37.213863],\n",
       "      [-89.183118, 37.038601],\n",
       "      [-89.133825, 36.983832],\n",
       "      [-89.292656, 36.994786],\n",
       "      [-89.517211, 37.279587],\n",
       "      [-89.435057, 37.34531],\n",
       "      [-89.517211, 37.537003],\n",
       "      [-89.517211, 37.690357],\n",
       "      [-89.84035, 37.903958],\n",
       "      [-89.949889, 37.88205],\n",
       "      [-90.059428, 38.013497],\n",
       "      [-90.355183, 38.216144],\n",
       "      [-90.349706, 38.374975],\n",
       "      [-90.179921, 38.632391],\n",
       "      [-90.207305, 38.725499],\n",
       "      [-90.10872, 38.845992],\n",
       "      [-90.251121, 38.917192],\n",
       "      [-90.470199, 38.961007],\n",
       "      [-90.585214, 38.867899],\n",
       "      [-90.661891, 38.928146],\n",
       "      [-90.727615, 39.256762],\n",
       "      [-91.061708, 39.470363],\n",
       "      [-91.368417, 39.727779],\n",
       "      [-91.494386, 40.034488],\n",
       "      [-91.50534, 40.237135],\n",
       "      [-91.417709, 40.379535],\n",
       "      [-91.401278, 40.560274],\n",
       "      [-91.121954, 40.669813],\n",
       "      [-91.09457, 40.823167],\n",
       "      [-90.963123, 40.921752],\n",
       "      [-90.946692, 41.097014],\n",
       "      [-91.111001, 41.239415],\n",
       "      [-91.045277, 41.414677],\n",
       "      [-90.656414, 41.463969],\n",
       "      [-90.344229, 41.589939],\n",
       "      [-90.311367, 41.743293],\n",
       "      [-90.179921, 41.809016],\n",
       "      [-90.141582, 42.000709],\n",
       "      [-90.168967, 42.126679],\n",
       "      [-90.393521, 42.225264],\n",
       "      [-90.420906, 42.329326],\n",
       "      [-90.639984, 42.510065]]]}},\n",
       "  {'type': 'Feature',\n",
       "   'id': 'IN',\n",
       "   'properties': {'name': 'Indiana'},\n",
       "   'geometry': {'type': 'Polygon',\n",
       "    'coordinates': [[[-85.990061, 41.759724],\n",
       "      [-84.807042, 41.759724],\n",
       "      [-84.807042, 41.694001],\n",
       "      [-84.801565, 40.500028],\n",
       "      [-84.817996, 39.103408],\n",
       "      [-84.894673, 39.059592],\n",
       "      [-84.812519, 38.785745],\n",
       "      [-84.987781, 38.780268],\n",
       "      [-85.173997, 38.68716],\n",
       "      [-85.431413, 38.730976],\n",
       "      [-85.42046, 38.533806],\n",
       "      [-85.590245, 38.451652],\n",
       "      [-85.655968, 38.325682],\n",
       "      [-85.83123, 38.27639],\n",
       "      [-85.924338, 38.024451],\n",
       "      [-86.039354, 37.958727],\n",
       "      [-86.263908, 38.051835],\n",
       "      [-86.302247, 38.166851],\n",
       "      [-86.521325, 38.040881],\n",
       "      [-86.504894, 37.931343],\n",
       "      [-86.729448, 37.893004],\n",
       "      [-86.795172, 37.991589],\n",
       "      [-87.047111, 37.893004],\n",
       "      [-87.129265, 37.788942],\n",
       "      [-87.381204, 37.93682],\n",
       "      [-87.512651, 37.903958],\n",
       "      [-87.600282, 37.975158],\n",
       "      [-87.682436, 37.903958],\n",
       "      [-87.934375, 37.893004],\n",
       "      [-88.027483, 37.799896],\n",
       "      [-88.060345, 37.865619],\n",
       "      [-88.000098, 38.101128],\n",
       "      [-87.923421, 38.15042],\n",
       "      [-87.950806, 38.27639],\n",
       "      [-87.83579, 38.292821],\n",
       "      [-87.655051, 38.506421],\n",
       "      [-87.62219, 38.637868],\n",
       "      [-87.49622, 38.780268],\n",
       "      [-87.512651, 38.95553],\n",
       "      [-87.63862, 39.169131],\n",
       "      [-87.529082, 39.34987],\n",
       "      [-87.523605, 41.710431],\n",
       "      [-87.42502, 41.644708],\n",
       "      [-87.118311, 41.644708],\n",
       "      [-86.822556, 41.759724],\n",
       "      [-85.990061, 41.759724]]]}},\n",
       "  {'type': 'Feature',\n",
       "   'id': 'IA',\n",
       "   'properties': {'name': 'Iowa'},\n",
       "   'geometry': {'type': 'Polygon',\n",
       "    'coordinates': [[[-91.368417, 43.501391],\n",
       "      [-91.215062, 43.501391],\n",
       "      [-91.204109, 43.353514],\n",
       "      [-91.056231, 43.254929],\n",
       "      [-91.176724, 43.134436],\n",
       "      [-91.143862, 42.909881],\n",
       "      [-91.067185, 42.75105],\n",
       "      [-90.711184, 42.636034],\n",
       "      [-90.639984, 42.510065],\n",
       "      [-90.420906, 42.329326],\n",
       "      [-90.393521, 42.225264],\n",
       "      [-90.168967, 42.126679],\n",
       "      [-90.141582, 42.000709],\n",
       "      [-90.179921, 41.809016],\n",
       "      [-90.311367, 41.743293],\n",
       "      [-90.344229, 41.589939],\n",
       "      [-90.656414, 41.463969],\n",
       "      [-91.045277, 41.414677],\n",
       "      [-91.111001, 41.239415],\n",
       "      [-90.946692, 41.097014],\n",
       "      [-90.963123, 40.921752],\n",
       "      [-91.09457, 40.823167],\n",
       "      [-91.121954, 40.669813],\n",
       "      [-91.401278, 40.560274],\n",
       "      [-91.417709, 40.379535],\n",
       "      [-91.527248, 40.412397],\n",
       "      [-91.729895, 40.615043],\n",
       "      [-91.833957, 40.609566],\n",
       "      [-93.257961, 40.582182],\n",
       "      [-94.632673, 40.571228],\n",
       "      [-95.7664, 40.587659],\n",
       "      [-95.881416, 40.719105],\n",
       "      [-95.826646, 40.976521],\n",
       "      [-95.925231, 41.201076],\n",
       "      [-95.919754, 41.453015],\n",
       "      [-96.095016, 41.540646],\n",
       "      [-96.122401, 41.67757],\n",
       "      [-96.062155, 41.798063],\n",
       "      [-96.127878, 41.973325],\n",
       "      [-96.264801, 42.039048],\n",
       "      [-96.44554, 42.488157],\n",
       "      [-96.631756, 42.707235],\n",
       "      [-96.544125, 42.855112],\n",
       "      [-96.511264, 43.052282],\n",
       "      [-96.434587, 43.123482],\n",
       "      [-96.560556, 43.222067],\n",
       "      [-96.527695, 43.397329],\n",
       "      [-96.582464, 43.479483],\n",
       "      [-96.451017, 43.501391],\n",
       "      [-91.368417, 43.501391]]]}},\n",
       "  {'type': 'Feature',\n",
       "   'id': 'KS',\n",
       "   'properties': {'name': 'Kansas'},\n",
       "   'geometry': {'type': 'Polygon',\n",
       "    'coordinates': [[[-101.90605, 40.001626],\n",
       "      [-95.306337, 40.001626],\n",
       "      [-95.207752, 39.908518],\n",
       "      [-94.884612, 39.831841],\n",
       "      [-95.109167, 39.541563],\n",
       "      [-94.983197, 39.442978],\n",
       "      [-94.824366, 39.20747],\n",
       "      [-94.610765, 39.158177],\n",
       "      [-94.616242, 37.000263],\n",
       "      [-100.087706, 37.000263],\n",
       "      [-102.042974, 36.994786],\n",
       "      [-102.053927, 40.001626],\n",
       "      [-101.90605, 40.001626]]]}},\n",
       "  {'type': 'Feature',\n",
       "   'id': 'KY',\n",
       "   'properties': {'name': 'Kentucky'},\n",
       "   'geometry': {'type': 'Polygon',\n",
       "    'coordinates': [[[-83.903347, 38.769315],\n",
       "      [-83.678792, 38.632391],\n",
       "      [-83.519961, 38.703591],\n",
       "      [-83.142052, 38.626914],\n",
       "      [-83.032514, 38.725499],\n",
       "      [-82.890113, 38.758361],\n",
       "      [-82.846298, 38.588575],\n",
       "      [-82.731282, 38.561191],\n",
       "      [-82.594358, 38.424267],\n",
       "      [-82.621743, 38.123036],\n",
       "      [-82.50125, 37.931343],\n",
       "      [-82.342419, 37.783465],\n",
       "      [-82.293127, 37.668449],\n",
       "      [-82.101434, 37.553434],\n",
       "      [-81.969987, 37.537003],\n",
       "      [-82.353373, 37.268633],\n",
       "      [-82.720328, 37.120755],\n",
       "      [-82.720328, 37.044078],\n",
       "      [-82.868205, 36.978355],\n",
       "      [-82.879159, 36.890724],\n",
       "      [-83.070852, 36.852385],\n",
       "      [-83.136575, 36.742847],\n",
       "      [-83.673316, 36.600446],\n",
       "      [-83.689746, 36.584015],\n",
       "      [-84.544149, 36.594969],\n",
       "      [-85.289013, 36.627831],\n",
       "      [-85.486183, 36.616877],\n",
       "      [-86.592525, 36.655216],\n",
       "      [-87.852221, 36.633308],\n",
       "      [-88.071299, 36.677123],\n",
       "      [-88.054868, 36.496384],\n",
       "      [-89.298133, 36.507338],\n",
       "      [-89.418626, 36.496384],\n",
       "      [-89.363857, 36.622354],\n",
       "      [-89.215979, 36.578538],\n",
       "      [-89.133825, 36.983832],\n",
       "      [-89.183118, 37.038601],\n",
       "      [-89.029763, 37.213863],\n",
       "      [-88.914747, 37.224817],\n",
       "      [-88.547792, 37.071463],\n",
       "      [-88.421823, 37.153617],\n",
       "      [-88.514931, 37.285064],\n",
       "      [-88.476592, 37.389126],\n",
       "      [-88.065822, 37.482234],\n",
       "      [-88.15893, 37.657496],\n",
       "      [-88.027483, 37.799896],\n",
       "      [-87.934375, 37.893004],\n",
       "      [-87.682436, 37.903958],\n",
       "      [-87.600282, 37.975158],\n",
       "      [-87.512651, 37.903958],\n",
       "      [-87.381204, 37.93682],\n",
       "      [-87.129265, 37.788942],\n",
       "      [-87.047111, 37.893004],\n",
       "      [-86.795172, 37.991589],\n",
       "      [-86.729448, 37.893004],\n",
       "      [-86.504894, 37.931343],\n",
       "      [-86.521325, 38.040881],\n",
       "      [-86.302247, 38.166851],\n",
       "      [-86.263908, 38.051835],\n",
       "      [-86.039354, 37.958727],\n",
       "      [-85.924338, 38.024451],\n",
       "      [-85.83123, 38.27639],\n",
       "      [-85.655968, 38.325682],\n",
       "      [-85.590245, 38.451652],\n",
       "      [-85.42046, 38.533806],\n",
       "      [-85.431413, 38.730976],\n",
       "      [-85.173997, 38.68716],\n",
       "      [-84.987781, 38.780268],\n",
       "      [-84.812519, 38.785745],\n",
       "      [-84.894673, 39.059592],\n",
       "      [-84.817996, 39.103408],\n",
       "      [-84.43461, 39.103408],\n",
       "      [-84.231963, 38.895284],\n",
       "      [-84.215533, 38.807653],\n",
       "      [-83.903347, 38.769315]]]}},\n",
       "  {'type': 'Feature',\n",
       "   'id': 'LA',\n",
       "   'properties': {'name': 'Louisiana'},\n",
       "   'geometry': {'type': 'Polygon',\n",
       "    'coordinates': [[[-93.608485, 33.018527],\n",
       "      [-91.16577, 33.002096],\n",
       "      [-91.072662, 32.887081],\n",
       "      [-91.143862, 32.843265],\n",
       "      [-91.154816, 32.640618],\n",
       "      [-91.006939, 32.514649],\n",
       "      [-90.985031, 32.218894],\n",
       "      [-91.105524, 31.988862],\n",
       "      [-91.341032, 31.846462],\n",
       "      [-91.401278, 31.621907],\n",
       "      [-91.499863, 31.643815],\n",
       "      [-91.516294, 31.27686],\n",
       "      [-91.636787, 31.265906],\n",
       "      [-91.565587, 31.068736],\n",
       "      [-91.636787, 30.997536],\n",
       "      [-89.747242, 30.997536],\n",
       "      [-89.845827, 30.66892],\n",
       "      [-89.681519, 30.449842],\n",
       "      [-89.643181, 30.285534],\n",
       "      [-89.522688, 30.181472],\n",
       "      [-89.818443, 30.044549],\n",
       "      [-89.84035, 29.945964],\n",
       "      [-89.599365, 29.88024],\n",
       "      [-89.495303, 30.039072],\n",
       "      [-89.287179, 29.88024],\n",
       "      [-89.30361, 29.754271],\n",
       "      [-89.424103, 29.699501],\n",
       "      [-89.648657, 29.748794],\n",
       "      [-89.621273, 29.655686],\n",
       "      [-89.69795, 29.513285],\n",
       "      [-89.506257, 29.387316],\n",
       "      [-89.199548, 29.348977],\n",
       "      [-89.09001, 29.2011],\n",
       "      [-89.002379, 29.179192],\n",
       "      [-89.16121, 29.009407],\n",
       "      [-89.336472, 29.042268],\n",
       "      [-89.484349, 29.217531],\n",
       "      [-89.851304, 29.310638],\n",
       "      [-89.851304, 29.480424],\n",
       "      [-90.032043, 29.425654],\n",
       "      [-90.021089, 29.283254],\n",
       "      [-90.103244, 29.151807],\n",
       "      [-90.23469, 29.129899],\n",
       "      [-90.333275, 29.277777],\n",
       "      [-90.563307, 29.283254],\n",
       "      [-90.645461, 29.129899],\n",
       "      [-90.798815, 29.086084],\n",
       "      [-90.963123, 29.179192],\n",
       "      [-91.09457, 29.190146],\n",
       "      [-91.220539, 29.436608],\n",
       "      [-91.445094, 29.546147],\n",
       "      [-91.532725, 29.529716],\n",
       "      [-91.620356, 29.73784],\n",
       "      [-91.883249, 29.710455],\n",
       "      [-91.888726, 29.836425],\n",
       "      [-92.146142, 29.715932],\n",
       "      [-92.113281, 29.622824],\n",
       "      [-92.31045, 29.535193],\n",
       "      [-92.617159, 29.579009],\n",
       "      [-92.97316, 29.715932],\n",
       "      [-93.2251, 29.776178],\n",
       "      [-93.767317, 29.726886],\n",
       "      [-93.838517, 29.688547],\n",
       "      [-93.926148, 29.787132],\n",
       "      [-93.690639, 30.143133],\n",
       "      [-93.767317, 30.334826],\n",
       "      [-93.696116, 30.438888],\n",
       "      [-93.728978, 30.575812],\n",
       "      [-93.630393, 30.679874],\n",
       "      [-93.526331, 30.93729],\n",
       "      [-93.542762, 31.15089],\n",
       "      [-93.816609, 31.556184],\n",
       "      [-93.822086, 31.775262],\n",
       "      [-94.041164, 31.994339],\n",
       "      [-94.041164, 33.018527],\n",
       "      [-93.608485, 33.018527]]]}},\n",
       "  {'type': 'Feature',\n",
       "   'id': 'ME',\n",
       "   'properties': {'name': 'Maine'},\n",
       "   'geometry': {'type': 'Polygon',\n",
       "    'coordinates': [[[-70.703921, 43.057759],\n",
       "      [-70.824413, 43.128959],\n",
       "      [-70.807983, 43.227544],\n",
       "      [-70.966814, 43.34256],\n",
       "      [-71.032537, 44.657025],\n",
       "      [-71.08183, 45.303304],\n",
       "      [-70.649151, 45.440228],\n",
       "      [-70.720352, 45.511428],\n",
       "      [-70.556043, 45.664782],\n",
       "      [-70.386258, 45.735983],\n",
       "      [-70.41912, 45.796229],\n",
       "      [-70.260289, 45.889337],\n",
       "      [-70.309581, 46.064599],\n",
       "      [-70.210996, 46.327492],\n",
       "      [-70.057642, 46.415123],\n",
       "      [-69.997395, 46.694447],\n",
       "      [-69.225147, 47.461219],\n",
       "      [-69.044408, 47.428357],\n",
       "      [-69.033454, 47.242141],\n",
       "      [-68.902007, 47.176418],\n",
       "      [-68.578868, 47.285957],\n",
       "      [-68.376221, 47.285957],\n",
       "      [-68.233821, 47.357157],\n",
       "      [-67.954497, 47.198326],\n",
       "      [-67.790188, 47.066879],\n",
       "      [-67.779235, 45.944106],\n",
       "      [-67.801142, 45.675736],\n",
       "      [-67.456095, 45.604536],\n",
       "      [-67.505388, 45.48952],\n",
       "      [-67.417757, 45.379982],\n",
       "      [-67.488957, 45.281397],\n",
       "      [-67.346556, 45.128042],\n",
       "      [-67.16034, 45.160904],\n",
       "      [-66.979601, 44.804903],\n",
       "      [-67.187725, 44.646072],\n",
       "      [-67.308218, 44.706318],\n",
       "      [-67.406803, 44.596779],\n",
       "      [-67.549203, 44.624164],\n",
       "      [-67.565634, 44.531056],\n",
       "      [-67.75185, 44.54201],\n",
       "      [-68.047605, 44.328409],\n",
       "      [-68.118805, 44.476286],\n",
       "      [-68.222867, 44.48724],\n",
       "      [-68.173574, 44.328409],\n",
       "      [-68.403606, 44.251732],\n",
       "      [-68.458375, 44.377701],\n",
       "      [-68.567914, 44.311978],\n",
       "      [-68.82533, 44.311978],\n",
       "      [-68.830807, 44.459856],\n",
       "      [-68.984161, 44.426994],\n",
       "      [-68.956777, 44.322932],\n",
       "      [-69.099177, 44.103854],\n",
       "      [-69.071793, 44.043608],\n",
       "      [-69.258008, 43.923115],\n",
       "      [-69.444224, 43.966931],\n",
       "      [-69.553763, 43.840961],\n",
       "      [-69.707118, 43.82453],\n",
       "      [-69.833087, 43.720469],\n",
       "      [-69.986442, 43.742376],\n",
       "      [-70.030257, 43.851915],\n",
       "      [-70.254812, 43.676653],\n",
       "      [-70.194565, 43.567114],\n",
       "      [-70.358873, 43.528776],\n",
       "      [-70.369827, 43.435668],\n",
       "      [-70.556043, 43.320652],\n",
       "      [-70.703921, 43.057759]]]}},\n",
       "  {'type': 'Feature',\n",
       "   'id': 'MD',\n",
       "   'properties': {'name': 'Maryland'},\n",
       "   'geometry': {'type': 'MultiPolygon',\n",
       "    'coordinates': [[[[-75.994645, 37.95325],\n",
       "       [-76.016553, 37.95325],\n",
       "       [-76.043938, 37.95325],\n",
       "       [-75.994645, 37.95325]]],\n",
       "     [[[-79.477979, 39.722302],\n",
       "       [-75.786521, 39.722302],\n",
       "       [-75.693413, 38.462606],\n",
       "       [-75.047134, 38.451652],\n",
       "       [-75.244304, 38.029928],\n",
       "       [-75.397659, 38.013497],\n",
       "       [-75.671506, 37.95325],\n",
       "       [-75.885106, 37.909435],\n",
       "       [-75.879629, 38.073743],\n",
       "       [-75.961783, 38.139466],\n",
       "       [-75.846768, 38.210667],\n",
       "       [-76.000122, 38.374975],\n",
       "       [-76.049415, 38.303775],\n",
       "       [-76.257538, 38.320205],\n",
       "       [-76.328738, 38.500944],\n",
       "       [-76.263015, 38.500944],\n",
       "       [-76.257538, 38.736453],\n",
       "       [-76.191815, 38.829561],\n",
       "       [-76.279446, 39.147223],\n",
       "       [-76.169907, 39.333439],\n",
       "       [-76.000122, 39.366301],\n",
       "       [-75.972737, 39.557994],\n",
       "       [-76.098707, 39.536086],\n",
       "       [-76.104184, 39.437501],\n",
       "       [-76.367077, 39.311532],\n",
       "       [-76.443754, 39.196516],\n",
       "       [-76.460185, 38.906238],\n",
       "       [-76.55877, 38.769315],\n",
       "       [-76.514954, 38.539283],\n",
       "       [-76.383508, 38.380452],\n",
       "       [-76.399939, 38.259959],\n",
       "       [-76.317785, 38.139466],\n",
       "       [-76.3616, 38.057312],\n",
       "       [-76.591632, 38.216144],\n",
       "       [-76.920248, 38.292821],\n",
       "       [-77.018833, 38.446175],\n",
       "       [-77.205049, 38.358544],\n",
       "       [-77.276249, 38.479037],\n",
       "       [-77.128372, 38.632391],\n",
       "       [-77.040741, 38.791222],\n",
       "       [-76.909294, 38.895284],\n",
       "       [-77.035264, 38.993869],\n",
       "       [-77.117418, 38.933623],\n",
       "       [-77.248864, 39.026731],\n",
       "       [-77.456988, 39.076023],\n",
       "       [-77.456988, 39.223901],\n",
       "       [-77.566527, 39.306055],\n",
       "       [-77.719881, 39.322485],\n",
       "       [-77.834897, 39.601809],\n",
       "       [-78.004682, 39.601809],\n",
       "       [-78.174467, 39.694917],\n",
       "       [-78.267575, 39.61824],\n",
       "       [-78.431884, 39.623717],\n",
       "       [-78.470222, 39.514178],\n",
       "       [-78.765977, 39.585379],\n",
       "       [-78.963147, 39.437501],\n",
       "       [-79.094593, 39.470363],\n",
       "       [-79.291763, 39.300578],\n",
       "       [-79.488933, 39.20747],\n",
       "       [-79.477979, 39.722302]]]]}},\n",
       "  {'type': 'Feature',\n",
       "   'id': 'MA',\n",
       "   'properties': {'name': 'Massachusetts'},\n",
       "   'geometry': {'type': 'Polygon',\n",
       "    'coordinates': [[[-70.917521, 42.887974],\n",
       "      [-70.818936, 42.871543],\n",
       "      [-70.780598, 42.696281],\n",
       "      [-70.824413, 42.55388],\n",
       "      [-70.983245, 42.422434],\n",
       "      [-70.988722, 42.269079],\n",
       "      [-70.769644, 42.247172],\n",
       "      [-70.638197, 42.08834],\n",
       "      [-70.660105, 41.962371],\n",
       "      [-70.550566, 41.929509],\n",
       "      [-70.539613, 41.814493],\n",
       "      [-70.260289, 41.715908],\n",
       "      [-69.937149, 41.809016],\n",
       "      [-70.008349, 41.672093],\n",
       "      [-70.484843, 41.5516],\n",
       "      [-70.660105, 41.546123],\n",
       "      [-70.764167, 41.639231],\n",
       "      [-70.928475, 41.611847],\n",
       "      [-70.933952, 41.540646],\n",
       "      [-71.120168, 41.496831],\n",
       "      [-71.196845, 41.67757],\n",
       "      [-71.22423, 41.710431],\n",
       "      [-71.328292, 41.781632],\n",
       "      [-71.383061, 42.01714],\n",
       "      [-71.530939, 42.01714],\n",
       "      [-71.799309, 42.006186],\n",
       "      [-71.799309, 42.022617],\n",
       "      [-73.053528, 42.039048],\n",
       "      [-73.486206, 42.050002],\n",
       "      [-73.508114, 42.08834],\n",
       "      [-73.267129, 42.745573],\n",
       "      [-72.456542, 42.729142],\n",
       "      [-71.29543, 42.696281],\n",
       "      [-71.185891, 42.789389],\n",
       "      [-70.917521, 42.887974]]]}},\n",
       "  {'type': 'Feature',\n",
       "   'id': 'MI',\n",
       "   'properties': {'name': 'Michigan'},\n",
       "   'geometry': {'type': 'MultiPolygon',\n",
       "    'coordinates': [[[[-83.454238, 41.732339],\n",
       "       [-84.807042, 41.694001],\n",
       "       [-84.807042, 41.759724],\n",
       "       [-85.990061, 41.759724],\n",
       "       [-86.822556, 41.759724],\n",
       "       [-86.619909, 41.891171],\n",
       "       [-86.482986, 42.115725],\n",
       "       [-86.357016, 42.252649],\n",
       "       [-86.263908, 42.444341],\n",
       "       [-86.209139, 42.718189],\n",
       "       [-86.231047, 43.013943],\n",
       "       [-86.526801, 43.594499],\n",
       "       [-86.433693, 43.813577],\n",
       "       [-86.499417, 44.07647],\n",
       "       [-86.269385, 44.34484],\n",
       "       [-86.220093, 44.569394],\n",
       "       [-86.252954, 44.689887],\n",
       "       [-86.088646, 44.73918],\n",
       "       [-86.066738, 44.903488],\n",
       "       [-85.809322, 44.947303],\n",
       "       [-85.612152, 45.128042],\n",
       "       [-85.628583, 44.766564],\n",
       "       [-85.524521, 44.750133],\n",
       "       [-85.393075, 44.930872],\n",
       "       [-85.387598, 45.237581],\n",
       "       [-85.305444, 45.314258],\n",
       "       [-85.031597, 45.363551],\n",
       "       [-85.119228, 45.577151],\n",
       "       [-84.938489, 45.75789],\n",
       "       [-84.713934, 45.768844],\n",
       "       [-84.461995, 45.653829],\n",
       "       [-84.215533, 45.637398],\n",
       "       [-84.09504, 45.494997],\n",
       "       [-83.908824, 45.484043],\n",
       "       [-83.596638, 45.352597],\n",
       "       [-83.4871, 45.358074],\n",
       "       [-83.317314, 45.144473],\n",
       "       [-83.454238, 45.029457],\n",
       "       [-83.322791, 44.88158],\n",
       "       [-83.273499, 44.711795],\n",
       "       [-83.333745, 44.339363],\n",
       "       [-83.536392, 44.246255],\n",
       "       [-83.585684, 44.054562],\n",
       "       [-83.82667, 43.988839],\n",
       "       [-83.958116, 43.758807],\n",
       "       [-83.908824, 43.671176],\n",
       "       [-83.667839, 43.589022],\n",
       "       [-83.481623, 43.714992],\n",
       "       [-83.262545, 43.972408],\n",
       "       [-82.917498, 44.070993],\n",
       "       [-82.747713, 43.994316],\n",
       "       [-82.643651, 43.851915],\n",
       "       [-82.539589, 43.435668],\n",
       "       [-82.523158, 43.227544],\n",
       "       [-82.413619, 42.975605],\n",
       "       [-82.517681, 42.614127],\n",
       "       [-82.681989, 42.559357],\n",
       "       [-82.687466, 42.690804],\n",
       "       [-82.797005, 42.652465],\n",
       "       [-82.922975, 42.351234],\n",
       "       [-83.125621, 42.236218],\n",
       "       [-83.185868, 42.006186],\n",
       "       [-83.437807, 41.814493],\n",
       "       [-83.454238, 41.732339]]],\n",
       "     [[[-85.508091, 45.730506],\n",
       "       [-85.49166, 45.610013],\n",
       "       [-85.623106, 45.588105],\n",
       "       [-85.568337, 45.75789],\n",
       "       [-85.508091, 45.730506]]],\n",
       "     [[[-87.589328, 45.095181],\n",
       "       [-87.742682, 45.199243],\n",
       "       [-87.649574, 45.341643],\n",
       "       [-87.885083, 45.363551],\n",
       "       [-87.791975, 45.500474],\n",
       "       [-87.781021, 45.675736],\n",
       "       [-87.989145, 45.796229],\n",
       "       [-88.10416, 45.922199],\n",
       "       [-88.531362, 46.020784],\n",
       "       [-88.662808, 45.987922],\n",
       "       [-89.09001, 46.135799],\n",
       "       [-90.119674, 46.338446],\n",
       "       [-90.229213, 46.508231],\n",
       "       [-90.415429, 46.568478],\n",
       "       [-90.026566, 46.672539],\n",
       "       [-89.851304, 46.793032],\n",
       "       [-89.413149, 46.842325],\n",
       "       [-89.128348, 46.990202],\n",
       "       [-88.996902, 46.995679],\n",
       "       [-88.887363, 47.099741],\n",
       "       [-88.575177, 47.247618],\n",
       "       [-88.416346, 47.373588],\n",
       "       [-88.180837, 47.455742],\n",
       "       [-87.956283, 47.384542],\n",
       "       [-88.350623, 47.077833],\n",
       "       [-88.443731, 46.973771],\n",
       "       [-88.438254, 46.787555],\n",
       "       [-88.246561, 46.929956],\n",
       "       [-87.901513, 46.908048],\n",
       "       [-87.633143, 46.809463],\n",
       "       [-87.392158, 46.535616],\n",
       "       [-87.260711, 46.486323],\n",
       "       [-87.008772, 46.530139],\n",
       "       [-86.948526, 46.469893],\n",
       "       [-86.696587, 46.437031],\n",
       "       [-86.159846, 46.667063],\n",
       "       [-85.880522, 46.68897],\n",
       "       [-85.508091, 46.678016],\n",
       "       [-85.256151, 46.754694],\n",
       "       [-85.064458, 46.760171],\n",
       "       [-85.02612, 46.480847],\n",
       "       [-84.82895, 46.442508],\n",
       "       [-84.63178, 46.486323],\n",
       "       [-84.549626, 46.4206],\n",
       "       [-84.418179, 46.502754],\n",
       "       [-84.127902, 46.530139],\n",
       "       [-84.122425, 46.179615],\n",
       "       [-83.990978, 46.031737],\n",
       "       [-83.793808, 45.993399],\n",
       "       [-83.7719, 46.091984],\n",
       "       [-83.580208, 46.091984],\n",
       "       [-83.476146, 45.987922],\n",
       "       [-83.563777, 45.911245],\n",
       "       [-84.111471, 45.976968],\n",
       "       [-84.374364, 45.933153],\n",
       "       [-84.659165, 46.053645],\n",
       "       [-84.741319, 45.944106],\n",
       "       [-84.70298, 45.850998],\n",
       "       [-84.82895, 45.872906],\n",
       "       [-85.015166, 46.00983],\n",
       "       [-85.338305, 46.091984],\n",
       "       [-85.502614, 46.097461],\n",
       "       [-85.661445, 45.966014],\n",
       "       [-85.924338, 45.933153],\n",
       "       [-86.209139, 45.960537],\n",
       "       [-86.324155, 45.905768],\n",
       "       [-86.351539, 45.796229],\n",
       "       [-86.663725, 45.703121],\n",
       "       [-86.647294, 45.834568],\n",
       "       [-86.784218, 45.861952],\n",
       "       [-86.838987, 45.725029],\n",
       "       [-87.069019, 45.719552],\n",
       "       [-87.17308, 45.659305],\n",
       "       [-87.326435, 45.423797],\n",
       "       [-87.611236, 45.122565],\n",
       "       [-87.589328, 45.095181]]],\n",
       "     [[[-88.805209, 47.976051],\n",
       "       [-89.057148, 47.850082],\n",
       "       [-89.188594, 47.833651],\n",
       "       [-89.177641, 47.937713],\n",
       "       [-88.547792, 48.173221],\n",
       "       [-88.668285, 48.008913],\n",
       "       [-88.805209, 47.976051]]]]}},\n",
       "  {'type': 'Feature',\n",
       "   'id': 'MN',\n",
       "   'properties': {'name': 'Minnesota'},\n",
       "   'geometry': {'type': 'Polygon',\n",
       "    'coordinates': [[[-92.014696, 46.705401],\n",
       "      [-92.091373, 46.749217],\n",
       "      [-92.29402, 46.667063],\n",
       "      [-92.29402, 46.075553],\n",
       "      [-92.354266, 46.015307],\n",
       "      [-92.639067, 45.933153],\n",
       "      [-92.869098, 45.719552],\n",
       "      [-92.885529, 45.577151],\n",
       "      [-92.770513, 45.566198],\n",
       "      [-92.644544, 45.440228],\n",
       "      [-92.75956, 45.286874],\n",
       "      [-92.737652, 45.117088],\n",
       "      [-92.808852, 44.750133],\n",
       "      [-92.545959, 44.569394],\n",
       "      [-92.337835, 44.552964],\n",
       "      [-92.233773, 44.443425],\n",
       "      [-91.927065, 44.333886],\n",
       "      [-91.877772, 44.202439],\n",
       "      [-91.592971, 44.032654],\n",
       "      [-91.43414, 43.994316],\n",
       "      [-91.242447, 43.775238],\n",
       "      [-91.269832, 43.616407],\n",
       "      [-91.215062, 43.501391],\n",
       "      [-91.368417, 43.501391],\n",
       "      [-96.451017, 43.501391],\n",
       "      [-96.451017, 45.297827],\n",
       "      [-96.681049, 45.412843],\n",
       "      [-96.856311, 45.604536],\n",
       "      [-96.582464, 45.818137],\n",
       "      [-96.560556, 45.933153],\n",
       "      [-96.598895, 46.332969],\n",
       "      [-96.719387, 46.437031],\n",
       "      [-96.801542, 46.656109],\n",
       "      [-96.785111, 46.924479],\n",
       "      [-96.823449, 46.968294],\n",
       "      [-96.856311, 47.609096],\n",
       "      [-97.053481, 47.948667],\n",
       "      [-97.130158, 48.140359],\n",
       "      [-97.16302, 48.545653],\n",
       "      [-97.097296, 48.682577],\n",
       "      [-97.228743, 49.000239],\n",
       "      [-95.152983, 49.000239],\n",
       "      [-95.152983, 49.383625],\n",
       "      [-94.955813, 49.372671],\n",
       "      [-94.824366, 49.295994],\n",
       "      [-94.69292, 48.775685],\n",
       "      [-94.588858, 48.715438],\n",
       "      [-94.260241, 48.699007],\n",
       "      [-94.221903, 48.649715],\n",
       "      [-93.838517, 48.627807],\n",
       "      [-93.794701, 48.518268],\n",
       "      [-93.466085, 48.545653],\n",
       "      [-93.466085, 48.589469],\n",
       "      [-93.208669, 48.644238],\n",
       "      [-92.984114, 48.62233],\n",
       "      [-92.726698, 48.540176],\n",
       "      [-92.655498, 48.436114],\n",
       "      [-92.50762, 48.447068],\n",
       "      [-92.370697, 48.222514],\n",
       "      [-92.304974, 48.315622],\n",
       "      [-92.053034, 48.359437],\n",
       "      [-92.009219, 48.266329],\n",
       "      [-91.713464, 48.200606],\n",
       "      [-91.713464, 48.112975],\n",
       "      [-91.565587, 48.041775],\n",
       "      [-91.264355, 48.080113],\n",
       "      [-91.083616, 48.178698],\n",
       "      [-90.837154, 48.238944],\n",
       "      [-90.749522, 48.091067],\n",
       "      [-90.579737, 48.123929],\n",
       "      [-90.377091, 48.091067],\n",
       "      [-90.141582, 48.112975],\n",
       "      [-89.873212, 47.987005],\n",
       "      [-89.615796, 48.008913],\n",
       "      [-89.637704, 47.954144],\n",
       "      [-89.971797, 47.828174],\n",
       "      [-90.437337, 47.729589],\n",
       "      [-90.738569, 47.625527],\n",
       "      [-91.171247, 47.368111],\n",
       "      [-91.357463, 47.20928],\n",
       "      [-91.642264, 47.028541],\n",
       "      [-92.091373, 46.787555],\n",
       "      [-92.014696, 46.705401]]]}},\n",
       "  {'type': 'Feature',\n",
       "   'id': 'MS',\n",
       "   'properties': {'name': 'Mississippi'},\n",
       "   'geometry': {'type': 'Polygon',\n",
       "    'coordinates': [[[-88.471115, 34.995703],\n",
       "      [-88.202745, 34.995703],\n",
       "      [-88.098683, 34.891641],\n",
       "      [-88.241084, 33.796253],\n",
       "      [-88.471115, 31.895754],\n",
       "      [-88.394438, 30.367688],\n",
       "      [-88.503977, 30.323872],\n",
       "      [-88.744962, 30.34578],\n",
       "      [-88.843547, 30.411504],\n",
       "      [-89.084533, 30.367688],\n",
       "      [-89.418626, 30.252672],\n",
       "      [-89.522688, 30.181472],\n",
       "      [-89.643181, 30.285534],\n",
       "      [-89.681519, 30.449842],\n",
       "      [-89.845827, 30.66892],\n",
       "      [-89.747242, 30.997536],\n",
       "      [-91.636787, 30.997536],\n",
       "      [-91.565587, 31.068736],\n",
       "      [-91.636787, 31.265906],\n",
       "      [-91.516294, 31.27686],\n",
       "      [-91.499863, 31.643815],\n",
       "      [-91.401278, 31.621907],\n",
       "      [-91.341032, 31.846462],\n",
       "      [-91.105524, 31.988862],\n",
       "      [-90.985031, 32.218894],\n",
       "      [-91.006939, 32.514649],\n",
       "      [-91.154816, 32.640618],\n",
       "      [-91.143862, 32.843265],\n",
       "      [-91.072662, 32.887081],\n",
       "      [-91.16577, 33.002096],\n",
       "      [-91.089093, 33.13902],\n",
       "      [-91.143862, 33.347144],\n",
       "      [-91.056231, 33.429298],\n",
       "      [-91.231493, 33.560744],\n",
       "      [-91.072662, 33.867453],\n",
       "      [-90.891923, 34.026284],\n",
       "      [-90.952169, 34.135823],\n",
       "      [-90.744046, 34.300131],\n",
       "      [-90.749522, 34.365854],\n",
       "      [-90.568783, 34.420624],\n",
       "      [-90.585214, 34.617794],\n",
       "      [-90.481152, 34.661609],\n",
       "      [-90.409952, 34.831394],\n",
       "      [-90.251121, 34.908072],\n",
       "      [-90.311367, 34.995703],\n",
       "      [-88.471115, 34.995703]]]}},\n",
       "  {'type': 'Feature',\n",
       "   'id': 'MO',\n",
       "   'properties': {'name': 'Missouri'},\n",
       "   'geometry': {'type': 'Polygon',\n",
       "    'coordinates': [[[-91.833957, 40.609566],\n",
       "      [-91.729895, 40.615043],\n",
       "      [-91.527248, 40.412397],\n",
       "      [-91.417709, 40.379535],\n",
       "      [-91.50534, 40.237135],\n",
       "      [-91.494386, 40.034488],\n",
       "      [-91.368417, 39.727779],\n",
       "      [-91.061708, 39.470363],\n",
       "      [-90.727615, 39.256762],\n",
       "      [-90.661891, 38.928146],\n",
       "      [-90.585214, 38.867899],\n",
       "      [-90.470199, 38.961007],\n",
       "      [-90.251121, 38.917192],\n",
       "      [-90.10872, 38.845992],\n",
       "      [-90.207305, 38.725499],\n",
       "      [-90.179921, 38.632391],\n",
       "      [-90.349706, 38.374975],\n",
       "      [-90.355183, 38.216144],\n",
       "      [-90.059428, 38.013497],\n",
       "      [-89.949889, 37.88205],\n",
       "      [-89.84035, 37.903958],\n",
       "      [-89.517211, 37.690357],\n",
       "      [-89.517211, 37.537003],\n",
       "      [-89.435057, 37.34531],\n",
       "      [-89.517211, 37.279587],\n",
       "      [-89.292656, 36.994786],\n",
       "      [-89.133825, 36.983832],\n",
       "      [-89.215979, 36.578538],\n",
       "      [-89.363857, 36.622354],\n",
       "      [-89.418626, 36.496384],\n",
       "      [-89.484349, 36.496384],\n",
       "      [-89.539119, 36.496384],\n",
       "      [-89.533642, 36.249922],\n",
       "      [-89.730812, 35.997983],\n",
       "      [-90.377091, 35.997983],\n",
       "      [-90.218259, 36.184199],\n",
       "      [-90.064905, 36.304691],\n",
       "      [-90.152536, 36.496384],\n",
       "      [-94.473842, 36.501861],\n",
       "      [-94.616242, 36.501861],\n",
       "      [-94.616242, 37.000263],\n",
       "      [-94.610765, 39.158177],\n",
       "      [-94.824366, 39.20747],\n",
       "      [-94.983197, 39.442978],\n",
       "      [-95.109167, 39.541563],\n",
       "      [-94.884612, 39.831841],\n",
       "      [-95.207752, 39.908518],\n",
       "      [-95.306337, 40.001626],\n",
       "      [-95.552799, 40.264519],\n",
       "      [-95.7664, 40.587659],\n",
       "      [-94.632673, 40.571228],\n",
       "      [-93.257961, 40.582182],\n",
       "      [-91.833957, 40.609566]]]}},\n",
       "  {'type': 'Feature',\n",
       "   'id': 'MT',\n",
       "   'properties': {'name': 'Montana'},\n",
       "   'geometry': {'type': 'Polygon',\n",
       "    'coordinates': [[[-104.047534, 49.000239],\n",
       "      [-104.042057, 47.861036],\n",
       "      [-104.047534, 45.944106],\n",
       "      [-104.042057, 44.996596],\n",
       "      [-104.058488, 44.996596],\n",
       "      [-105.91517, 45.002073],\n",
       "      [-109.080842, 45.002073],\n",
       "      [-111.05254, 45.002073],\n",
       "      [-111.047063, 44.476286],\n",
       "      [-111.227803, 44.580348],\n",
       "      [-111.386634, 44.75561],\n",
       "      [-111.616665, 44.547487],\n",
       "      [-111.819312, 44.509148],\n",
       "      [-111.868605, 44.563917],\n",
       "      [-112.104113, 44.520102],\n",
       "      [-112.241036, 44.569394],\n",
       "      [-112.471068, 44.481763],\n",
       "      [-112.783254, 44.48724],\n",
       "      [-112.887315, 44.394132],\n",
       "      [-113.002331, 44.448902],\n",
       "      [-113.133778, 44.772041],\n",
       "      [-113.341901, 44.782995],\n",
       "      [-113.456917, 44.865149],\n",
       "      [-113.45144, 45.056842],\n",
       "      [-113.571933, 45.128042],\n",
       "      [-113.736241, 45.330689],\n",
       "      [-113.834826, 45.522382],\n",
       "      [-113.807441, 45.604536],\n",
       "      [-113.98818, 45.703121],\n",
       "      [-114.086765, 45.593582],\n",
       "      [-114.333228, 45.456659],\n",
       "      [-114.546828, 45.560721],\n",
       "      [-114.497536, 45.670259],\n",
       "      [-114.568736, 45.774321],\n",
       "      [-114.387997, 45.88386],\n",
       "      [-114.492059, 46.037214],\n",
       "      [-114.464674, 46.272723],\n",
       "      [-114.322274, 46.645155],\n",
       "      [-114.612552, 46.639678],\n",
       "      [-114.623506, 46.705401],\n",
       "      [-114.886399, 46.809463],\n",
       "      [-114.930214, 46.919002],\n",
       "      [-115.302646, 47.187372],\n",
       "      [-115.324554, 47.258572],\n",
       "      [-115.527201, 47.302388],\n",
       "      [-115.718894, 47.42288],\n",
       "      [-115.724371, 47.696727],\n",
       "      [-116.04751, 47.976051],\n",
       "      [-116.04751, 49.000239],\n",
       "      [-111.50165, 48.994762],\n",
       "      [-109.453274, 49.000239],\n",
       "      [-104.047534, 49.000239]]]}},\n",
       "  {'type': 'Feature',\n",
       "   'id': 'NE',\n",
       "   'properties': {'name': 'Nebraska'},\n",
       "   'geometry': {'type': 'Polygon',\n",
       "    'coordinates': [[[-103.324578, 43.002989],\n",
       "      [-101.626726, 42.997512],\n",
       "      [-98.499393, 42.997512],\n",
       "      [-98.466531, 42.94822],\n",
       "      [-97.951699, 42.767481],\n",
       "      [-97.831206, 42.866066],\n",
       "      [-97.688806, 42.844158],\n",
       "      [-97.217789, 42.844158],\n",
       "      [-96.692003, 42.657942],\n",
       "      [-96.626279, 42.515542],\n",
       "      [-96.44554, 42.488157],\n",
       "      [-96.264801, 42.039048],\n",
       "      [-96.127878, 41.973325],\n",
       "      [-96.062155, 41.798063],\n",
       "      [-96.122401, 41.67757],\n",
       "      [-96.095016, 41.540646],\n",
       "      [-95.919754, 41.453015],\n",
       "      [-95.925231, 41.201076],\n",
       "      [-95.826646, 40.976521],\n",
       "      [-95.881416, 40.719105],\n",
       "      [-95.7664, 40.587659],\n",
       "      [-95.552799, 40.264519],\n",
       "      [-95.306337, 40.001626],\n",
       "      [-101.90605, 40.001626],\n",
       "      [-102.053927, 40.001626],\n",
       "      [-102.053927, 41.003906],\n",
       "      [-104.053011, 41.003906],\n",
       "      [-104.053011, 43.002989],\n",
       "      [-103.324578, 43.002989]]]}},\n",
       "  {'type': 'Feature',\n",
       "   'id': 'NV',\n",
       "   'properties': {'name': 'Nevada'},\n",
       "   'geometry': {'type': 'Polygon',\n",
       "    'coordinates': [[[-117.027882, 42.000709],\n",
       "      [-114.04295, 41.995232],\n",
       "      [-114.048427, 37.000263],\n",
       "      [-114.048427, 36.195153],\n",
       "      [-114.152489, 36.025367],\n",
       "      [-114.251074, 36.01989],\n",
       "      [-114.371566, 36.140383],\n",
       "      [-114.738521, 36.102045],\n",
       "      [-114.678275, 35.516012],\n",
       "      [-114.596121, 35.324319],\n",
       "      [-114.574213, 35.138103],\n",
       "      [-114.634459, 35.00118],\n",
       "      [-115.85034, 35.970598],\n",
       "      [-116.540435, 36.501861],\n",
       "      [-117.498899, 37.21934],\n",
       "      [-118.71478, 38.101128],\n",
       "      [-120.001861, 38.999346],\n",
       "      [-119.996384, 40.264519],\n",
       "      [-120.001861, 41.995232],\n",
       "      [-118.698349, 41.989755],\n",
       "      [-117.027882, 42.000709]]]}},\n",
       "  {'type': 'Feature',\n",
       "   'id': 'NH',\n",
       "   'properties': {'name': 'New Hampshire'},\n",
       "   'geometry': {'type': 'Polygon',\n",
       "    'coordinates': [[[-71.08183, 45.303304],\n",
       "      [-71.032537, 44.657025],\n",
       "      [-70.966814, 43.34256],\n",
       "      [-70.807983, 43.227544],\n",
       "      [-70.824413, 43.128959],\n",
       "      [-70.703921, 43.057759],\n",
       "      [-70.818936, 42.871543],\n",
       "      [-70.917521, 42.887974],\n",
       "      [-71.185891, 42.789389],\n",
       "      [-71.29543, 42.696281],\n",
       "      [-72.456542, 42.729142],\n",
       "      [-72.544173, 42.80582],\n",
       "      [-72.533219, 42.953697],\n",
       "      [-72.445588, 43.008466],\n",
       "      [-72.456542, 43.150867],\n",
       "      [-72.379864, 43.572591],\n",
       "      [-72.204602, 43.769761],\n",
       "      [-72.116971, 43.994316],\n",
       "      [-72.02934, 44.07647],\n",
       "      [-72.034817, 44.322932],\n",
       "      [-71.700724, 44.41604],\n",
       "      [-71.536416, 44.585825],\n",
       "      [-71.629524, 44.750133],\n",
       "      [-71.4926, 44.914442],\n",
       "      [-71.503554, 45.013027],\n",
       "      [-71.361154, 45.270443],\n",
       "      [-71.131122, 45.243058],\n",
       "      [-71.08183, 45.303304]]]}},\n",
       "  {'type': 'Feature',\n",
       "   'id': 'NJ',\n",
       "   'properties': {'name': 'New Jersey'},\n",
       "   'geometry': {'type': 'Polygon',\n",
       "    'coordinates': [[[-74.236547, 41.14083],\n",
       "      [-73.902454, 40.998429],\n",
       "      [-74.022947, 40.708151],\n",
       "      [-74.187255, 40.642428],\n",
       "      [-74.274886, 40.489074],\n",
       "      [-74.001039, 40.412397],\n",
       "      [-73.979131, 40.297381],\n",
       "      [-74.099624, 39.760641],\n",
       "      [-74.411809, 39.360824],\n",
       "      [-74.614456, 39.245808],\n",
       "      [-74.795195, 38.993869],\n",
       "      [-74.888303, 39.158177],\n",
       "      [-75.178581, 39.240331],\n",
       "      [-75.534582, 39.459409],\n",
       "      [-75.55649, 39.607286],\n",
       "      [-75.561967, 39.629194],\n",
       "      [-75.507197, 39.683964],\n",
       "      [-75.414089, 39.804456],\n",
       "      [-75.145719, 39.88661],\n",
       "      [-75.129289, 39.963288],\n",
       "      [-74.82258, 40.127596],\n",
       "      [-74.773287, 40.215227],\n",
       "      [-75.058088, 40.417874],\n",
       "      [-75.069042, 40.543843],\n",
       "      [-75.195012, 40.576705],\n",
       "      [-75.205966, 40.691721],\n",
       "      [-75.052611, 40.866983],\n",
       "      [-75.134765, 40.971045],\n",
       "      [-74.882826, 41.179168],\n",
       "      [-74.828057, 41.288707],\n",
       "      [-74.69661, 41.359907],\n",
       "      [-74.236547, 41.14083]]]}},\n",
       "  {'type': 'Feature',\n",
       "   'id': 'NM',\n",
       "   'properties': {'name': 'New Mexico'},\n",
       "   'geometry': {'type': 'Polygon',\n",
       "    'coordinates': [[[-107.421329, 37.000263],\n",
       "      [-106.868158, 36.994786],\n",
       "      [-104.337812, 36.994786],\n",
       "      [-103.001438, 37.000263],\n",
       "      [-103.001438, 36.501861],\n",
       "      [-103.039777, 36.501861],\n",
       "      [-103.045254, 34.01533],\n",
       "      [-103.067161, 33.002096],\n",
       "      [-103.067161, 31.999816],\n",
       "      [-106.616219, 31.999816],\n",
       "      [-106.643603, 31.901231],\n",
       "      [-106.528588, 31.786216],\n",
       "      [-108.210008, 31.786216],\n",
       "      [-108.210008, 31.331629],\n",
       "      [-109.04798, 31.331629],\n",
       "      [-109.042503, 37.000263],\n",
       "      [-107.421329, 37.000263]]]}},\n",
       "  {'type': 'Feature',\n",
       "   'id': 'NY',\n",
       "   'properties': {'name': 'New York'},\n",
       "   'geometry': {'type': 'Polygon',\n",
       "    'coordinates': [[[-73.343806, 45.013027],\n",
       "      [-73.332852, 44.804903],\n",
       "      [-73.387622, 44.618687],\n",
       "      [-73.294514, 44.437948],\n",
       "      [-73.321898, 44.246255],\n",
       "      [-73.436914, 44.043608],\n",
       "      [-73.349283, 43.769761],\n",
       "      [-73.404052, 43.687607],\n",
       "      [-73.245221, 43.523299],\n",
       "      [-73.278083, 42.833204],\n",
       "      [-73.267129, 42.745573],\n",
       "      [-73.508114, 42.08834],\n",
       "      [-73.486206, 42.050002],\n",
       "      [-73.55193, 41.294184],\n",
       "      [-73.48073, 41.21203],\n",
       "      [-73.727192, 41.102491],\n",
       "      [-73.655992, 40.987475],\n",
       "      [-73.22879, 40.905321],\n",
       "      [-73.141159, 40.965568],\n",
       "      [-72.774204, 40.965568],\n",
       "      [-72.587988, 40.998429],\n",
       "      [-72.28128, 41.157261],\n",
       "      [-72.259372, 41.042245],\n",
       "      [-72.100541, 40.992952],\n",
       "      [-72.467496, 40.845075],\n",
       "      [-73.239744, 40.625997],\n",
       "      [-73.562884, 40.582182],\n",
       "      [-73.776484, 40.593136],\n",
       "      [-73.935316, 40.543843],\n",
       "      [-74.022947, 40.708151],\n",
       "      [-73.902454, 40.998429],\n",
       "      [-74.236547, 41.14083],\n",
       "      [-74.69661, 41.359907],\n",
       "      [-74.740426, 41.431108],\n",
       "      [-74.89378, 41.436584],\n",
       "      [-75.074519, 41.60637],\n",
       "      [-75.052611, 41.754247],\n",
       "      [-75.173104, 41.869263],\n",
       "      [-75.249781, 41.863786],\n",
       "      [-75.35932, 42.000709],\n",
       "      [-79.76278, 42.000709],\n",
       "      [-79.76278, 42.252649],\n",
       "      [-79.76278, 42.269079],\n",
       "      [-79.149363, 42.55388],\n",
       "      [-79.050778, 42.690804],\n",
       "      [-78.853608, 42.783912],\n",
       "      [-78.930285, 42.953697],\n",
       "      [-79.012439, 42.986559],\n",
       "      [-79.072686, 43.260406],\n",
       "      [-78.486653, 43.375421],\n",
       "      [-77.966344, 43.369944],\n",
       "      [-77.75822, 43.34256],\n",
       "      [-77.533665, 43.233021],\n",
       "      [-77.391265, 43.276836],\n",
       "      [-76.958587, 43.271359],\n",
       "      [-76.695693, 43.34256],\n",
       "      [-76.41637, 43.523299],\n",
       "      [-76.235631, 43.528776],\n",
       "      [-76.230154, 43.802623],\n",
       "      [-76.137046, 43.961454],\n",
       "      [-76.3616, 44.070993],\n",
       "      [-76.312308, 44.196962],\n",
       "      [-75.912491, 44.366748],\n",
       "      [-75.764614, 44.514625],\n",
       "      [-75.282643, 44.848718],\n",
       "      [-74.828057, 45.018503],\n",
       "      [-74.148916, 44.991119],\n",
       "      [-73.343806, 45.013027]]]}},\n",
       "  {'type': 'Feature',\n",
       "   'id': 'NC',\n",
       "   'properties': {'name': 'North Carolina'},\n",
       "   'geometry': {'type': 'Polygon',\n",
       "    'coordinates': [[[-80.978661, 36.562108],\n",
       "      [-80.294043, 36.545677],\n",
       "      [-79.510841, 36.5402],\n",
       "      [-75.868676, 36.551154],\n",
       "      [-75.75366, 36.151337],\n",
       "      [-76.032984, 36.189676],\n",
       "      [-76.071322, 36.140383],\n",
       "      [-76.410893, 36.080137],\n",
       "      [-76.460185, 36.025367],\n",
       "      [-76.68474, 36.008937],\n",
       "      [-76.673786, 35.937736],\n",
       "      [-76.399939, 35.987029],\n",
       "      [-76.3616, 35.943213],\n",
       "      [-76.060368, 35.992506],\n",
       "      [-75.961783, 35.899398],\n",
       "      [-75.781044, 35.937736],\n",
       "      [-75.715321, 35.696751],\n",
       "      [-75.775568, 35.581735],\n",
       "      [-75.89606, 35.570781],\n",
       "      [-76.147999, 35.324319],\n",
       "      [-76.482093, 35.313365],\n",
       "      [-76.536862, 35.14358],\n",
       "      [-76.394462, 34.973795],\n",
       "      [-76.279446, 34.940933],\n",
       "      [-76.493047, 34.661609],\n",
       "      [-76.673786, 34.694471],\n",
       "      [-76.991448, 34.667086],\n",
       "      [-77.210526, 34.60684],\n",
       "      [-77.555573, 34.415147],\n",
       "      [-77.82942, 34.163208],\n",
       "      [-77.971821, 33.845545],\n",
       "      [-78.179944, 33.916745],\n",
       "      [-78.541422, 33.851022],\n",
       "      [-79.675149, 34.80401],\n",
       "      [-80.797922, 34.820441],\n",
       "      [-80.781491, 34.935456],\n",
       "      [-80.934845, 35.105241],\n",
       "      [-81.038907, 35.044995],\n",
       "      [-81.044384, 35.149057],\n",
       "      [-82.276696, 35.198349],\n",
       "      [-82.550543, 35.160011],\n",
       "      [-82.764143, 35.066903],\n",
       "      [-83.109191, 35.00118],\n",
       "      [-83.618546, 34.984749],\n",
       "      [-84.319594, 34.990226],\n",
       "      [-84.29221, 35.225734],\n",
       "      [-84.09504, 35.247642],\n",
       "      [-84.018363, 35.41195],\n",
       "      [-83.7719, 35.559827],\n",
       "      [-83.498053, 35.565304],\n",
       "      [-83.251591, 35.718659],\n",
       "      [-82.994175, 35.773428],\n",
       "      [-82.775097, 35.997983],\n",
       "      [-82.638174, 36.063706],\n",
       "      [-82.610789, 35.965121],\n",
       "      [-82.216449, 36.156814],\n",
       "      [-82.03571, 36.118475],\n",
       "      [-81.909741, 36.304691],\n",
       "      [-81.723525, 36.353984],\n",
       "      [-81.679709, 36.589492],\n",
       "      [-80.978661, 36.562108]]]}},\n",
       "  {'type': 'Feature',\n",
       "   'id': 'ND',\n",
       "   'properties': {'name': 'North Dakota'},\n",
       "   'geometry': {'type': 'Polygon',\n",
       "    'coordinates': [[[-97.228743, 49.000239],\n",
       "      [-97.097296, 48.682577],\n",
       "      [-97.16302, 48.545653],\n",
       "      [-97.130158, 48.140359],\n",
       "      [-97.053481, 47.948667],\n",
       "      [-96.856311, 47.609096],\n",
       "      [-96.823449, 46.968294],\n",
       "      [-96.785111, 46.924479],\n",
       "      [-96.801542, 46.656109],\n",
       "      [-96.719387, 46.437031],\n",
       "      [-96.598895, 46.332969],\n",
       "      [-96.560556, 45.933153],\n",
       "      [-104.047534, 45.944106],\n",
       "      [-104.042057, 47.861036],\n",
       "      [-104.047534, 49.000239],\n",
       "      [-97.228743, 49.000239]]]}},\n",
       "  {'type': 'Feature',\n",
       "   'id': 'OH',\n",
       "   'properties': {'name': 'Ohio'},\n",
       "   'geometry': {'type': 'Polygon',\n",
       "    'coordinates': [[[-80.518598, 41.978802],\n",
       "      [-80.518598, 40.636951],\n",
       "      [-80.666475, 40.582182],\n",
       "      [-80.595275, 40.472643],\n",
       "      [-80.600752, 40.319289],\n",
       "      [-80.737675, 40.078303],\n",
       "      [-80.830783, 39.711348],\n",
       "      [-81.219646, 39.388209],\n",
       "      [-81.345616, 39.344393],\n",
       "      [-81.455155, 39.410117],\n",
       "      [-81.57017, 39.267716],\n",
       "      [-81.685186, 39.273193],\n",
       "      [-81.811156, 39.0815],\n",
       "      [-81.783771, 38.966484],\n",
       "      [-81.887833, 38.873376],\n",
       "      [-82.03571, 39.026731],\n",
       "      [-82.221926, 38.785745],\n",
       "      [-82.172634, 38.632391],\n",
       "      [-82.293127, 38.577622],\n",
       "      [-82.331465, 38.446175],\n",
       "      [-82.594358, 38.424267],\n",
       "      [-82.731282, 38.561191],\n",
       "      [-82.846298, 38.588575],\n",
       "      [-82.890113, 38.758361],\n",
       "      [-83.032514, 38.725499],\n",
       "      [-83.142052, 38.626914],\n",
       "      [-83.519961, 38.703591],\n",
       "      [-83.678792, 38.632391],\n",
       "      [-83.903347, 38.769315],\n",
       "      [-84.215533, 38.807653],\n",
       "      [-84.231963, 38.895284],\n",
       "      [-84.43461, 39.103408],\n",
       "      [-84.817996, 39.103408],\n",
       "      [-84.801565, 40.500028],\n",
       "      [-84.807042, 41.694001],\n",
       "      [-83.454238, 41.732339],\n",
       "      [-83.065375, 41.595416],\n",
       "      [-82.933929, 41.513262],\n",
       "      [-82.835344, 41.589939],\n",
       "      [-82.616266, 41.431108],\n",
       "      [-82.479343, 41.381815],\n",
       "      [-82.013803, 41.513262],\n",
       "      [-81.739956, 41.485877],\n",
       "      [-81.444201, 41.672093],\n",
       "      [-81.011523, 41.852832],\n",
       "      [-80.518598, 41.978802],\n",
       "      [-80.518598, 41.978802]]]}},\n",
       "  {'type': 'Feature',\n",
       "   'id': 'OK',\n",
       "   'properties': {'name': 'Oklahoma'},\n",
       "   'geometry': {'type': 'Polygon',\n",
       "    'coordinates': [[[-100.087706, 37.000263],\n",
       "      [-94.616242, 37.000263],\n",
       "      [-94.616242, 36.501861],\n",
       "      [-94.430026, 35.395519],\n",
       "      [-94.484796, 33.637421],\n",
       "      [-94.868182, 33.74696],\n",
       "      [-94.966767, 33.861976],\n",
       "      [-95.224183, 33.960561],\n",
       "      [-95.289906, 33.87293],\n",
       "      [-95.547322, 33.878407],\n",
       "      [-95.602092, 33.933176],\n",
       "      [-95.8376, 33.834591],\n",
       "      [-95.936185, 33.889361],\n",
       "      [-96.149786, 33.840068],\n",
       "      [-96.346956, 33.686714],\n",
       "      [-96.423633, 33.774345],\n",
       "      [-96.631756, 33.845545],\n",
       "      [-96.850834, 33.845545],\n",
       "      [-96.922034, 33.960561],\n",
       "      [-97.173974, 33.736006],\n",
       "      [-97.256128, 33.861976],\n",
       "      [-97.371143, 33.823637],\n",
       "      [-97.458774, 33.905791],\n",
       "      [-97.694283, 33.982469],\n",
       "      [-97.869545, 33.851022],\n",
       "      [-97.946222, 33.987946],\n",
       "      [-98.088623, 34.004376],\n",
       "      [-98.170777, 34.113915],\n",
       "      [-98.36247, 34.157731],\n",
       "      [-98.488439, 34.064623],\n",
       "      [-98.570593, 34.146777],\n",
       "      [-98.767763, 34.135823],\n",
       "      [-98.986841, 34.223454],\n",
       "      [-99.189488, 34.2125],\n",
       "      [-99.260688, 34.404193],\n",
       "      [-99.57835, 34.415147],\n",
       "      [-99.698843, 34.382285],\n",
       "      [-99.923398, 34.573978],\n",
       "      [-100.000075, 34.563024],\n",
       "      [-100.000075, 36.501861],\n",
       "      [-101.812942, 36.501861],\n",
       "      [-103.001438, 36.501861],\n",
       "      [-103.001438, 37.000263],\n",
       "      [-102.042974, 36.994786],\n",
       "      [-100.087706, 37.000263]]]}},\n",
       "  {'type': 'Feature',\n",
       "   'id': 'OR',\n",
       "   'properties': {'name': 'Oregon'},\n",
       "   'geometry': {'type': 'Polygon',\n",
       "    'coordinates': [[[-123.211348, 46.174138],\n",
       "      [-123.11824, 46.185092],\n",
       "      [-122.904639, 46.08103],\n",
       "      [-122.811531, 45.960537],\n",
       "      [-122.762239, 45.659305],\n",
       "      [-122.247407, 45.549767],\n",
       "      [-121.809251, 45.708598],\n",
       "      [-121.535404, 45.725029],\n",
       "      [-121.217742, 45.670259],\n",
       "      [-121.18488, 45.604536],\n",
       "      [-120.637186, 45.746937],\n",
       "      [-120.505739, 45.697644],\n",
       "      [-120.209985, 45.725029],\n",
       "      [-119.963522, 45.823614],\n",
       "      [-119.525367, 45.911245],\n",
       "      [-119.125551, 45.933153],\n",
       "      [-118.988627, 45.998876],\n",
       "      [-116.918344, 45.993399],\n",
       "      [-116.78142, 45.823614],\n",
       "      [-116.545912, 45.752413],\n",
       "      [-116.463758, 45.61549],\n",
       "      [-116.671881, 45.319735],\n",
       "      [-116.732128, 45.144473],\n",
       "      [-116.847143, 45.02398],\n",
       "      [-116.830713, 44.930872],\n",
       "      [-116.934774, 44.782995],\n",
       "      [-117.038836, 44.750133],\n",
       "      [-117.241483, 44.394132],\n",
       "      [-117.170283, 44.257209],\n",
       "      [-116.97859, 44.240778],\n",
       "      [-116.896436, 44.158624],\n",
       "      [-117.027882, 43.830007],\n",
       "      [-117.027882, 42.000709],\n",
       "      [-118.698349, 41.989755],\n",
       "      [-120.001861, 41.995232],\n",
       "      [-121.037003, 41.995232],\n",
       "      [-122.378853, 42.011663],\n",
       "      [-123.233256, 42.006186],\n",
       "      [-124.213628, 42.000709],\n",
       "      [-124.356029, 42.115725],\n",
       "      [-124.432706, 42.438865],\n",
       "      [-124.416275, 42.663419],\n",
       "      [-124.553198, 42.838681],\n",
       "      [-124.454613, 43.002989],\n",
       "      [-124.383413, 43.271359],\n",
       "      [-124.235536, 43.55616],\n",
       "      [-124.169813, 43.8081],\n",
       "      [-124.060274, 44.657025],\n",
       "      [-124.076705, 44.772041],\n",
       "      [-123.97812, 45.144473],\n",
       "      [-123.939781, 45.659305],\n",
       "      [-123.994551, 45.944106],\n",
       "      [-123.945258, 46.113892],\n",
       "      [-123.545441, 46.261769],\n",
       "      [-123.370179, 46.146753],\n",
       "      [-123.211348, 46.174138]]]}},\n",
       "  {'type': 'Feature',\n",
       "   'id': 'PA',\n",
       "   'properties': {'name': 'Pennsylvania'},\n",
       "   'geometry': {'type': 'Polygon',\n",
       "    'coordinates': [[[-79.76278, 42.252649],\n",
       "      [-79.76278, 42.000709],\n",
       "      [-75.35932, 42.000709],\n",
       "      [-75.249781, 41.863786],\n",
       "      [-75.173104, 41.869263],\n",
       "      [-75.052611, 41.754247],\n",
       "      [-75.074519, 41.60637],\n",
       "      [-74.89378, 41.436584],\n",
       "      [-74.740426, 41.431108],\n",
       "      [-74.69661, 41.359907],\n",
       "      [-74.828057, 41.288707],\n",
       "      [-74.882826, 41.179168],\n",
       "      [-75.134765, 40.971045],\n",
       "      [-75.052611, 40.866983],\n",
       "      [-75.205966, 40.691721],\n",
       "      [-75.195012, 40.576705],\n",
       "      [-75.069042, 40.543843],\n",
       "      [-75.058088, 40.417874],\n",
       "      [-74.773287, 40.215227],\n",
       "      [-74.82258, 40.127596],\n",
       "      [-75.129289, 39.963288],\n",
       "      [-75.145719, 39.88661],\n",
       "      [-75.414089, 39.804456],\n",
       "      [-75.616736, 39.831841],\n",
       "      [-75.786521, 39.722302],\n",
       "      [-79.477979, 39.722302],\n",
       "      [-80.518598, 39.722302],\n",
       "      [-80.518598, 40.636951],\n",
       "      [-80.518598, 41.978802],\n",
       "      [-80.518598, 41.978802],\n",
       "      [-80.332382, 42.033571],\n",
       "      [-79.76278, 42.269079],\n",
       "      [-79.76278, 42.252649]]]}},\n",
       "  {'type': 'Feature',\n",
       "   'id': 'RI',\n",
       "   'properties': {'name': 'Rhode Island'},\n",
       "   'geometry': {'type': 'MultiPolygon',\n",
       "    'coordinates': [[[[-71.196845, 41.67757],\n",
       "       [-71.120168, 41.496831],\n",
       "       [-71.317338, 41.474923],\n",
       "       [-71.196845, 41.67757]]],\n",
       "     [[[-71.530939, 42.01714],\n",
       "       [-71.383061, 42.01714],\n",
       "       [-71.328292, 41.781632],\n",
       "       [-71.22423, 41.710431],\n",
       "       [-71.344723, 41.726862],\n",
       "       [-71.448785, 41.578985],\n",
       "       [-71.481646, 41.370861],\n",
       "       [-71.859555, 41.321569],\n",
       "       [-71.799309, 41.414677],\n",
       "       [-71.799309, 42.006186],\n",
       "       [-71.530939, 42.01714]]]]}},\n",
       "  {'type': 'Feature',\n",
       "   'id': 'SC',\n",
       "   'properties': {'name': 'South Carolina'},\n",
       "   'geometry': {'type': 'Polygon',\n",
       "    'coordinates': [[[-82.764143, 35.066903],\n",
       "      [-82.550543, 35.160011],\n",
       "      [-82.276696, 35.198349],\n",
       "      [-81.044384, 35.149057],\n",
       "      [-81.038907, 35.044995],\n",
       "      [-80.934845, 35.105241],\n",
       "      [-80.781491, 34.935456],\n",
       "      [-80.797922, 34.820441],\n",
       "      [-79.675149, 34.80401],\n",
       "      [-78.541422, 33.851022],\n",
       "      [-78.716684, 33.80173],\n",
       "      [-78.935762, 33.637421],\n",
       "      [-79.149363, 33.380005],\n",
       "      [-79.187701, 33.171881],\n",
       "      [-79.357487, 33.007573],\n",
       "      [-79.582041, 33.007573],\n",
       "      [-79.631334, 32.887081],\n",
       "      [-79.866842, 32.755634],\n",
       "      [-79.998289, 32.613234],\n",
       "      [-80.206412, 32.552987],\n",
       "      [-80.430967, 32.399633],\n",
       "      [-80.452875, 32.328433],\n",
       "      [-80.660998, 32.246279],\n",
       "      [-80.885553, 32.032678],\n",
       "      [-81.115584, 32.120309],\n",
       "      [-81.121061, 32.290094],\n",
       "      [-81.279893, 32.558464],\n",
       "      [-81.416816, 32.629664],\n",
       "      [-81.42777, 32.843265],\n",
       "      [-81.493493, 33.007573],\n",
       "      [-81.761863, 33.160928],\n",
       "      [-81.937125, 33.347144],\n",
       "      [-81.926172, 33.462159],\n",
       "      [-82.194542, 33.631944],\n",
       "      [-82.325988, 33.81816],\n",
       "      [-82.55602, 33.94413],\n",
       "      [-82.714851, 34.152254],\n",
       "      [-82.747713, 34.26727],\n",
       "      [-82.901067, 34.486347],\n",
       "      [-83.005129, 34.469916],\n",
       "      [-83.339222, 34.683517],\n",
       "      [-83.322791, 34.787579],\n",
       "      [-83.109191, 35.00118],\n",
       "      [-82.764143, 35.066903]]]}},\n",
       "  {'type': 'Feature',\n",
       "   'id': 'SD',\n",
       "   'properties': {'name': 'South Dakota'},\n",
       "   'geometry': {'type': 'Polygon',\n",
       "    'coordinates': [[[-104.047534, 45.944106],\n",
       "      [-96.560556, 45.933153],\n",
       "      [-96.582464, 45.818137],\n",
       "      [-96.856311, 45.604536],\n",
       "      [-96.681049, 45.412843],\n",
       "      [-96.451017, 45.297827],\n",
       "      [-96.451017, 43.501391],\n",
       "      [-96.582464, 43.479483],\n",
       "      [-96.527695, 43.397329],\n",
       "      [-96.560556, 43.222067],\n",
       "      [-96.434587, 43.123482],\n",
       "      [-96.511264, 43.052282],\n",
       "      [-96.544125, 42.855112],\n",
       "      [-96.631756, 42.707235],\n",
       "      [-96.44554, 42.488157],\n",
       "      [-96.626279, 42.515542],\n",
       "      [-96.692003, 42.657942],\n",
       "      [-97.217789, 42.844158],\n",
       "      [-97.688806, 42.844158],\n",
       "      [-97.831206, 42.866066],\n",
       "      [-97.951699, 42.767481],\n",
       "      [-98.466531, 42.94822],\n",
       "      [-98.499393, 42.997512],\n",
       "      [-101.626726, 42.997512],\n",
       "      [-103.324578, 43.002989],\n",
       "      [-104.053011, 43.002989],\n",
       "      [-104.058488, 44.996596],\n",
       "      [-104.042057, 44.996596],\n",
       "      [-104.047534, 45.944106]]]}},\n",
       "  {'type': 'Feature',\n",
       "   'id': 'TN',\n",
       "   'properties': {'name': 'Tennessee'},\n",
       "   'geometry': {'type': 'Polygon',\n",
       "    'coordinates': [[[-88.054868, 36.496384],\n",
       "      [-88.071299, 36.677123],\n",
       "      [-87.852221, 36.633308],\n",
       "      [-86.592525, 36.655216],\n",
       "      [-85.486183, 36.616877],\n",
       "      [-85.289013, 36.627831],\n",
       "      [-84.544149, 36.594969],\n",
       "      [-83.689746, 36.584015],\n",
       "      [-83.673316, 36.600446],\n",
       "      [-81.679709, 36.589492],\n",
       "      [-81.723525, 36.353984],\n",
       "      [-81.909741, 36.304691],\n",
       "      [-82.03571, 36.118475],\n",
       "      [-82.216449, 36.156814],\n",
       "      [-82.610789, 35.965121],\n",
       "      [-82.638174, 36.063706],\n",
       "      [-82.775097, 35.997983],\n",
       "      [-82.994175, 35.773428],\n",
       "      [-83.251591, 35.718659],\n",
       "      [-83.498053, 35.565304],\n",
       "      [-83.7719, 35.559827],\n",
       "      [-84.018363, 35.41195],\n",
       "      [-84.09504, 35.247642],\n",
       "      [-84.29221, 35.225734],\n",
       "      [-84.319594, 34.990226],\n",
       "      [-85.606675, 34.984749],\n",
       "      [-87.359296, 35.00118],\n",
       "      [-88.202745, 34.995703],\n",
       "      [-88.471115, 34.995703],\n",
       "      [-90.311367, 34.995703],\n",
       "      [-90.212782, 35.023087],\n",
       "      [-90.114197, 35.198349],\n",
       "      [-90.130628, 35.439335],\n",
       "      [-89.944412, 35.603643],\n",
       "      [-89.911551, 35.756997],\n",
       "      [-89.763673, 35.811767],\n",
       "      [-89.730812, 35.997983],\n",
       "      [-89.533642, 36.249922],\n",
       "      [-89.539119, 36.496384],\n",
       "      [-89.484349, 36.496384],\n",
       "      [-89.418626, 36.496384],\n",
       "      [-89.298133, 36.507338],\n",
       "      [-88.054868, 36.496384]]]}},\n",
       "  {'type': 'Feature',\n",
       "   'id': 'TX',\n",
       "   'properties': {'name': 'Texas'},\n",
       "   'geometry': {'type': 'Polygon',\n",
       "    'coordinates': [[[-101.812942, 36.501861],\n",
       "      [-100.000075, 36.501861],\n",
       "      [-100.000075, 34.563024],\n",
       "      [-99.923398, 34.573978],\n",
       "      [-99.698843, 34.382285],\n",
       "      [-99.57835, 34.415147],\n",
       "      [-99.260688, 34.404193],\n",
       "      [-99.189488, 34.2125],\n",
       "      [-98.986841, 34.223454],\n",
       "      [-98.767763, 34.135823],\n",
       "      [-98.570593, 34.146777],\n",
       "      [-98.488439, 34.064623],\n",
       "      [-98.36247, 34.157731],\n",
       "      [-98.170777, 34.113915],\n",
       "      [-98.088623, 34.004376],\n",
       "      [-97.946222, 33.987946],\n",
       "      [-97.869545, 33.851022],\n",
       "      [-97.694283, 33.982469],\n",
       "      [-97.458774, 33.905791],\n",
       "      [-97.371143, 33.823637],\n",
       "      [-97.256128, 33.861976],\n",
       "      [-97.173974, 33.736006],\n",
       "      [-96.922034, 33.960561],\n",
       "      [-96.850834, 33.845545],\n",
       "      [-96.631756, 33.845545],\n",
       "      [-96.423633, 33.774345],\n",
       "      [-96.346956, 33.686714],\n",
       "      [-96.149786, 33.840068],\n",
       "      [-95.936185, 33.889361],\n",
       "      [-95.8376, 33.834591],\n",
       "      [-95.602092, 33.933176],\n",
       "      [-95.547322, 33.878407],\n",
       "      [-95.289906, 33.87293],\n",
       "      [-95.224183, 33.960561],\n",
       "      [-94.966767, 33.861976],\n",
       "      [-94.868182, 33.74696],\n",
       "      [-94.484796, 33.637421],\n",
       "      [-94.380734, 33.544313],\n",
       "      [-94.183564, 33.593606],\n",
       "      [-94.041164, 33.54979],\n",
       "      [-94.041164, 33.018527],\n",
       "      [-94.041164, 31.994339],\n",
       "      [-93.822086, 31.775262],\n",
       "      [-93.816609, 31.556184],\n",
       "      [-93.542762, 31.15089],\n",
       "      [-93.526331, 30.93729],\n",
       "      [-93.630393, 30.679874],\n",
       "      [-93.728978, 30.575812],\n",
       "      [-93.696116, 30.438888],\n",
       "      [-93.767317, 30.334826],\n",
       "      [-93.690639, 30.143133],\n",
       "      [-93.926148, 29.787132],\n",
       "      [-93.838517, 29.688547],\n",
       "      [-94.002825, 29.68307],\n",
       "      [-94.523134, 29.546147],\n",
       "      [-94.70935, 29.622824],\n",
       "      [-94.742212, 29.787132],\n",
       "      [-94.873659, 29.672117],\n",
       "      [-94.966767, 29.699501],\n",
       "      [-95.016059, 29.557101],\n",
       "      [-94.911997, 29.496854],\n",
       "      [-94.895566, 29.310638],\n",
       "      [-95.081782, 29.113469],\n",
       "      [-95.383014, 28.867006],\n",
       "      [-95.985477, 28.604113],\n",
       "      [-96.045724, 28.647929],\n",
       "      [-96.226463, 28.582205],\n",
       "      [-96.23194, 28.642452],\n",
       "      [-96.478402, 28.598636],\n",
       "      [-96.593418, 28.724606],\n",
       "      [-96.664618, 28.697221],\n",
       "      [-96.401725, 28.439805],\n",
       "      [-96.593418, 28.357651],\n",
       "      [-96.774157, 28.406943],\n",
       "      [-96.801542, 28.226204],\n",
       "      [-97.026096, 28.039988],\n",
       "      [-97.256128, 27.694941],\n",
       "      [-97.404005, 27.333463],\n",
       "      [-97.513544, 27.360848],\n",
       "      [-97.540929, 27.229401],\n",
       "      [-97.425913, 27.262263],\n",
       "      [-97.480682, 26.99937],\n",
       "      [-97.557359, 26.988416],\n",
       "      [-97.562836, 26.840538],\n",
       "      [-97.469728, 26.758384],\n",
       "      [-97.442344, 26.457153],\n",
       "      [-97.332805, 26.353091],\n",
       "      [-97.30542, 26.161398],\n",
       "      [-97.217789, 25.991613],\n",
       "      [-97.524498, 25.887551],\n",
       "      [-97.650467, 26.018997],\n",
       "      [-97.885976, 26.06829],\n",
       "      [-98.198161, 26.057336],\n",
       "      [-98.466531, 26.221644],\n",
       "      [-98.669178, 26.238075],\n",
       "      [-98.822533, 26.369522],\n",
       "      [-99.030656, 26.413337],\n",
       "      [-99.173057, 26.539307],\n",
       "      [-99.266165, 26.840538],\n",
       "      [-99.446904, 27.021277],\n",
       "      [-99.424996, 27.174632],\n",
       "      [-99.50715, 27.33894],\n",
       "      [-99.479765, 27.48134],\n",
       "      [-99.605735, 27.640172],\n",
       "      [-99.709797, 27.656603],\n",
       "      [-99.879582, 27.799003],\n",
       "      [-99.934351, 27.979742],\n",
       "      [-100.082229, 28.14405],\n",
       "      [-100.29583, 28.280974],\n",
       "      [-100.399891, 28.582205],\n",
       "      [-100.498476, 28.66436],\n",
       "      [-100.629923, 28.905345],\n",
       "      [-100.673738, 29.102515],\n",
       "      [-100.799708, 29.244915],\n",
       "      [-101.013309, 29.370885],\n",
       "      [-101.062601, 29.458516],\n",
       "      [-101.259771, 29.535193],\n",
       "      [-101.413125, 29.754271],\n",
       "      [-101.851281, 29.803563],\n",
       "      [-102.114174, 29.792609],\n",
       "      [-102.338728, 29.869286],\n",
       "      [-102.388021, 29.765225],\n",
       "      [-102.629006, 29.732363],\n",
       "      [-102.809745, 29.524239],\n",
       "      [-102.919284, 29.190146],\n",
       "      [-102.97953, 29.184669],\n",
       "      [-103.116454, 28.987499],\n",
       "      [-103.280762, 28.982022],\n",
       "      [-103.527224, 29.135376],\n",
       "      [-104.146119, 29.381839],\n",
       "      [-104.266611, 29.513285],\n",
       "      [-104.507597, 29.639255],\n",
       "      [-104.677382, 29.924056],\n",
       "      [-104.688336, 30.181472],\n",
       "      [-104.858121, 30.389596],\n",
       "      [-104.896459, 30.570335],\n",
       "      [-105.005998, 30.685351],\n",
       "      [-105.394861, 30.855136],\n",
       "      [-105.602985, 31.085167],\n",
       "      [-105.77277, 31.167321],\n",
       "      [-105.953509, 31.364491],\n",
       "      [-106.205448, 31.468553],\n",
       "      [-106.38071, 31.731446],\n",
       "      [-106.528588, 31.786216],\n",
       "      [-106.643603, 31.901231],\n",
       "      [-106.616219, 31.999816],\n",
       "      [-103.067161, 31.999816],\n",
       "      [-103.067161, 33.002096],\n",
       "      [-103.045254, 34.01533],\n",
       "      [-103.039777, 36.501861],\n",
       "      [-103.001438, 36.501861],\n",
       "      [-101.812942, 36.501861]]]}},\n",
       "  {'type': 'Feature',\n",
       "   'id': 'UT',\n",
       "   'properties': {'name': 'Utah'},\n",
       "   'geometry': {'type': 'Polygon',\n",
       "    'coordinates': [[[-112.164359, 41.995232],\n",
       "      [-111.047063, 42.000709],\n",
       "      [-111.047063, 40.998429],\n",
       "      [-109.04798, 40.998429],\n",
       "      [-109.053457, 39.125316],\n",
       "      [-109.058934, 38.27639],\n",
       "      [-109.042503, 38.166851],\n",
       "      [-109.042503, 37.000263],\n",
       "      [-110.499369, 37.00574],\n",
       "      [-114.048427, 37.000263],\n",
       "      [-114.04295, 41.995232],\n",
       "      [-112.164359, 41.995232]]]}},\n",
       "  {'type': 'Feature',\n",
       "   'id': 'VT',\n",
       "   'properties': {'name': 'Vermont'},\n",
       "   'geometry': {'type': 'Polygon',\n",
       "    'coordinates': [[[-71.503554, 45.013027],\n",
       "      [-71.4926, 44.914442],\n",
       "      [-71.629524, 44.750133],\n",
       "      [-71.536416, 44.585825],\n",
       "      [-71.700724, 44.41604],\n",
       "      [-72.034817, 44.322932],\n",
       "      [-72.02934, 44.07647],\n",
       "      [-72.116971, 43.994316],\n",
       "      [-72.204602, 43.769761],\n",
       "      [-72.379864, 43.572591],\n",
       "      [-72.456542, 43.150867],\n",
       "      [-72.445588, 43.008466],\n",
       "      [-72.533219, 42.953697],\n",
       "      [-72.544173, 42.80582],\n",
       "      [-72.456542, 42.729142],\n",
       "      [-73.267129, 42.745573],\n",
       "      [-73.278083, 42.833204],\n",
       "      [-73.245221, 43.523299],\n",
       "      [-73.404052, 43.687607],\n",
       "      [-73.349283, 43.769761],\n",
       "      [-73.436914, 44.043608],\n",
       "      [-73.321898, 44.246255],\n",
       "      [-73.294514, 44.437948],\n",
       "      [-73.387622, 44.618687],\n",
       "      [-73.332852, 44.804903],\n",
       "      [-73.343806, 45.013027],\n",
       "      [-72.308664, 45.002073],\n",
       "      [-71.503554, 45.013027]]]}},\n",
       "  {'type': 'Feature',\n",
       "   'id': 'VA',\n",
       "   'properties': {'name': 'Virginia'},\n",
       "   'geometry': {'type': 'MultiPolygon',\n",
       "    'coordinates': [[[[-75.397659, 38.013497],\n",
       "       [-75.244304, 38.029928],\n",
       "       [-75.375751, 37.860142],\n",
       "       [-75.512674, 37.799896],\n",
       "       [-75.594828, 37.569865],\n",
       "       [-75.802952, 37.197433],\n",
       "       [-75.972737, 37.120755],\n",
       "       [-76.027507, 37.257679],\n",
       "       [-75.939876, 37.564388],\n",
       "       [-75.671506, 37.95325],\n",
       "       [-75.397659, 38.013497]]],\n",
       "     [[[-76.016553, 37.95325],\n",
       "       [-75.994645, 37.95325],\n",
       "       [-76.043938, 37.95325],\n",
       "       [-76.016553, 37.95325]]],\n",
       "     [[[-78.349729, 39.464886],\n",
       "       [-77.82942, 39.130793],\n",
       "       [-77.719881, 39.322485],\n",
       "       [-77.566527, 39.306055],\n",
       "       [-77.456988, 39.223901],\n",
       "       [-77.456988, 39.076023],\n",
       "       [-77.248864, 39.026731],\n",
       "       [-77.117418, 38.933623],\n",
       "       [-77.040741, 38.791222],\n",
       "       [-77.128372, 38.632391],\n",
       "       [-77.248864, 38.588575],\n",
       "       [-77.325542, 38.446175],\n",
       "       [-77.281726, 38.342113],\n",
       "       [-77.013356, 38.374975],\n",
       "       [-76.964064, 38.216144],\n",
       "       [-76.613539, 38.15042],\n",
       "       [-76.514954, 38.024451],\n",
       "       [-76.235631, 37.887527],\n",
       "       [-76.3616, 37.608203],\n",
       "       [-76.246584, 37.389126],\n",
       "       [-76.383508, 37.285064],\n",
       "       [-76.399939, 37.159094],\n",
       "       [-76.273969, 37.082417],\n",
       "       [-76.410893, 36.961924],\n",
       "       [-76.619016, 37.120755],\n",
       "       [-76.668309, 37.065986],\n",
       "       [-76.48757, 36.95097],\n",
       "       [-75.994645, 36.923586],\n",
       "       [-75.868676, 36.551154],\n",
       "       [-79.510841, 36.5402],\n",
       "       [-80.294043, 36.545677],\n",
       "       [-80.978661, 36.562108],\n",
       "       [-81.679709, 36.589492],\n",
       "       [-83.673316, 36.600446],\n",
       "       [-83.136575, 36.742847],\n",
       "       [-83.070852, 36.852385],\n",
       "       [-82.879159, 36.890724],\n",
       "       [-82.868205, 36.978355],\n",
       "       [-82.720328, 37.044078],\n",
       "       [-82.720328, 37.120755],\n",
       "       [-82.353373, 37.268633],\n",
       "       [-81.969987, 37.537003],\n",
       "       [-81.986418, 37.454849],\n",
       "       [-81.849494, 37.285064],\n",
       "       [-81.679709, 37.20291],\n",
       "       [-81.55374, 37.208387],\n",
       "       [-81.362047, 37.339833],\n",
       "       [-81.225123, 37.235771],\n",
       "       [-80.967707, 37.290541],\n",
       "       [-80.513121, 37.482234],\n",
       "       [-80.474782, 37.421987],\n",
       "       [-80.29952, 37.509618],\n",
       "       [-80.294043, 37.690357],\n",
       "       [-80.184505, 37.849189],\n",
       "       [-79.998289, 37.997066],\n",
       "       [-79.921611, 38.177805],\n",
       "       [-79.724442, 38.364021],\n",
       "       [-79.647764, 38.594052],\n",
       "       [-79.477979, 38.457129],\n",
       "       [-79.313671, 38.413313],\n",
       "       [-79.209609, 38.495467],\n",
       "       [-78.996008, 38.851469],\n",
       "       [-78.870039, 38.763838],\n",
       "       [-78.404499, 39.169131],\n",
       "       [-78.349729, 39.464886]]]]}},\n",
       "  {'type': 'Feature',\n",
       "   'id': 'WA',\n",
       "   'properties': {'name': 'Washington'},\n",
       "   'geometry': {'type': 'MultiPolygon',\n",
       "    'coordinates': [[[[-117.033359, 49.000239],\n",
       "       [-117.044313, 47.762451],\n",
       "       [-117.038836, 46.426077],\n",
       "       [-117.055267, 46.343923],\n",
       "       [-116.92382, 46.168661],\n",
       "       [-116.918344, 45.993399],\n",
       "       [-118.988627, 45.998876],\n",
       "       [-119.125551, 45.933153],\n",
       "       [-119.525367, 45.911245],\n",
       "       [-119.963522, 45.823614],\n",
       "       [-120.209985, 45.725029],\n",
       "       [-120.505739, 45.697644],\n",
       "       [-120.637186, 45.746937],\n",
       "       [-121.18488, 45.604536],\n",
       "       [-121.217742, 45.670259],\n",
       "       [-121.535404, 45.725029],\n",
       "       [-121.809251, 45.708598],\n",
       "       [-122.247407, 45.549767],\n",
       "       [-122.762239, 45.659305],\n",
       "       [-122.811531, 45.960537],\n",
       "       [-122.904639, 46.08103],\n",
       "       [-123.11824, 46.185092],\n",
       "       [-123.211348, 46.174138],\n",
       "       [-123.370179, 46.146753],\n",
       "       [-123.545441, 46.261769],\n",
       "       [-123.72618, 46.300108],\n",
       "       [-123.874058, 46.239861],\n",
       "       [-124.065751, 46.327492],\n",
       "       [-124.027412, 46.464416],\n",
       "       [-123.895966, 46.535616],\n",
       "       [-124.098612, 46.74374],\n",
       "       [-124.235536, 47.285957],\n",
       "       [-124.31769, 47.357157],\n",
       "       [-124.427229, 47.740543],\n",
       "       [-124.624399, 47.88842],\n",
       "       [-124.706553, 48.184175],\n",
       "       [-124.597014, 48.381345],\n",
       "       [-124.394367, 48.288237],\n",
       "       [-123.983597, 48.162267],\n",
       "       [-123.704273, 48.167744],\n",
       "       [-123.424949, 48.118452],\n",
       "       [-123.162056, 48.167744],\n",
       "       [-123.036086, 48.080113],\n",
       "       [-122.800578, 48.08559],\n",
       "       [-122.636269, 47.866512],\n",
       "       [-122.515777, 47.882943],\n",
       "       [-122.493869, 47.587189],\n",
       "       [-122.422669, 47.318818],\n",
       "       [-122.324084, 47.346203],\n",
       "       [-122.422669, 47.576235],\n",
       "       [-122.395284, 47.800789],\n",
       "       [-122.230976, 48.030821],\n",
       "       [-122.362422, 48.123929],\n",
       "       [-122.373376, 48.288237],\n",
       "       [-122.471961, 48.468976],\n",
       "       [-122.422669, 48.600422],\n",
       "       [-122.488392, 48.753777],\n",
       "       [-122.647223, 48.775685],\n",
       "       [-122.795101, 48.8907],\n",
       "       [-122.756762, 49.000239],\n",
       "       [-117.033359, 49.000239]]],\n",
       "     [[[-122.718423, 48.310145],\n",
       "       [-122.586977, 48.35396],\n",
       "       [-122.608885, 48.151313],\n",
       "       [-122.767716, 48.227991],\n",
       "       [-122.718423, 48.310145]]],\n",
       "     [[[-123.025132, 48.583992],\n",
       "       [-122.915593, 48.715438],\n",
       "       [-122.767716, 48.556607],\n",
       "       [-122.811531, 48.419683],\n",
       "       [-123.041563, 48.458022],\n",
       "       [-123.025132, 48.583992]]]]}},\n",
       "  {'type': 'Feature',\n",
       "   'id': 'WV',\n",
       "   'properties': {'name': 'West Virginia'},\n",
       "   'geometry': {'type': 'Polygon',\n",
       "    'coordinates': [[[-80.518598, 40.636951],\n",
       "      [-80.518598, 39.722302],\n",
       "      [-79.477979, 39.722302],\n",
       "      [-79.488933, 39.20747],\n",
       "      [-79.291763, 39.300578],\n",
       "      [-79.094593, 39.470363],\n",
       "      [-78.963147, 39.437501],\n",
       "      [-78.765977, 39.585379],\n",
       "      [-78.470222, 39.514178],\n",
       "      [-78.431884, 39.623717],\n",
       "      [-78.267575, 39.61824],\n",
       "      [-78.174467, 39.694917],\n",
       "      [-78.004682, 39.601809],\n",
       "      [-77.834897, 39.601809],\n",
       "      [-77.719881, 39.322485],\n",
       "      [-77.82942, 39.130793],\n",
       "      [-78.349729, 39.464886],\n",
       "      [-78.404499, 39.169131],\n",
       "      [-78.870039, 38.763838],\n",
       "      [-78.996008, 38.851469],\n",
       "      [-79.209609, 38.495467],\n",
       "      [-79.313671, 38.413313],\n",
       "      [-79.477979, 38.457129],\n",
       "      [-79.647764, 38.594052],\n",
       "      [-79.724442, 38.364021],\n",
       "      [-79.921611, 38.177805],\n",
       "      [-79.998289, 37.997066],\n",
       "      [-80.184505, 37.849189],\n",
       "      [-80.294043, 37.690357],\n",
       "      [-80.29952, 37.509618],\n",
       "      [-80.474782, 37.421987],\n",
       "      [-80.513121, 37.482234],\n",
       "      [-80.967707, 37.290541],\n",
       "      [-81.225123, 37.235771],\n",
       "      [-81.362047, 37.339833],\n",
       "      [-81.55374, 37.208387],\n",
       "      [-81.679709, 37.20291],\n",
       "      [-81.849494, 37.285064],\n",
       "      [-81.986418, 37.454849],\n",
       "      [-81.969987, 37.537003],\n",
       "      [-82.101434, 37.553434],\n",
       "      [-82.293127, 37.668449],\n",
       "      [-82.342419, 37.783465],\n",
       "      [-82.50125, 37.931343],\n",
       "      [-82.621743, 38.123036],\n",
       "      [-82.594358, 38.424267],\n",
       "      [-82.331465, 38.446175],\n",
       "      [-82.293127, 38.577622],\n",
       "      [-82.172634, 38.632391],\n",
       "      [-82.221926, 38.785745],\n",
       "      [-82.03571, 39.026731],\n",
       "      [-81.887833, 38.873376],\n",
       "      [-81.783771, 38.966484],\n",
       "      [-81.811156, 39.0815],\n",
       "      [-81.685186, 39.273193],\n",
       "      [-81.57017, 39.267716],\n",
       "      [-81.455155, 39.410117],\n",
       "      [-81.345616, 39.344393],\n",
       "      [-81.219646, 39.388209],\n",
       "      [-80.830783, 39.711348],\n",
       "      [-80.737675, 40.078303],\n",
       "      [-80.600752, 40.319289],\n",
       "      [-80.595275, 40.472643],\n",
       "      [-80.666475, 40.582182],\n",
       "      [-80.518598, 40.636951]]]}},\n",
       "  {'type': 'Feature',\n",
       "   'id': 'WI',\n",
       "   'properties': {'name': 'Wisconsin'},\n",
       "   'geometry': {'type': 'Polygon',\n",
       "    'coordinates': [[[-90.415429, 46.568478],\n",
       "      [-90.229213, 46.508231],\n",
       "      [-90.119674, 46.338446],\n",
       "      [-89.09001, 46.135799],\n",
       "      [-88.662808, 45.987922],\n",
       "      [-88.531362, 46.020784],\n",
       "      [-88.10416, 45.922199],\n",
       "      [-87.989145, 45.796229],\n",
       "      [-87.781021, 45.675736],\n",
       "      [-87.791975, 45.500474],\n",
       "      [-87.885083, 45.363551],\n",
       "      [-87.649574, 45.341643],\n",
       "      [-87.742682, 45.199243],\n",
       "      [-87.589328, 45.095181],\n",
       "      [-87.627666, 44.974688],\n",
       "      [-87.819359, 44.95278],\n",
       "      [-87.983668, 44.722749],\n",
       "      [-88.043914, 44.563917],\n",
       "      [-87.928898, 44.536533],\n",
       "      [-87.775544, 44.640595],\n",
       "      [-87.611236, 44.837764],\n",
       "      [-87.403112, 44.914442],\n",
       "      [-87.238804, 45.166381],\n",
       "      [-87.03068, 45.22115],\n",
       "      [-87.047111, 45.089704],\n",
       "      [-87.189511, 44.969211],\n",
       "      [-87.468835, 44.552964],\n",
       "      [-87.545512, 44.322932],\n",
       "      [-87.540035, 44.158624],\n",
       "      [-87.644097, 44.103854],\n",
       "      [-87.737205, 43.8793],\n",
       "      [-87.704344, 43.687607],\n",
       "      [-87.791975, 43.561637],\n",
       "      [-87.912467, 43.249452],\n",
       "      [-87.885083, 43.002989],\n",
       "      [-87.76459, 42.783912],\n",
       "      [-87.802929, 42.493634],\n",
       "      [-88.788778, 42.493634],\n",
       "      [-90.639984, 42.510065],\n",
       "      [-90.711184, 42.636034],\n",
       "      [-91.067185, 42.75105],\n",
       "      [-91.143862, 42.909881],\n",
       "      [-91.176724, 43.134436],\n",
       "      [-91.056231, 43.254929],\n",
       "      [-91.204109, 43.353514],\n",
       "      [-91.215062, 43.501391],\n",
       "      [-91.269832, 43.616407],\n",
       "      [-91.242447, 43.775238],\n",
       "      [-91.43414, 43.994316],\n",
       "      [-91.592971, 44.032654],\n",
       "      [-91.877772, 44.202439],\n",
       "      [-91.927065, 44.333886],\n",
       "      [-92.233773, 44.443425],\n",
       "      [-92.337835, 44.552964],\n",
       "      [-92.545959, 44.569394],\n",
       "      [-92.808852, 44.750133],\n",
       "      [-92.737652, 45.117088],\n",
       "      [-92.75956, 45.286874],\n",
       "      [-92.644544, 45.440228],\n",
       "      [-92.770513, 45.566198],\n",
       "      [-92.885529, 45.577151],\n",
       "      [-92.869098, 45.719552],\n",
       "      [-92.639067, 45.933153],\n",
       "      [-92.354266, 46.015307],\n",
       "      [-92.29402, 46.075553],\n",
       "      [-92.29402, 46.667063],\n",
       "      [-92.091373, 46.749217],\n",
       "      [-92.014696, 46.705401],\n",
       "      [-91.790141, 46.694447],\n",
       "      [-91.09457, 46.864232],\n",
       "      [-90.837154, 46.95734],\n",
       "      [-90.749522, 46.88614],\n",
       "      [-90.886446, 46.754694],\n",
       "      [-90.55783, 46.584908],\n",
       "      [-90.415429, 46.568478]]]}},\n",
       "  {'type': 'Feature',\n",
       "   'id': 'WY',\n",
       "   'properties': {'name': 'Wyoming'},\n",
       "   'geometry': {'type': 'Polygon',\n",
       "    'coordinates': [[[-109.080842, 45.002073],\n",
       "      [-105.91517, 45.002073],\n",
       "      [-104.058488, 44.996596],\n",
       "      [-104.053011, 43.002989],\n",
       "      [-104.053011, 41.003906],\n",
       "      [-105.728954, 40.998429],\n",
       "      [-107.919731, 41.003906],\n",
       "      [-109.04798, 40.998429],\n",
       "      [-111.047063, 40.998429],\n",
       "      [-111.047063, 42.000709],\n",
       "      [-111.047063, 44.476286],\n",
       "      [-111.05254, 45.002073],\n",
       "      [-109.080842, 45.002073]]]}}]}"
      ]
     },
     "execution_count": 9,
     "metadata": {},
     "output_type": "execute_result"
    }
   ],
   "source": [
    "import requests\n",
    "import json\n",
    "\n",
    "# define the geojson variable to use in the map with the States in the U.S.\n",
    "geojson = 'https://raw.githubusercontent.com/python-visualization/folium/master/examples/data/us-states.json'\n",
    "\n",
    "# como el geojson es un archivo json, podemos usar la librería requests para obtenerlo\n",
    "response = requests.get(geojson)\n",
    "data = response.json()\n",
    "data\n",
    "\n",
    "# note que el geojson tiene una lista de diccionarios, donde cada diccionario tiene la información de un estado y usa el id del estado para identificarlo, no el nombre del estado"
   ]
  },
  {
   "cell_type": "code",
   "execution_count": 10,
   "metadata": {},
   "outputs": [
    {
     "data": {
      "text/html": [
       "<div>\n",
       "<style scoped>\n",
       "    .dataframe tbody tr th:only-of-type {\n",
       "        vertical-align: middle;\n",
       "    }\n",
       "\n",
       "    .dataframe tbody tr th {\n",
       "        vertical-align: top;\n",
       "    }\n",
       "\n",
       "    .dataframe thead th {\n",
       "        text-align: right;\n",
       "    }\n",
       "</style>\n",
       "<table border=\"1\" class=\"dataframe\">\n",
       "  <thead>\n",
       "    <tr style=\"text-align: right;\">\n",
       "      <th></th>\n",
       "      <th>State</th>\n",
       "      <th>Postal Code</th>\n",
       "      <th>Row ID</th>\n",
       "      <th>Discount</th>\n",
       "      <th>Number of Records</th>\n",
       "      <th>Profit</th>\n",
       "      <th>Quantity</th>\n",
       "      <th>Sales</th>\n",
       "      <th>id</th>\n",
       "    </tr>\n",
       "  </thead>\n",
       "  <tbody>\n",
       "    <tr>\n",
       "      <th>0</th>\n",
       "      <td>Texas</td>\n",
       "      <td>75747693</td>\n",
       "      <td>5085541</td>\n",
       "      <td>364.64</td>\n",
       "      <td>985</td>\n",
       "      <td>-25729.3563</td>\n",
       "      <td>3724</td>\n",
       "      <td>170188.0458</td>\n",
       "      <td>TX</td>\n",
       "    </tr>\n",
       "    <tr>\n",
       "      <th>1</th>\n",
       "      <td>Ohio</td>\n",
       "      <td>20579836</td>\n",
       "      <td>2355994</td>\n",
       "      <td>152.40</td>\n",
       "      <td>469</td>\n",
       "      <td>-16971.3766</td>\n",
       "      <td>1759</td>\n",
       "      <td>78258.1360</td>\n",
       "      <td>OH</td>\n",
       "    </tr>\n",
       "    <tr>\n",
       "      <th>2</th>\n",
       "      <td>Pennsylvania</td>\n",
       "      <td>11190565</td>\n",
       "      <td>2768523</td>\n",
       "      <td>192.90</td>\n",
       "      <td>587</td>\n",
       "      <td>-15559.9603</td>\n",
       "      <td>2153</td>\n",
       "      <td>116511.9140</td>\n",
       "      <td>PA</td>\n",
       "    </tr>\n",
       "    <tr>\n",
       "      <th>3</th>\n",
       "      <td>Illinois</td>\n",
       "      <td>29873772</td>\n",
       "      <td>2571481</td>\n",
       "      <td>191.90</td>\n",
       "      <td>492</td>\n",
       "      <td>-12607.8870</td>\n",
       "      <td>1845</td>\n",
       "      <td>80166.1010</td>\n",
       "      <td>IL</td>\n",
       "    </tr>\n",
       "    <tr>\n",
       "      <th>4</th>\n",
       "      <td>North Carolina</td>\n",
       "      <td>6994384</td>\n",
       "      <td>1219177</td>\n",
       "      <td>70.60</td>\n",
       "      <td>249</td>\n",
       "      <td>-7490.9122</td>\n",
       "      <td>983</td>\n",
       "      <td>55603.1640</td>\n",
       "      <td>NC</td>\n",
       "    </tr>\n",
       "    <tr>\n",
       "      <th>5</th>\n",
       "      <td>Colorado</td>\n",
       "      <td>14613828</td>\n",
       "      <td>797002</td>\n",
       "      <td>57.60</td>\n",
       "      <td>182</td>\n",
       "      <td>-6527.8579</td>\n",
       "      <td>693</td>\n",
       "      <td>32108.1180</td>\n",
       "      <td>CO</td>\n",
       "    </tr>\n",
       "    <tr>\n",
       "      <th>6</th>\n",
       "      <td>Tennessee</td>\n",
       "      <td>6890574</td>\n",
       "      <td>1068141</td>\n",
       "      <td>53.30</td>\n",
       "      <td>183</td>\n",
       "      <td>-5341.6936</td>\n",
       "      <td>681</td>\n",
       "      <td>30661.8730</td>\n",
       "      <td>TN</td>\n",
       "    </tr>\n",
       "    <tr>\n",
       "      <th>7</th>\n",
       "      <td>Arizona</td>\n",
       "      <td>19102126</td>\n",
       "      <td>1019876</td>\n",
       "      <td>68.00</td>\n",
       "      <td>224</td>\n",
       "      <td>-3427.9246</td>\n",
       "      <td>862</td>\n",
       "      <td>35282.0010</td>\n",
       "      <td>AZ</td>\n",
       "    </tr>\n",
       "    <tr>\n",
       "      <th>8</th>\n",
       "      <td>Florida</td>\n",
       "      <td>12640225</td>\n",
       "      <td>1958255</td>\n",
       "      <td>114.65</td>\n",
       "      <td>383</td>\n",
       "      <td>-3399.3017</td>\n",
       "      <td>1379</td>\n",
       "      <td>89473.7080</td>\n",
       "      <td>FL</td>\n",
       "    </tr>\n",
       "    <tr>\n",
       "      <th>9</th>\n",
       "      <td>Oregon</td>\n",
       "      <td>12072125</td>\n",
       "      <td>652996</td>\n",
       "      <td>35.80</td>\n",
       "      <td>124</td>\n",
       "      <td>-1190.4705</td>\n",
       "      <td>499</td>\n",
       "      <td>17431.1500</td>\n",
       "      <td>OR</td>\n",
       "    </tr>\n",
       "    <tr>\n",
       "      <th>10</th>\n",
       "      <td>Wyoming</td>\n",
       "      <td>82001</td>\n",
       "      <td>5870</td>\n",
       "      <td>0.20</td>\n",
       "      <td>1</td>\n",
       "      <td>100.1960</td>\n",
       "      <td>4</td>\n",
       "      <td>1603.1360</td>\n",
       "      <td>WY</td>\n",
       "    </tr>\n",
       "    <tr>\n",
       "      <th>11</th>\n",
       "      <td>West Virginia</td>\n",
       "      <td>104012</td>\n",
       "      <td>33175</td>\n",
       "      <td>0.30</td>\n",
       "      <td>4</td>\n",
       "      <td>185.9216</td>\n",
       "      <td>18</td>\n",
       "      <td>1209.8240</td>\n",
       "      <td>WV</td>\n",
       "    </tr>\n",
       "    <tr>\n",
       "      <th>12</th>\n",
       "      <td>North Dakota</td>\n",
       "      <td>406721</td>\n",
       "      <td>36796</td>\n",
       "      <td>0.00</td>\n",
       "      <td>7</td>\n",
       "      <td>230.1497</td>\n",
       "      <td>30</td>\n",
       "      <td>919.9100</td>\n",
       "      <td>ND</td>\n",
       "    </tr>\n",
       "    <tr>\n",
       "      <th>13</th>\n",
       "      <td>South Dakota</td>\n",
       "      <td>686730</td>\n",
       "      <td>48858</td>\n",
       "      <td>0.00</td>\n",
       "      <td>12</td>\n",
       "      <td>394.8283</td>\n",
       "      <td>42</td>\n",
       "      <td>1315.5600</td>\n",
       "      <td>SD</td>\n",
       "    </tr>\n",
       "    <tr>\n",
       "      <th>14</th>\n",
       "      <td>Maine</td>\n",
       "      <td>34725</td>\n",
       "      <td>46198</td>\n",
       "      <td>0.00</td>\n",
       "      <td>8</td>\n",
       "      <td>454.4862</td>\n",
       "      <td>35</td>\n",
       "      <td>1270.5300</td>\n",
       "      <td>ME</td>\n",
       "    </tr>\n",
       "    <tr>\n",
       "      <th>15</th>\n",
       "      <td>Idaho</td>\n",
       "      <td>1752709</td>\n",
       "      <td>129427</td>\n",
       "      <td>1.80</td>\n",
       "      <td>21</td>\n",
       "      <td>826.7231</td>\n",
       "      <td>64</td>\n",
       "      <td>4382.4860</td>\n",
       "      <td>ID</td>\n",
       "    </tr>\n",
       "    <tr>\n",
       "      <th>16</th>\n",
       "      <td>Kansas</td>\n",
       "      <td>1603798</td>\n",
       "      <td>125372</td>\n",
       "      <td>0.00</td>\n",
       "      <td>24</td>\n",
       "      <td>836.4435</td>\n",
       "      <td>74</td>\n",
       "      <td>2914.3100</td>\n",
       "      <td>KS</td>\n",
       "    </tr>\n",
       "    <tr>\n",
       "      <th>17</th>\n",
       "      <td>District of Columbia</td>\n",
       "      <td>200160</td>\n",
       "      <td>17918</td>\n",
       "      <td>0.00</td>\n",
       "      <td>10</td>\n",
       "      <td>1059.5893</td>\n",
       "      <td>40</td>\n",
       "      <td>2865.0200</td>\n",
       "      <td>None</td>\n",
       "    </tr>\n",
       "    <tr>\n",
       "      <th>18</th>\n",
       "      <td>New Mexico</td>\n",
       "      <td>3241556</td>\n",
       "      <td>166251</td>\n",
       "      <td>2.20</td>\n",
       "      <td>37</td>\n",
       "      <td>1157.1161</td>\n",
       "      <td>151</td>\n",
       "      <td>4783.5220</td>\n",
       "      <td>NM</td>\n",
       "    </tr>\n",
       "    <tr>\n",
       "      <th>19</th>\n",
       "      <td>Iowa</td>\n",
       "      <td>1537707</td>\n",
       "      <td>142173</td>\n",
       "      <td>0.00</td>\n",
       "      <td>30</td>\n",
       "      <td>1183.8119</td>\n",
       "      <td>112</td>\n",
       "      <td>4579.7600</td>\n",
       "      <td>IA</td>\n",
       "    </tr>\n",
       "    <tr>\n",
       "      <th>20</th>\n",
       "      <td>New Hampshire</td>\n",
       "      <td>93835</td>\n",
       "      <td>135645</td>\n",
       "      <td>0.30</td>\n",
       "      <td>27</td>\n",
       "      <td>1706.5028</td>\n",
       "      <td>127</td>\n",
       "      <td>7292.5240</td>\n",
       "      <td>NH</td>\n",
       "    </tr>\n",
       "    <tr>\n",
       "      <th>21</th>\n",
       "      <td>South Carolina</td>\n",
       "      <td>1230068</td>\n",
       "      <td>194095</td>\n",
       "      <td>0.00</td>\n",
       "      <td>42</td>\n",
       "      <td>1769.0566</td>\n",
       "      <td>172</td>\n",
       "      <td>8481.7100</td>\n",
       "      <td>SC</td>\n",
       "    </tr>\n",
       "    <tr>\n",
       "      <th>22</th>\n",
       "      <td>Montana</td>\n",
       "      <td>892376</td>\n",
       "      <td>61438</td>\n",
       "      <td>1.00</td>\n",
       "      <td>15</td>\n",
       "      <td>1833.3285</td>\n",
       "      <td>56</td>\n",
       "      <td>5589.3520</td>\n",
       "      <td>MT</td>\n",
       "    </tr>\n",
       "    <tr>\n",
       "      <th>23</th>\n",
       "      <td>Nebraska</td>\n",
       "      <td>2588614</td>\n",
       "      <td>205384</td>\n",
       "      <td>0.00</td>\n",
       "      <td>38</td>\n",
       "      <td>2037.0942</td>\n",
       "      <td>136</td>\n",
       "      <td>7464.9300</td>\n",
       "      <td>NE</td>\n",
       "    </tr>\n",
       "    <tr>\n",
       "      <th>24</th>\n",
       "      <td>Louisiana</td>\n",
       "      <td>2972649</td>\n",
       "      <td>173625</td>\n",
       "      <td>0.00</td>\n",
       "      <td>42</td>\n",
       "      <td>2196.1023</td>\n",
       "      <td>156</td>\n",
       "      <td>9217.0300</td>\n",
       "      <td>LA</td>\n",
       "    </tr>\n",
       "    <tr>\n",
       "      <th>25</th>\n",
       "      <td>Vermont</td>\n",
       "      <td>59488</td>\n",
       "      <td>91049</td>\n",
       "      <td>0.00</td>\n",
       "      <td>11</td>\n",
       "      <td>2244.9783</td>\n",
       "      <td>50</td>\n",
       "      <td>8929.3700</td>\n",
       "      <td>VT</td>\n",
       "    </tr>\n",
       "    <tr>\n",
       "      <th>26</th>\n",
       "      <td>Utah</td>\n",
       "      <td>4462368</td>\n",
       "      <td>193525</td>\n",
       "      <td>3.20</td>\n",
       "      <td>53</td>\n",
       "      <td>2546.5335</td>\n",
       "      <td>219</td>\n",
       "      <td>11220.0560</td>\n",
       "      <td>UT</td>\n",
       "    </tr>\n",
       "    <tr>\n",
       "      <th>27</th>\n",
       "      <td>Mississippi</td>\n",
       "      <td>2077023</td>\n",
       "      <td>250903</td>\n",
       "      <td>0.00</td>\n",
       "      <td>53</td>\n",
       "      <td>3172.9762</td>\n",
       "      <td>221</td>\n",
       "      <td>10771.3400</td>\n",
       "      <td>MS</td>\n",
       "    </tr>\n",
       "    <tr>\n",
       "      <th>28</th>\n",
       "      <td>Nevada</td>\n",
       "      <td>3476337</td>\n",
       "      <td>223546</td>\n",
       "      <td>2.40</td>\n",
       "      <td>39</td>\n",
       "      <td>3316.7659</td>\n",
       "      <td>168</td>\n",
       "      <td>16729.1020</td>\n",
       "      <td>NV</td>\n",
       "    </tr>\n",
       "    <tr>\n",
       "      <th>29</th>\n",
       "      <td>Connecticut</td>\n",
       "      <td>531005</td>\n",
       "      <td>444411</td>\n",
       "      <td>0.60</td>\n",
       "      <td>82</td>\n",
       "      <td>3511.4918</td>\n",
       "      <td>281</td>\n",
       "      <td>13384.3570</td>\n",
       "      <td>CT</td>\n",
       "    </tr>\n",
       "    <tr>\n",
       "      <th>30</th>\n",
       "      <td>Arkansas</td>\n",
       "      <td>4339309</td>\n",
       "      <td>304575</td>\n",
       "      <td>0.00</td>\n",
       "      <td>60</td>\n",
       "      <td>4008.6871</td>\n",
       "      <td>240</td>\n",
       "      <td>11678.1300</td>\n",
       "      <td>AR</td>\n",
       "    </tr>\n",
       "    <tr>\n",
       "      <th>31</th>\n",
       "      <td>Oklahoma</td>\n",
       "      <td>4863120</td>\n",
       "      <td>328549</td>\n",
       "      <td>0.00</td>\n",
       "      <td>66</td>\n",
       "      <td>4853.9560</td>\n",
       "      <td>247</td>\n",
       "      <td>19683.3900</td>\n",
       "      <td>OK</td>\n",
       "    </tr>\n",
       "    <tr>\n",
       "      <th>32</th>\n",
       "      <td>Alabama</td>\n",
       "      <td>2195669</td>\n",
       "      <td>243876</td>\n",
       "      <td>0.00</td>\n",
       "      <td>61</td>\n",
       "      <td>5786.8253</td>\n",
       "      <td>256</td>\n",
       "      <td>19510.6400</td>\n",
       "      <td>AL</td>\n",
       "    </tr>\n",
       "    <tr>\n",
       "      <th>33</th>\n",
       "      <td>Missouri</td>\n",
       "      <td>4298362</td>\n",
       "      <td>325246</td>\n",
       "      <td>0.00</td>\n",
       "      <td>66</td>\n",
       "      <td>6436.2105</td>\n",
       "      <td>252</td>\n",
       "      <td>22205.1500</td>\n",
       "      <td>MO</td>\n",
       "    </tr>\n",
       "    <tr>\n",
       "      <th>34</th>\n",
       "      <td>Massachusetts</td>\n",
       "      <td>268295</td>\n",
       "      <td>708877</td>\n",
       "      <td>2.10</td>\n",
       "      <td>135</td>\n",
       "      <td>6785.5016</td>\n",
       "      <td>491</td>\n",
       "      <td>28634.4340</td>\n",
       "      <td>MA</td>\n",
       "    </tr>\n",
       "    <tr>\n",
       "      <th>35</th>\n",
       "      <td>Maryland</td>\n",
       "      <td>2206740</td>\n",
       "      <td>556423</td>\n",
       "      <td>0.60</td>\n",
       "      <td>105</td>\n",
       "      <td>7031.1788</td>\n",
       "      <td>420</td>\n",
       "      <td>23705.5230</td>\n",
       "      <td>MD</td>\n",
       "    </tr>\n",
       "    <tr>\n",
       "      <th>36</th>\n",
       "      <td>Rhode Island</td>\n",
       "      <td>162878</td>\n",
       "      <td>305385</td>\n",
       "      <td>1.20</td>\n",
       "      <td>56</td>\n",
       "      <td>7285.6293</td>\n",
       "      <td>199</td>\n",
       "      <td>22627.9560</td>\n",
       "      <td>RI</td>\n",
       "    </tr>\n",
       "    <tr>\n",
       "      <th>37</th>\n",
       "      <td>Wisconsin</td>\n",
       "      <td>5899704</td>\n",
       "      <td>570981</td>\n",
       "      <td>0.00</td>\n",
       "      <td>110</td>\n",
       "      <td>8401.8004</td>\n",
       "      <td>463</td>\n",
       "      <td>32114.6100</td>\n",
       "      <td>WI</td>\n",
       "    </tr>\n",
       "    <tr>\n",
       "      <th>38</th>\n",
       "      <td>New Jersey</td>\n",
       "      <td>1007934</td>\n",
       "      <td>653855</td>\n",
       "      <td>0.60</td>\n",
       "      <td>130</td>\n",
       "      <td>9772.9138</td>\n",
       "      <td>454</td>\n",
       "      <td>35764.3120</td>\n",
       "      <td>NJ</td>\n",
       "    </tr>\n",
       "    <tr>\n",
       "      <th>39</th>\n",
       "      <td>Delaware</td>\n",
       "      <td>1896504</td>\n",
       "      <td>504370</td>\n",
       "      <td>0.60</td>\n",
       "      <td>96</td>\n",
       "      <td>9977.3748</td>\n",
       "      <td>367</td>\n",
       "      <td>27451.0690</td>\n",
       "      <td>DE</td>\n",
       "    </tr>\n",
       "    <tr>\n",
       "      <th>40</th>\n",
       "      <td>Minnesota</td>\n",
       "      <td>4932224</td>\n",
       "      <td>316645</td>\n",
       "      <td>0.00</td>\n",
       "      <td>89</td>\n",
       "      <td>10823.1874</td>\n",
       "      <td>331</td>\n",
       "      <td>29863.1500</td>\n",
       "      <td>MN</td>\n",
       "    </tr>\n",
       "    <tr>\n",
       "      <th>41</th>\n",
       "      <td>Kentucky</td>\n",
       "      <td>5725336</td>\n",
       "      <td>698921</td>\n",
       "      <td>0.00</td>\n",
       "      <td>139</td>\n",
       "      <td>11199.6966</td>\n",
       "      <td>523</td>\n",
       "      <td>36591.7500</td>\n",
       "      <td>KY</td>\n",
       "    </tr>\n",
       "    <tr>\n",
       "      <th>42</th>\n",
       "      <td>Georgia</td>\n",
       "      <td>5685480</td>\n",
       "      <td>883590</td>\n",
       "      <td>0.00</td>\n",
       "      <td>184</td>\n",
       "      <td>16250.0433</td>\n",
       "      <td>705</td>\n",
       "      <td>49095.8400</td>\n",
       "      <td>GA</td>\n",
       "    </tr>\n",
       "    <tr>\n",
       "      <th>43</th>\n",
       "      <td>Indiana</td>\n",
       "      <td>6991602</td>\n",
       "      <td>728770</td>\n",
       "      <td>0.00</td>\n",
       "      <td>149</td>\n",
       "      <td>18382.9363</td>\n",
       "      <td>578</td>\n",
       "      <td>53555.3600</td>\n",
       "      <td>IN</td>\n",
       "    </tr>\n",
       "    <tr>\n",
       "      <th>44</th>\n",
       "      <td>Virginia</td>\n",
       "      <td>5124335</td>\n",
       "      <td>1218137</td>\n",
       "      <td>0.00</td>\n",
       "      <td>224</td>\n",
       "      <td>18597.9504</td>\n",
       "      <td>893</td>\n",
       "      <td>70636.7200</td>\n",
       "      <td>VA</td>\n",
       "    </tr>\n",
       "    <tr>\n",
       "      <th>45</th>\n",
       "      <td>Michigan</td>\n",
       "      <td>12356103</td>\n",
       "      <td>1200167</td>\n",
       "      <td>1.80</td>\n",
       "      <td>255</td>\n",
       "      <td>24463.1876</td>\n",
       "      <td>946</td>\n",
       "      <td>76269.6140</td>\n",
       "      <td>MI</td>\n",
       "    </tr>\n",
       "    <tr>\n",
       "      <th>46</th>\n",
       "      <td>Washington</td>\n",
       "      <td>49661687</td>\n",
       "      <td>2584458</td>\n",
       "      <td>32.40</td>\n",
       "      <td>506</td>\n",
       "      <td>33402.6517</td>\n",
       "      <td>1883</td>\n",
       "      <td>138641.2700</td>\n",
       "      <td>WA</td>\n",
       "    </tr>\n",
       "    <tr>\n",
       "      <th>47</th>\n",
       "      <td>New York</td>\n",
       "      <td>11835721</td>\n",
       "      <td>5452096</td>\n",
       "      <td>62.40</td>\n",
       "      <td>1128</td>\n",
       "      <td>74038.5486</td>\n",
       "      <td>4224</td>\n",
       "      <td>310876.2710</td>\n",
       "      <td>NY</td>\n",
       "    </tr>\n",
       "    <tr>\n",
       "      <th>48</th>\n",
       "      <td>California</td>\n",
       "      <td>184382639</td>\n",
       "      <td>10137449</td>\n",
       "      <td>145.60</td>\n",
       "      <td>2001</td>\n",
       "      <td>76381.3871</td>\n",
       "      <td>7667</td>\n",
       "      <td>457687.6315</td>\n",
       "      <td>CA</td>\n",
       "    </tr>\n",
       "  </tbody>\n",
       "</table>\n",
       "</div>"
      ],
      "text/plain": [
       "                   State  Postal Code    Row ID  Discount  Number of Records  \\\n",
       "0                  Texas     75747693   5085541    364.64                985   \n",
       "1                   Ohio     20579836   2355994    152.40                469   \n",
       "2           Pennsylvania     11190565   2768523    192.90                587   \n",
       "3               Illinois     29873772   2571481    191.90                492   \n",
       "4         North Carolina      6994384   1219177     70.60                249   \n",
       "5               Colorado     14613828    797002     57.60                182   \n",
       "6              Tennessee      6890574   1068141     53.30                183   \n",
       "7                Arizona     19102126   1019876     68.00                224   \n",
       "8                Florida     12640225   1958255    114.65                383   \n",
       "9                 Oregon     12072125    652996     35.80                124   \n",
       "10               Wyoming        82001      5870      0.20                  1   \n",
       "11         West Virginia       104012     33175      0.30                  4   \n",
       "12          North Dakota       406721     36796      0.00                  7   \n",
       "13          South Dakota       686730     48858      0.00                 12   \n",
       "14                 Maine        34725     46198      0.00                  8   \n",
       "15                 Idaho      1752709    129427      1.80                 21   \n",
       "16                Kansas      1603798    125372      0.00                 24   \n",
       "17  District of Columbia       200160     17918      0.00                 10   \n",
       "18            New Mexico      3241556    166251      2.20                 37   \n",
       "19                  Iowa      1537707    142173      0.00                 30   \n",
       "20         New Hampshire        93835    135645      0.30                 27   \n",
       "21        South Carolina      1230068    194095      0.00                 42   \n",
       "22               Montana       892376     61438      1.00                 15   \n",
       "23              Nebraska      2588614    205384      0.00                 38   \n",
       "24             Louisiana      2972649    173625      0.00                 42   \n",
       "25               Vermont        59488     91049      0.00                 11   \n",
       "26                  Utah      4462368    193525      3.20                 53   \n",
       "27           Mississippi      2077023    250903      0.00                 53   \n",
       "28                Nevada      3476337    223546      2.40                 39   \n",
       "29           Connecticut       531005    444411      0.60                 82   \n",
       "30              Arkansas      4339309    304575      0.00                 60   \n",
       "31              Oklahoma      4863120    328549      0.00                 66   \n",
       "32               Alabama      2195669    243876      0.00                 61   \n",
       "33              Missouri      4298362    325246      0.00                 66   \n",
       "34         Massachusetts       268295    708877      2.10                135   \n",
       "35              Maryland      2206740    556423      0.60                105   \n",
       "36          Rhode Island       162878    305385      1.20                 56   \n",
       "37             Wisconsin      5899704    570981      0.00                110   \n",
       "38            New Jersey      1007934    653855      0.60                130   \n",
       "39              Delaware      1896504    504370      0.60                 96   \n",
       "40             Minnesota      4932224    316645      0.00                 89   \n",
       "41              Kentucky      5725336    698921      0.00                139   \n",
       "42               Georgia      5685480    883590      0.00                184   \n",
       "43               Indiana      6991602    728770      0.00                149   \n",
       "44              Virginia      5124335   1218137      0.00                224   \n",
       "45              Michigan     12356103   1200167      1.80                255   \n",
       "46            Washington     49661687   2584458     32.40                506   \n",
       "47              New York     11835721   5452096     62.40               1128   \n",
       "48            California    184382639  10137449    145.60               2001   \n",
       "\n",
       "        Profit  Quantity        Sales    id  \n",
       "0  -25729.3563      3724  170188.0458    TX  \n",
       "1  -16971.3766      1759   78258.1360    OH  \n",
       "2  -15559.9603      2153  116511.9140    PA  \n",
       "3  -12607.8870      1845   80166.1010    IL  \n",
       "4   -7490.9122       983   55603.1640    NC  \n",
       "5   -6527.8579       693   32108.1180    CO  \n",
       "6   -5341.6936       681   30661.8730    TN  \n",
       "7   -3427.9246       862   35282.0010    AZ  \n",
       "8   -3399.3017      1379   89473.7080    FL  \n",
       "9   -1190.4705       499   17431.1500    OR  \n",
       "10    100.1960         4    1603.1360    WY  \n",
       "11    185.9216        18    1209.8240    WV  \n",
       "12    230.1497        30     919.9100    ND  \n",
       "13    394.8283        42    1315.5600    SD  \n",
       "14    454.4862        35    1270.5300    ME  \n",
       "15    826.7231        64    4382.4860    ID  \n",
       "16    836.4435        74    2914.3100    KS  \n",
       "17   1059.5893        40    2865.0200  None  \n",
       "18   1157.1161       151    4783.5220    NM  \n",
       "19   1183.8119       112    4579.7600    IA  \n",
       "20   1706.5028       127    7292.5240    NH  \n",
       "21   1769.0566       172    8481.7100    SC  \n",
       "22   1833.3285        56    5589.3520    MT  \n",
       "23   2037.0942       136    7464.9300    NE  \n",
       "24   2196.1023       156    9217.0300    LA  \n",
       "25   2244.9783        50    8929.3700    VT  \n",
       "26   2546.5335       219   11220.0560    UT  \n",
       "27   3172.9762       221   10771.3400    MS  \n",
       "28   3316.7659       168   16729.1020    NV  \n",
       "29   3511.4918       281   13384.3570    CT  \n",
       "30   4008.6871       240   11678.1300    AR  \n",
       "31   4853.9560       247   19683.3900    OK  \n",
       "32   5786.8253       256   19510.6400    AL  \n",
       "33   6436.2105       252   22205.1500    MO  \n",
       "34   6785.5016       491   28634.4340    MA  \n",
       "35   7031.1788       420   23705.5230    MD  \n",
       "36   7285.6293       199   22627.9560    RI  \n",
       "37   8401.8004       463   32114.6100    WI  \n",
       "38   9772.9138       454   35764.3120    NJ  \n",
       "39   9977.3748       367   27451.0690    DE  \n",
       "40  10823.1874       331   29863.1500    MN  \n",
       "41  11199.6966       523   36591.7500    KY  \n",
       "42  16250.0433       705   49095.8400    GA  \n",
       "43  18382.9363       578   53555.3600    IN  \n",
       "44  18597.9504       893   70636.7200    VA  \n",
       "45  24463.1876       946   76269.6140    MI  \n",
       "46  33402.6517      1883  138641.2700    WA  \n",
       "47  74038.5486      4224  310876.2710    NY  \n",
       "48  76381.3871      7667  457687.6315    CA  "
      ]
     },
     "execution_count": 10,
     "metadata": {},
     "output_type": "execute_result"
    }
   ],
   "source": [
    "# Entonces, hay que crear una columna en el dataframe que tenga el id del estado para que podamos hacer el merge con el geojson\n",
    "df2['id'] = (df2['State']\n",
    "             .apply(lambda x: [item['id'] for item in data['features'] \n",
    "                                          if item['properties']['name'] == x][0]\n",
    "                                          if [item['id'] for item in data['features']\n",
    "                                          if item['properties']['name'] == x] else None)\n",
    "            )\n",
    "df2"
   ]
  },
  {
   "cell_type": "code",
   "execution_count": 11,
   "metadata": {},
   "outputs": [
    {
     "data": {
      "application/vnd.plotly.v1+json": {
       "config": {
        "plotlyServerURL": "https://plot.ly"
       },
       "data": [
        {
         "coloraxis": "coloraxis",
         "geojson": "https://raw.githubusercontent.com/python-visualization/folium/master/examples/data/us-states.json",
         "hovertemplate": "id=%{location}<br>Profit=%{z}<extra></extra>",
         "locations": [
          "TX",
          "OH",
          "PA",
          "IL",
          "NC",
          "CO",
          "TN",
          "AZ",
          "FL",
          "OR",
          "WY",
          "WV",
          "ND",
          "SD",
          "ME",
          "ID",
          "KS",
          null,
          "NM",
          "IA",
          "NH",
          "SC",
          "MT",
          "NE",
          "LA",
          "VT",
          "UT",
          "MS",
          "NV",
          "CT",
          "AR",
          "OK",
          "AL",
          "MO",
          "MA",
          "MD",
          "RI",
          "WI",
          "NJ",
          "DE",
          "MN",
          "KY",
          "GA",
          "IN",
          "VA",
          "MI",
          "WA",
          "NY",
          "CA"
         ],
         "marker": {
          "opacity": 0.75
         },
         "name": "",
         "subplot": "mapbox",
         "type": "choroplethmapbox",
         "z": [
          -25729.3563,
          -16971.3766,
          -15559.9603,
          -12607.887,
          -7490.9122,
          -6527.8579,
          -5341.6936,
          -3427.9246000000003,
          -3399.3017000000004,
          -1190.4705000000001,
          100.196,
          185.9216,
          230.1497,
          394.8283,
          454.4862,
          826.7231,
          836.4435,
          1059.5892999999999,
          1157.1161,
          1183.8119,
          1706.5028,
          1769.0566,
          1833.3285,
          2037.0942,
          2196.1023,
          2244.9782999999998,
          2546.5335,
          3172.9762,
          3316.7659,
          3511.4918,
          4008.6871,
          4853.956,
          5786.8253,
          6436.2105,
          6785.5016,
          7031.1788,
          7285.6293,
          8401.8004,
          9772.9138,
          9977.3748,
          10823.187399999999,
          11199.6966,
          16250.0433,
          18382.9363,
          18597.9504,
          24463.1876,
          33402.6517,
          74038.5486,
          76381.3871
         ]
        }
       ],
       "layout": {
        "coloraxis": {
         "colorbar": {
          "title": {
           "text": "Profit"
          }
         },
         "colorscale": [
          [
           0,
           "#440154"
          ],
          [
           0.1111111111111111,
           "#482878"
          ],
          [
           0.2222222222222222,
           "#3e4989"
          ],
          [
           0.3333333333333333,
           "#31688e"
          ],
          [
           0.4444444444444444,
           "#26828e"
          ],
          [
           0.5555555555555556,
           "#1f9e89"
          ],
          [
           0.6666666666666666,
           "#35b779"
          ],
          [
           0.7777777777777778,
           "#6ece58"
          ],
          [
           0.8888888888888888,
           "#b5de2b"
          ],
          [
           1,
           "#fde725"
          ]
         ]
        },
        "legend": {
         "tracegroupgap": 0
        },
        "mapbox": {
         "center": {
          "lat": 37.0902,
          "lon": -95.7129
         },
         "domain": {
          "x": [
           0,
           1
          ],
          "y": [
           0,
           1
          ]
         },
         "style": "carto-positron",
         "zoom": 3
        },
        "margin": {
         "t": 60
        },
        "template": {
         "data": {
          "bar": [
           {
            "error_x": {
             "color": "#2a3f5f"
            },
            "error_y": {
             "color": "#2a3f5f"
            },
            "marker": {
             "line": {
              "color": "#E5ECF6",
              "width": 0.5
             },
             "pattern": {
              "fillmode": "overlay",
              "size": 10,
              "solidity": 0.2
             }
            },
            "type": "bar"
           }
          ],
          "barpolar": [
           {
            "marker": {
             "line": {
              "color": "#E5ECF6",
              "width": 0.5
             },
             "pattern": {
              "fillmode": "overlay",
              "size": 10,
              "solidity": 0.2
             }
            },
            "type": "barpolar"
           }
          ],
          "carpet": [
           {
            "aaxis": {
             "endlinecolor": "#2a3f5f",
             "gridcolor": "white",
             "linecolor": "white",
             "minorgridcolor": "white",
             "startlinecolor": "#2a3f5f"
            },
            "baxis": {
             "endlinecolor": "#2a3f5f",
             "gridcolor": "white",
             "linecolor": "white",
             "minorgridcolor": "white",
             "startlinecolor": "#2a3f5f"
            },
            "type": "carpet"
           }
          ],
          "choropleth": [
           {
            "colorbar": {
             "outlinewidth": 0,
             "ticks": ""
            },
            "type": "choropleth"
           }
          ],
          "contour": [
           {
            "colorbar": {
             "outlinewidth": 0,
             "ticks": ""
            },
            "colorscale": [
             [
              0,
              "#0d0887"
             ],
             [
              0.1111111111111111,
              "#46039f"
             ],
             [
              0.2222222222222222,
              "#7201a8"
             ],
             [
              0.3333333333333333,
              "#9c179e"
             ],
             [
              0.4444444444444444,
              "#bd3786"
             ],
             [
              0.5555555555555556,
              "#d8576b"
             ],
             [
              0.6666666666666666,
              "#ed7953"
             ],
             [
              0.7777777777777778,
              "#fb9f3a"
             ],
             [
              0.8888888888888888,
              "#fdca26"
             ],
             [
              1,
              "#f0f921"
             ]
            ],
            "type": "contour"
           }
          ],
          "contourcarpet": [
           {
            "colorbar": {
             "outlinewidth": 0,
             "ticks": ""
            },
            "type": "contourcarpet"
           }
          ],
          "heatmap": [
           {
            "colorbar": {
             "outlinewidth": 0,
             "ticks": ""
            },
            "colorscale": [
             [
              0,
              "#0d0887"
             ],
             [
              0.1111111111111111,
              "#46039f"
             ],
             [
              0.2222222222222222,
              "#7201a8"
             ],
             [
              0.3333333333333333,
              "#9c179e"
             ],
             [
              0.4444444444444444,
              "#bd3786"
             ],
             [
              0.5555555555555556,
              "#d8576b"
             ],
             [
              0.6666666666666666,
              "#ed7953"
             ],
             [
              0.7777777777777778,
              "#fb9f3a"
             ],
             [
              0.8888888888888888,
              "#fdca26"
             ],
             [
              1,
              "#f0f921"
             ]
            ],
            "type": "heatmap"
           }
          ],
          "heatmapgl": [
           {
            "colorbar": {
             "outlinewidth": 0,
             "ticks": ""
            },
            "colorscale": [
             [
              0,
              "#0d0887"
             ],
             [
              0.1111111111111111,
              "#46039f"
             ],
             [
              0.2222222222222222,
              "#7201a8"
             ],
             [
              0.3333333333333333,
              "#9c179e"
             ],
             [
              0.4444444444444444,
              "#bd3786"
             ],
             [
              0.5555555555555556,
              "#d8576b"
             ],
             [
              0.6666666666666666,
              "#ed7953"
             ],
             [
              0.7777777777777778,
              "#fb9f3a"
             ],
             [
              0.8888888888888888,
              "#fdca26"
             ],
             [
              1,
              "#f0f921"
             ]
            ],
            "type": "heatmapgl"
           }
          ],
          "histogram": [
           {
            "marker": {
             "pattern": {
              "fillmode": "overlay",
              "size": 10,
              "solidity": 0.2
             }
            },
            "type": "histogram"
           }
          ],
          "histogram2d": [
           {
            "colorbar": {
             "outlinewidth": 0,
             "ticks": ""
            },
            "colorscale": [
             [
              0,
              "#0d0887"
             ],
             [
              0.1111111111111111,
              "#46039f"
             ],
             [
              0.2222222222222222,
              "#7201a8"
             ],
             [
              0.3333333333333333,
              "#9c179e"
             ],
             [
              0.4444444444444444,
              "#bd3786"
             ],
             [
              0.5555555555555556,
              "#d8576b"
             ],
             [
              0.6666666666666666,
              "#ed7953"
             ],
             [
              0.7777777777777778,
              "#fb9f3a"
             ],
             [
              0.8888888888888888,
              "#fdca26"
             ],
             [
              1,
              "#f0f921"
             ]
            ],
            "type": "histogram2d"
           }
          ],
          "histogram2dcontour": [
           {
            "colorbar": {
             "outlinewidth": 0,
             "ticks": ""
            },
            "colorscale": [
             [
              0,
              "#0d0887"
             ],
             [
              0.1111111111111111,
              "#46039f"
             ],
             [
              0.2222222222222222,
              "#7201a8"
             ],
             [
              0.3333333333333333,
              "#9c179e"
             ],
             [
              0.4444444444444444,
              "#bd3786"
             ],
             [
              0.5555555555555556,
              "#d8576b"
             ],
             [
              0.6666666666666666,
              "#ed7953"
             ],
             [
              0.7777777777777778,
              "#fb9f3a"
             ],
             [
              0.8888888888888888,
              "#fdca26"
             ],
             [
              1,
              "#f0f921"
             ]
            ],
            "type": "histogram2dcontour"
           }
          ],
          "mesh3d": [
           {
            "colorbar": {
             "outlinewidth": 0,
             "ticks": ""
            },
            "type": "mesh3d"
           }
          ],
          "parcoords": [
           {
            "line": {
             "colorbar": {
              "outlinewidth": 0,
              "ticks": ""
             }
            },
            "type": "parcoords"
           }
          ],
          "pie": [
           {
            "automargin": true,
            "type": "pie"
           }
          ],
          "scatter": [
           {
            "fillpattern": {
             "fillmode": "overlay",
             "size": 10,
             "solidity": 0.2
            },
            "type": "scatter"
           }
          ],
          "scatter3d": [
           {
            "line": {
             "colorbar": {
              "outlinewidth": 0,
              "ticks": ""
             }
            },
            "marker": {
             "colorbar": {
              "outlinewidth": 0,
              "ticks": ""
             }
            },
            "type": "scatter3d"
           }
          ],
          "scattercarpet": [
           {
            "marker": {
             "colorbar": {
              "outlinewidth": 0,
              "ticks": ""
             }
            },
            "type": "scattercarpet"
           }
          ],
          "scattergeo": [
           {
            "marker": {
             "colorbar": {
              "outlinewidth": 0,
              "ticks": ""
             }
            },
            "type": "scattergeo"
           }
          ],
          "scattergl": [
           {
            "marker": {
             "colorbar": {
              "outlinewidth": 0,
              "ticks": ""
             }
            },
            "type": "scattergl"
           }
          ],
          "scattermapbox": [
           {
            "marker": {
             "colorbar": {
              "outlinewidth": 0,
              "ticks": ""
             }
            },
            "type": "scattermapbox"
           }
          ],
          "scatterpolar": [
           {
            "marker": {
             "colorbar": {
              "outlinewidth": 0,
              "ticks": ""
             }
            },
            "type": "scatterpolar"
           }
          ],
          "scatterpolargl": [
           {
            "marker": {
             "colorbar": {
              "outlinewidth": 0,
              "ticks": ""
             }
            },
            "type": "scatterpolargl"
           }
          ],
          "scatterternary": [
           {
            "marker": {
             "colorbar": {
              "outlinewidth": 0,
              "ticks": ""
             }
            },
            "type": "scatterternary"
           }
          ],
          "surface": [
           {
            "colorbar": {
             "outlinewidth": 0,
             "ticks": ""
            },
            "colorscale": [
             [
              0,
              "#0d0887"
             ],
             [
              0.1111111111111111,
              "#46039f"
             ],
             [
              0.2222222222222222,
              "#7201a8"
             ],
             [
              0.3333333333333333,
              "#9c179e"
             ],
             [
              0.4444444444444444,
              "#bd3786"
             ],
             [
              0.5555555555555556,
              "#d8576b"
             ],
             [
              0.6666666666666666,
              "#ed7953"
             ],
             [
              0.7777777777777778,
              "#fb9f3a"
             ],
             [
              0.8888888888888888,
              "#fdca26"
             ],
             [
              1,
              "#f0f921"
             ]
            ],
            "type": "surface"
           }
          ],
          "table": [
           {
            "cells": {
             "fill": {
              "color": "#EBF0F8"
             },
             "line": {
              "color": "white"
             }
            },
            "header": {
             "fill": {
              "color": "#C8D4E3"
             },
             "line": {
              "color": "white"
             }
            },
            "type": "table"
           }
          ]
         },
         "layout": {
          "annotationdefaults": {
           "arrowcolor": "#2a3f5f",
           "arrowhead": 0,
           "arrowwidth": 1
          },
          "autotypenumbers": "strict",
          "coloraxis": {
           "colorbar": {
            "outlinewidth": 0,
            "ticks": ""
           }
          },
          "colorscale": {
           "diverging": [
            [
             0,
             "#8e0152"
            ],
            [
             0.1,
             "#c51b7d"
            ],
            [
             0.2,
             "#de77ae"
            ],
            [
             0.3,
             "#f1b6da"
            ],
            [
             0.4,
             "#fde0ef"
            ],
            [
             0.5,
             "#f7f7f7"
            ],
            [
             0.6,
             "#e6f5d0"
            ],
            [
             0.7,
             "#b8e186"
            ],
            [
             0.8,
             "#7fbc41"
            ],
            [
             0.9,
             "#4d9221"
            ],
            [
             1,
             "#276419"
            ]
           ],
           "sequential": [
            [
             0,
             "#0d0887"
            ],
            [
             0.1111111111111111,
             "#46039f"
            ],
            [
             0.2222222222222222,
             "#7201a8"
            ],
            [
             0.3333333333333333,
             "#9c179e"
            ],
            [
             0.4444444444444444,
             "#bd3786"
            ],
            [
             0.5555555555555556,
             "#d8576b"
            ],
            [
             0.6666666666666666,
             "#ed7953"
            ],
            [
             0.7777777777777778,
             "#fb9f3a"
            ],
            [
             0.8888888888888888,
             "#fdca26"
            ],
            [
             1,
             "#f0f921"
            ]
           ],
           "sequentialminus": [
            [
             0,
             "#0d0887"
            ],
            [
             0.1111111111111111,
             "#46039f"
            ],
            [
             0.2222222222222222,
             "#7201a8"
            ],
            [
             0.3333333333333333,
             "#9c179e"
            ],
            [
             0.4444444444444444,
             "#bd3786"
            ],
            [
             0.5555555555555556,
             "#d8576b"
            ],
            [
             0.6666666666666666,
             "#ed7953"
            ],
            [
             0.7777777777777778,
             "#fb9f3a"
            ],
            [
             0.8888888888888888,
             "#fdca26"
            ],
            [
             1,
             "#f0f921"
            ]
           ]
          },
          "colorway": [
           "#636efa",
           "#EF553B",
           "#00cc96",
           "#ab63fa",
           "#FFA15A",
           "#19d3f3",
           "#FF6692",
           "#B6E880",
           "#FF97FF",
           "#FECB52"
          ],
          "font": {
           "color": "#2a3f5f"
          },
          "geo": {
           "bgcolor": "white",
           "lakecolor": "white",
           "landcolor": "#E5ECF6",
           "showlakes": true,
           "showland": true,
           "subunitcolor": "white"
          },
          "hoverlabel": {
           "align": "left"
          },
          "hovermode": "closest",
          "mapbox": {
           "style": "light"
          },
          "paper_bgcolor": "white",
          "plot_bgcolor": "#E5ECF6",
          "polar": {
           "angularaxis": {
            "gridcolor": "white",
            "linecolor": "white",
            "ticks": ""
           },
           "bgcolor": "#E5ECF6",
           "radialaxis": {
            "gridcolor": "white",
            "linecolor": "white",
            "ticks": ""
           }
          },
          "scene": {
           "xaxis": {
            "backgroundcolor": "#E5ECF6",
            "gridcolor": "white",
            "gridwidth": 2,
            "linecolor": "white",
            "showbackground": true,
            "ticks": "",
            "zerolinecolor": "white"
           },
           "yaxis": {
            "backgroundcolor": "#E5ECF6",
            "gridcolor": "white",
            "gridwidth": 2,
            "linecolor": "white",
            "showbackground": true,
            "ticks": "",
            "zerolinecolor": "white"
           },
           "zaxis": {
            "backgroundcolor": "#E5ECF6",
            "gridcolor": "white",
            "gridwidth": 2,
            "linecolor": "white",
            "showbackground": true,
            "ticks": "",
            "zerolinecolor": "white"
           }
          },
          "shapedefaults": {
           "line": {
            "color": "#2a3f5f"
           }
          },
          "ternary": {
           "aaxis": {
            "gridcolor": "white",
            "linecolor": "white",
            "ticks": ""
           },
           "baxis": {
            "gridcolor": "white",
            "linecolor": "white",
            "ticks": ""
           },
           "bgcolor": "#E5ECF6",
           "caxis": {
            "gridcolor": "white",
            "linecolor": "white",
            "ticks": ""
           }
          },
          "title": {
           "x": 0.05
          },
          "xaxis": {
           "automargin": true,
           "gridcolor": "white",
           "linecolor": "white",
           "ticks": "",
           "title": {
            "standoff": 15
           },
           "zerolinecolor": "white",
           "zerolinewidth": 2
          },
          "yaxis": {
           "automargin": true,
           "gridcolor": "white",
           "linecolor": "white",
           "ticks": "",
           "title": {
            "standoff": 15
           },
           "zerolinecolor": "white",
           "zerolinewidth": 2
          }
         }
        }
       }
      }
     },
     "metadata": {},
     "output_type": "display_data"
    }
   ],
   "source": [
    "# create choropleth_mapbox\n",
    "fig = px.choropleth_mapbox(df2,\n",
    "                           geojson=geojson,\n",
    "                           locations='id',\n",
    "                           color='Profit',\n",
    "                           color_continuous_scale='viridis', # https://plotly.com/python/builtin-colorscales/\n",
    "                           mapbox_style='carto-positron',\n",
    "                           zoom=3,\n",
    "                           center={'lat': 37.0902, 'lon': -95.7129},\n",
    "                           opacity=0.75,\n",
    "                          )\n",
    "fig.show()"
   ]
  },
  {
   "cell_type": "markdown",
   "metadata": {},
   "source": [
    "Geojson España:\n",
    "\n",
    "https://github.com/codeforgermany/click_that_hood/blob/main/public/data/spain-provinces.geojson"
   ]
  }
 ],
 "metadata": {
  "kernelspec": {
   "display_name": ".venv",
   "language": "python",
   "name": "python3"
  },
  "language_info": {
   "codemirror_mode": {
    "name": "ipython",
    "version": 3
   },
   "file_extension": ".py",
   "mimetype": "text/x-python",
   "name": "python",
   "nbconvert_exporter": "python",
   "pygments_lexer": "ipython3",
   "version": "3.11.4"
  }
 },
 "nbformat": 4,
 "nbformat_minor": 2
}
